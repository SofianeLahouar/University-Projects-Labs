{
 "cells": [
  {
   "cell_type": "markdown",
   "metadata": {
    "id": "iobX6gcqCWAy"
   },
   "source": [
    "## This lab is done by :\n",
    "## Hiba JOUINI\n",
    "## Sofiene LAHOUAR"
   ]
  },
  {
   "cell_type": "code",
   "execution_count": null,
   "metadata": {
    "colab": {
     "base_uri": "https://localhost:8080/"
    },
    "id": "oqr8o8pEgOsW",
    "outputId": "384c945e-9e1a-458c-e304-d9cd50df8f81"
   },
   "outputs": [
    {
     "name": "stdout",
     "output_type": "stream",
     "text": [
      "Requirement already satisfied: pandas in /usr/local/lib/python3.7/dist-packages (1.3.5)\n",
      "Requirement already satisfied: python-dateutil>=2.7.3 in /usr/local/lib/python3.7/dist-packages (from pandas) (2.8.2)\n",
      "Requirement already satisfied: numpy>=1.17.3 in /usr/local/lib/python3.7/dist-packages (from pandas) (1.19.5)\n",
      "Requirement already satisfied: pytz>=2017.3 in /usr/local/lib/python3.7/dist-packages (from pandas) (2018.9)\n",
      "Requirement already satisfied: six>=1.5 in /usr/local/lib/python3.7/dist-packages (from python-dateutil>=2.7.3->pandas) (1.15.0)\n"
     ]
    }
   ],
   "source": [
    "!pip install --upgrade pandas"
   ]
  },
  {
   "cell_type": "markdown",
   "metadata": {
    "id": "ce6c47e0"
   },
   "source": [
    "- This workshop should be done groups of 2 as much as possible\n",
    "- The report should be a pdf export of this notebook (no `.pynb` or `.html`)"
   ]
  },
  {
   "cell_type": "markdown",
   "metadata": {
    "id": "6652b4b6"
   },
   "source": [
    "# Content Based Recommendantion"
   ]
  },
  {
   "cell_type": "code",
   "execution_count": null,
   "metadata": {
    "id": "e24ba7a9"
   },
   "outputs": [],
   "source": [
    "from IPython.core.display import HTML\n",
    "import matplotlib.pyplot as plt\n",
    "HTML(\"\"\"\n",
    "<style>\n",
    ".output_png {\n",
    "    display: table-cell;\n",
    "    text-align: center;\n",
    "    vertical-align: middle;\n",
    "}\n",
    "</style>\n",
    "\"\"\")\n",
    "\n",
    "plt.rcParams[\"figure.figsize\"] = (20, 10)"
   ]
  },
  {
   "cell_type": "markdown",
   "metadata": {
    "id": "b09d74e0"
   },
   "source": [
    "<div>\n",
    "<img src=\"https://miro.medium.com/max/2400/1*BME1JjIlBEAI9BV5pOO5Mg.png\" width=\"300\"/>\n",
    "</div>"
   ]
  },
  {
   "cell_type": "markdown",
   "metadata": {
    "id": "a3a5dcea"
   },
   "source": [
    "## The data"
   ]
  },
  {
   "cell_type": "markdown",
   "metadata": {
    "id": "d537d836"
   },
   "source": [
    "The data comes from imdb. It contains movie titles `title`, associated with their description, cast and director's name, all in a single column called `combined`."
   ]
  },
  {
   "cell_type": "code",
   "execution_count": null,
   "metadata": {
    "colab": {
     "base_uri": "https://localhost:8080/"
    },
    "id": "FGJpUvtXv-Ca",
    "outputId": "22782ef7-3192-4eeb-ac22-24c609d32b66"
   },
   "outputs": [
    {
     "name": "stdout",
     "output_type": "stream",
     "text": [
      "Drive already mounted at /content/drive; to attempt to forcibly remount, call drive.mount(\"/content/drive\", force_remount=True).\n"
     ]
    }
   ],
   "source": [
    "from google.colab import drive\n",
    "drive.mount('/content/drive')"
   ]
  },
  {
   "cell_type": "code",
   "execution_count": null,
   "metadata": {
    "id": "afa7383d"
   },
   "outputs": [],
   "source": [
    "import pickle\n",
    "import pandas as pd\n",
    "with open('/content/drive/MyDrive/data/movies_db.pkl','rb') as f:\n",
    "    movie_database = pd.DataFrame(pickle.load(f))[['title', 'combined']]"
   ]
  },
  {
   "cell_type": "code",
   "execution_count": null,
   "metadata": {
    "colab": {
     "base_uri": "https://localhost:8080/",
     "height": 206
    },
    "id": "32e94d07",
    "outputId": "ea91ce9a-0807-4969-d8e8-1c4e78ecceab"
   },
   "outputs": [
    {
     "data": {
      "text/html": [
       "\n",
       "  <div id=\"df-d890b541-39a6-48a0-9eed-2a70f7863f46\">\n",
       "    <div class=\"colab-df-container\">\n",
       "      <div>\n",
       "<style scoped>\n",
       "    .dataframe tbody tr th:only-of-type {\n",
       "        vertical-align: middle;\n",
       "    }\n",
       "\n",
       "    .dataframe tbody tr th {\n",
       "        vertical-align: top;\n",
       "    }\n",
       "\n",
       "    .dataframe thead th {\n",
       "        text-align: right;\n",
       "    }\n",
       "</style>\n",
       "<table border=\"1\" class=\"dataframe\">\n",
       "  <thead>\n",
       "    <tr style=\"text-align: right;\">\n",
       "      <th></th>\n",
       "      <th>title</th>\n",
       "      <th>combined</th>\n",
       "    </tr>\n",
       "  </thead>\n",
       "  <tbody>\n",
       "    <tr>\n",
       "      <th>0</th>\n",
       "      <td>Avatar</td>\n",
       "      <td>in the 22nd century, a paraplegic marine is di...</td>\n",
       "    </tr>\n",
       "    <tr>\n",
       "      <th>1</th>\n",
       "      <td>Pirates of the Caribbean: At World's End</td>\n",
       "      <td>captain barbossa, long believed to be dead, ha...</td>\n",
       "    </tr>\n",
       "    <tr>\n",
       "      <th>2</th>\n",
       "      <td>Spectre</td>\n",
       "      <td>a cryptic message from bond’s past sends him o...</td>\n",
       "    </tr>\n",
       "    <tr>\n",
       "      <th>3</th>\n",
       "      <td>The Dark Knight Rises</td>\n",
       "      <td>following the death of district attorney harve...</td>\n",
       "    </tr>\n",
       "    <tr>\n",
       "      <th>4</th>\n",
       "      <td>John Carter</td>\n",
       "      <td>john carter is a war-weary, former military ca...</td>\n",
       "    </tr>\n",
       "  </tbody>\n",
       "</table>\n",
       "</div>\n",
       "      <button class=\"colab-df-convert\" onclick=\"convertToInteractive('df-d890b541-39a6-48a0-9eed-2a70f7863f46')\"\n",
       "              title=\"Convert this dataframe to an interactive table.\"\n",
       "              style=\"display:none;\">\n",
       "        \n",
       "  <svg xmlns=\"http://www.w3.org/2000/svg\" height=\"24px\"viewBox=\"0 0 24 24\"\n",
       "       width=\"24px\">\n",
       "    <path d=\"M0 0h24v24H0V0z\" fill=\"none\"/>\n",
       "    <path d=\"M18.56 5.44l.94 2.06.94-2.06 2.06-.94-2.06-.94-.94-2.06-.94 2.06-2.06.94zm-11 1L8.5 8.5l.94-2.06 2.06-.94-2.06-.94L8.5 2.5l-.94 2.06-2.06.94zm10 10l.94 2.06.94-2.06 2.06-.94-2.06-.94-.94-2.06-.94 2.06-2.06.94z\"/><path d=\"M17.41 7.96l-1.37-1.37c-.4-.4-.92-.59-1.43-.59-.52 0-1.04.2-1.43.59L10.3 9.45l-7.72 7.72c-.78.78-.78 2.05 0 2.83L4 21.41c.39.39.9.59 1.41.59.51 0 1.02-.2 1.41-.59l7.78-7.78 2.81-2.81c.8-.78.8-2.07 0-2.86zM5.41 20L4 18.59l7.72-7.72 1.47 1.35L5.41 20z\"/>\n",
       "  </svg>\n",
       "      </button>\n",
       "      \n",
       "  <style>\n",
       "    .colab-df-container {\n",
       "      display:flex;\n",
       "      flex-wrap:wrap;\n",
       "      gap: 12px;\n",
       "    }\n",
       "\n",
       "    .colab-df-convert {\n",
       "      background-color: #E8F0FE;\n",
       "      border: none;\n",
       "      border-radius: 50%;\n",
       "      cursor: pointer;\n",
       "      display: none;\n",
       "      fill: #1967D2;\n",
       "      height: 32px;\n",
       "      padding: 0 0 0 0;\n",
       "      width: 32px;\n",
       "    }\n",
       "\n",
       "    .colab-df-convert:hover {\n",
       "      background-color: #E2EBFA;\n",
       "      box-shadow: 0px 1px 2px rgba(60, 64, 67, 0.3), 0px 1px 3px 1px rgba(60, 64, 67, 0.15);\n",
       "      fill: #174EA6;\n",
       "    }\n",
       "\n",
       "    [theme=dark] .colab-df-convert {\n",
       "      background-color: #3B4455;\n",
       "      fill: #D2E3FC;\n",
       "    }\n",
       "\n",
       "    [theme=dark] .colab-df-convert:hover {\n",
       "      background-color: #434B5C;\n",
       "      box-shadow: 0px 1px 3px 1px rgba(0, 0, 0, 0.15);\n",
       "      filter: drop-shadow(0px 1px 2px rgba(0, 0, 0, 0.3));\n",
       "      fill: #FFFFFF;\n",
       "    }\n",
       "  </style>\n",
       "\n",
       "      <script>\n",
       "        const buttonEl =\n",
       "          document.querySelector('#df-d890b541-39a6-48a0-9eed-2a70f7863f46 button.colab-df-convert');\n",
       "        buttonEl.style.display =\n",
       "          google.colab.kernel.accessAllowed ? 'block' : 'none';\n",
       "\n",
       "        async function convertToInteractive(key) {\n",
       "          const element = document.querySelector('#df-d890b541-39a6-48a0-9eed-2a70f7863f46');\n",
       "          const dataTable =\n",
       "            await google.colab.kernel.invokeFunction('convertToInteractive',\n",
       "                                                     [key], {});\n",
       "          if (!dataTable) return;\n",
       "\n",
       "          const docLinkHtml = 'Like what you see? Visit the ' +\n",
       "            '<a target=\"_blank\" href=https://colab.research.google.com/notebooks/data_table.ipynb>data table notebook</a>'\n",
       "            + ' to learn more about interactive tables.';\n",
       "          element.innerHTML = '';\n",
       "          dataTable['output_type'] = 'display_data';\n",
       "          await google.colab.output.renderOutput(dataTable, element);\n",
       "          const docLink = document.createElement('div');\n",
       "          docLink.innerHTML = docLinkHtml;\n",
       "          element.appendChild(docLink);\n",
       "        }\n",
       "      </script>\n",
       "    </div>\n",
       "  </div>\n",
       "  "
      ],
      "text/plain": [
       "                                      title                                           combined\n",
       "0                                    Avatar  in the 22nd century, a paraplegic marine is di...\n",
       "1  Pirates of the Caribbean: At World's End  captain barbossa, long believed to be dead, ha...\n",
       "2                                   Spectre  a cryptic message from bond’s past sends him o...\n",
       "3                     The Dark Knight Rises  following the death of district attorney harve...\n",
       "4                               John Carter  john carter is a war-weary, former military ca..."
      ]
     },
     "execution_count": 5,
     "metadata": {},
     "output_type": "execute_result"
    }
   ],
   "source": [
    "movie_database.head()"
   ]
  },
  {
   "cell_type": "code",
   "execution_count": null,
   "metadata": {
    "colab": {
     "base_uri": "https://localhost:8080/"
    },
    "id": "5efa4791",
    "outputId": "0c722234-8c6b-459b-e6b1-6bde8c5a8f40"
   },
   "outputs": [
    {
     "name": "stdout",
     "output_type": "stream",
     "text": [
      "Title\n",
      "\tAvatar\n",
      "Description\n",
      "\tin the 22nd century, a paraplegic marine is dispatched to the moon pandora on a unique mission, but becomes torn between following orders and protecting an alien civilization. samworthington zoesaldana sigourneyweaver jamescameron action adventure fantasy sciencefiction\n"
     ]
    }
   ],
   "source": [
    "print(\"Title\\n\\t{}\".format(movie_database.iloc[0]['title']))\n",
    "print(\"Description\\n\\t{}\".format(movie_database.iloc[0]['combined']))"
   ]
  },
  {
   "cell_type": "markdown",
   "metadata": {
    "id": "0460e8b1"
   },
   "source": [
    "## Data preparation"
   ]
  },
  {
   "cell_type": "markdown",
   "metadata": {
    "id": "19472ca3"
   },
   "source": [
    "##### Question 1\n",
    "Use the `TfidfVectorizer` ([documentation](https://scikit-learn.org/stable/modules/generated/sklearn.feature_extraction.text.TfidfVectorizer.html)) class to create a matrix `matrix` (vector of vectors) where each vector is the bag of word representation of the movie's description with the TfIdf weights. "
   ]
  },
  {
   "cell_type": "markdown",
   "metadata": {
    "id": "37053443"
   },
   "source": [
    "##### Solution"
   ]
  },
  {
   "cell_type": "code",
   "execution_count": null,
   "metadata": {
    "id": "0c5f94f6"
   },
   "outputs": [],
   "source": [
    "from sklearn.feature_extraction.text import TfidfVectorizer"
   ]
  },
  {
   "cell_type": "code",
   "execution_count": null,
   "metadata": {
    "id": "7BxDKmJHxwZX"
   },
   "outputs": [],
   "source": [
    "imdb_vectorizer = TfidfVectorizer(\n",
    "                                  #max_df=0.8, \n",
    "                                  max_features=200000,\n",
    "                                  min_df=0.001, \n",
    "                                  stop_words='english',\n",
    "                                  ngram_range=(1,3))\n",
    "X = imdb_vectorizer.fit_transform(movie_database['combined'])"
   ]
  },
  {
   "cell_type": "code",
   "execution_count": null,
   "metadata": {
    "colab": {
     "base_uri": "https://localhost:8080/"
    },
    "id": "DrkhkMIvx6VH",
    "outputId": "cfe21d17-1e59-4469-81c2-8bd012d3d50e"
   },
   "outputs": [
    {
     "data": {
      "text/plain": [
       "(5999, 6452)"
      ]
     },
     "execution_count": 9,
     "metadata": {},
     "output_type": "execute_result"
    }
   ],
   "source": [
    "X.shape"
   ]
  },
  {
   "cell_type": "markdown",
   "metadata": {
    "id": "c4647c04"
   },
   "source": [
    "## Recommendation"
   ]
  },
  {
   "cell_type": "markdown",
   "metadata": {
    "id": "68e7caab"
   },
   "source": [
    "##### Question 2\n",
    "Create a function `content_based_recommender` which takes a movie title and returns the five closest movies using the distance between the previously computed vectors."
   ]
  },
  {
   "cell_type": "markdown",
   "metadata": {
    "id": "1559aee1"
   },
   "source": [
    "##### Solution"
   ]
  },
  {
   "cell_type": "code",
   "execution_count": null,
   "metadata": {
    "id": "i4WyCvcozNT0"
   },
   "outputs": [],
   "source": [
    "from sklearn.metrics.pairwise import cosine_similarity"
   ]
  },
  {
   "cell_type": "code",
   "execution_count": null,
   "metadata": {
    "id": "2c19bf04"
   },
   "outputs": [],
   "source": [
    "def content_based_recommender(movie_title):\n",
    "  \n",
    "  number_of_similar_movies = 10\n",
    "\n",
    "  similarity_matrix = cosine_similarity(X)\n",
    "\n",
    "  title_to_index = movie_database[movie_database.title == movie_title].index.values[0]\n",
    "  \n",
    "  similar_movies = list(enumerate(similarity_matrix[title_to_index]))\n",
    "  \n",
    "  sorted_similar_movies = sorted(similar_movies,key=lambda tup: tup[1],reverse=True)[1:]\n",
    "\n",
    "  for i in range(number_of_similar_movies):\n",
    "    title = movie_database.loc[sorted_similar_movies[i][0]]['title']\n",
    "    print(title)\n",
    "  \n",
    "  return"
   ]
  },
  {
   "cell_type": "code",
   "execution_count": null,
   "metadata": {
    "colab": {
     "base_uri": "https://localhost:8080/"
    },
    "id": "2ce51275",
    "outputId": "067a553b-1fee-48e4-9a26-fcba725cc314"
   },
   "outputs": [
    {
     "name": "stdout",
     "output_type": "stream",
     "text": [
      "Batman v Superman: Dawn of Justice\n",
      "Zack Snyder's Justice League\n",
      "Dragonball Evolution\n",
      "X-Men: Days of Future Past\n",
      "Beastmaster 2: Through the Portal of Time\n",
      "Superman II\n",
      "Avatar\n",
      "Jumper\n",
      "Mortal Kombat\n",
      "Shazam!\n"
     ]
    }
   ],
   "source": [
    "# Testing the recommender engine\n",
    "# Depending on your distance metric you can have different results\n",
    "content_based_recommender('Man of Steel')"
   ]
  },
  {
   "cell_type": "markdown",
   "metadata": {
    "id": "5d934323"
   },
   "source": [
    "##### Question 3\n",
    "In a production setting (real time answers, lots of users etc.):\n",
    "- What are the advantages/drawbacks of this approach ?\n",
    "- Which solution can we use to reduce these drawbacks ?"
   ]
  },
  {
   "cell_type": "markdown",
   "metadata": {
    "id": "90bfdeec"
   },
   "source": [
    "##### Answer"
   ]
  },
  {
   "cell_type": "markdown",
   "metadata": {
    "id": "118aaab5"
   },
   "source": [
    "\n",
    "In a production setting, The advantages of this apporach are the depandency from the number of users (meaning that scaling the same algorithm for a lot of users would be easy to optimize). \n",
    "\n",
    "Howerever, for the drawbacks, this approach doesn't take into consideration new users who never watched a movie because it only depends on the movies you \"already\" watched or for old users, it can reach the point where this approach doesn't give them any new \"interesting\" recommandations. Also, adding new movies will require us to retrain the TF-IDF representation which can affect the results of our prediction the more we add new movies. \n",
    "\n",
    "Solutions: We can use the demographic information and other information from cookies to give new users recommendations based on this information. And, To mitigate the effects of TF-IDF representation (while adding new movies), we can use another type of representation of the movies with more advanced embedding techniques."
   ]
  },
  {
   "cell_type": "markdown",
   "metadata": {
    "id": "4327adf1"
   },
   "source": [
    "# Collaborative Filtering"
   ]
  },
  {
   "cell_type": "markdown",
   "metadata": {
    "id": "4553831c"
   },
   "source": [
    "<div>\n",
    "<img src=\"https://miro.medium.com/max/2400/1*x8gTiprhLs7zflmEn1UjAQ.png\" width=\"400\"/>\n",
    "</div>\n"
   ]
  },
  {
   "cell_type": "markdown",
   "metadata": {
    "id": "b3fa959d"
   },
   "source": [
    "## The data"
   ]
  },
  {
   "cell_type": "markdown",
   "metadata": {
    "id": "3737bc66"
   },
   "source": [
    "The data comes from the [Book Recommendation Dataset](https://www.kaggle.com/arashnic/book-recommendation-dataset?select=Ratings.csv)."
   ]
  },
  {
   "cell_type": "code",
   "execution_count": null,
   "metadata": {
    "id": "05272661"
   },
   "outputs": [],
   "source": [
    "import pandas as pd\n",
    "\n",
    "read_params = {\"sep\":';', \"on_bad_lines\":'skip', \"encoding\":\"latin-1\", \"compression\": \"gzip\", \"low_memory\":False}\n",
    "rating = pd.read_csv('/content/drive/MyDrive/data//BX-Book-Ratings.csv.gz', **read_params)\n",
    "user = pd.read_csv('/content/drive/MyDrive/data/BX-Users.csv.gz', **read_params)\n",
    "book = pd.read_csv('/content/drive/MyDrive/data/BX-Books.csv.gz', **read_params)\n",
    "\n",
    "book['Book-ID'] = book.index\n",
    "\n",
    "cols = ['Year-Of-Publication', 'Publisher', 'Book-Author', 'Image-URL-S', 'Image-URL-M', 'Image-URL-L']\n",
    "book_rating = pd.merge(rating, book, on='ISBN').drop(cols, axis=1)"
   ]
  },
  {
   "cell_type": "code",
   "execution_count": null,
   "metadata": {
    "colab": {
     "base_uri": "https://localhost:8080/",
     "height": 206
    },
    "id": "e722561b",
    "outputId": "e0eb2984-8a36-4ea0-a04c-7451b19d8999"
   },
   "outputs": [
    {
     "data": {
      "text/html": [
       "\n",
       "  <div id=\"df-b8afc04a-c503-4496-a53a-d555bc56fe89\">\n",
       "    <div class=\"colab-df-container\">\n",
       "      <div>\n",
       "<style scoped>\n",
       "    .dataframe tbody tr th:only-of-type {\n",
       "        vertical-align: middle;\n",
       "    }\n",
       "\n",
       "    .dataframe tbody tr th {\n",
       "        vertical-align: top;\n",
       "    }\n",
       "\n",
       "    .dataframe thead th {\n",
       "        text-align: right;\n",
       "    }\n",
       "</style>\n",
       "<table border=\"1\" class=\"dataframe\">\n",
       "  <thead>\n",
       "    <tr style=\"text-align: right;\">\n",
       "      <th></th>\n",
       "      <th>User-ID</th>\n",
       "      <th>ISBN</th>\n",
       "      <th>Book-Rating</th>\n",
       "    </tr>\n",
       "  </thead>\n",
       "  <tbody>\n",
       "    <tr>\n",
       "      <th>0</th>\n",
       "      <td>276725</td>\n",
       "      <td>034545104X</td>\n",
       "      <td>0</td>\n",
       "    </tr>\n",
       "    <tr>\n",
       "      <th>1</th>\n",
       "      <td>276726</td>\n",
       "      <td>0155061224</td>\n",
       "      <td>5</td>\n",
       "    </tr>\n",
       "    <tr>\n",
       "      <th>2</th>\n",
       "      <td>276727</td>\n",
       "      <td>0446520802</td>\n",
       "      <td>0</td>\n",
       "    </tr>\n",
       "    <tr>\n",
       "      <th>3</th>\n",
       "      <td>276729</td>\n",
       "      <td>052165615X</td>\n",
       "      <td>3</td>\n",
       "    </tr>\n",
       "    <tr>\n",
       "      <th>4</th>\n",
       "      <td>276729</td>\n",
       "      <td>0521795028</td>\n",
       "      <td>6</td>\n",
       "    </tr>\n",
       "  </tbody>\n",
       "</table>\n",
       "</div>\n",
       "      <button class=\"colab-df-convert\" onclick=\"convertToInteractive('df-b8afc04a-c503-4496-a53a-d555bc56fe89')\"\n",
       "              title=\"Convert this dataframe to an interactive table.\"\n",
       "              style=\"display:none;\">\n",
       "        \n",
       "  <svg xmlns=\"http://www.w3.org/2000/svg\" height=\"24px\"viewBox=\"0 0 24 24\"\n",
       "       width=\"24px\">\n",
       "    <path d=\"M0 0h24v24H0V0z\" fill=\"none\"/>\n",
       "    <path d=\"M18.56 5.44l.94 2.06.94-2.06 2.06-.94-2.06-.94-.94-2.06-.94 2.06-2.06.94zm-11 1L8.5 8.5l.94-2.06 2.06-.94-2.06-.94L8.5 2.5l-.94 2.06-2.06.94zm10 10l.94 2.06.94-2.06 2.06-.94-2.06-.94-.94-2.06-.94 2.06-2.06.94z\"/><path d=\"M17.41 7.96l-1.37-1.37c-.4-.4-.92-.59-1.43-.59-.52 0-1.04.2-1.43.59L10.3 9.45l-7.72 7.72c-.78.78-.78 2.05 0 2.83L4 21.41c.39.39.9.59 1.41.59.51 0 1.02-.2 1.41-.59l7.78-7.78 2.81-2.81c.8-.78.8-2.07 0-2.86zM5.41 20L4 18.59l7.72-7.72 1.47 1.35L5.41 20z\"/>\n",
       "  </svg>\n",
       "      </button>\n",
       "      \n",
       "  <style>\n",
       "    .colab-df-container {\n",
       "      display:flex;\n",
       "      flex-wrap:wrap;\n",
       "      gap: 12px;\n",
       "    }\n",
       "\n",
       "    .colab-df-convert {\n",
       "      background-color: #E8F0FE;\n",
       "      border: none;\n",
       "      border-radius: 50%;\n",
       "      cursor: pointer;\n",
       "      display: none;\n",
       "      fill: #1967D2;\n",
       "      height: 32px;\n",
       "      padding: 0 0 0 0;\n",
       "      width: 32px;\n",
       "    }\n",
       "\n",
       "    .colab-df-convert:hover {\n",
       "      background-color: #E2EBFA;\n",
       "      box-shadow: 0px 1px 2px rgba(60, 64, 67, 0.3), 0px 1px 3px 1px rgba(60, 64, 67, 0.15);\n",
       "      fill: #174EA6;\n",
       "    }\n",
       "\n",
       "    [theme=dark] .colab-df-convert {\n",
       "      background-color: #3B4455;\n",
       "      fill: #D2E3FC;\n",
       "    }\n",
       "\n",
       "    [theme=dark] .colab-df-convert:hover {\n",
       "      background-color: #434B5C;\n",
       "      box-shadow: 0px 1px 3px 1px rgba(0, 0, 0, 0.15);\n",
       "      filter: drop-shadow(0px 1px 2px rgba(0, 0, 0, 0.3));\n",
       "      fill: #FFFFFF;\n",
       "    }\n",
       "  </style>\n",
       "\n",
       "      <script>\n",
       "        const buttonEl =\n",
       "          document.querySelector('#df-b8afc04a-c503-4496-a53a-d555bc56fe89 button.colab-df-convert');\n",
       "        buttonEl.style.display =\n",
       "          google.colab.kernel.accessAllowed ? 'block' : 'none';\n",
       "\n",
       "        async function convertToInteractive(key) {\n",
       "          const element = document.querySelector('#df-b8afc04a-c503-4496-a53a-d555bc56fe89');\n",
       "          const dataTable =\n",
       "            await google.colab.kernel.invokeFunction('convertToInteractive',\n",
       "                                                     [key], {});\n",
       "          if (!dataTable) return;\n",
       "\n",
       "          const docLinkHtml = 'Like what you see? Visit the ' +\n",
       "            '<a target=\"_blank\" href=https://colab.research.google.com/notebooks/data_table.ipynb>data table notebook</a>'\n",
       "            + ' to learn more about interactive tables.';\n",
       "          element.innerHTML = '';\n",
       "          dataTable['output_type'] = 'display_data';\n",
       "          await google.colab.output.renderOutput(dataTable, element);\n",
       "          const docLink = document.createElement('div');\n",
       "          docLink.innerHTML = docLinkHtml;\n",
       "          element.appendChild(docLink);\n",
       "        }\n",
       "      </script>\n",
       "    </div>\n",
       "  </div>\n",
       "  "
      ],
      "text/plain": [
       "   User-ID        ISBN  Book-Rating\n",
       "0   276725  034545104X            0\n",
       "1   276726  0155061224            5\n",
       "2   276727  0446520802            0\n",
       "3   276729  052165615X            3\n",
       "4   276729  0521795028            6"
      ]
     },
     "execution_count": 14,
     "metadata": {},
     "output_type": "execute_result"
    }
   ],
   "source": [
    "rating.head()"
   ]
  },
  {
   "cell_type": "code",
   "execution_count": null,
   "metadata": {
    "colab": {
     "base_uri": "https://localhost:8080/",
     "height": 206
    },
    "id": "d45fa35d",
    "outputId": "0d85daa0-2be1-441c-e931-a7c9e1d527c0"
   },
   "outputs": [
    {
     "data": {
      "text/html": [
       "\n",
       "  <div id=\"df-109b3977-d5ff-4f4c-9e52-0daf02354ff1\">\n",
       "    <div class=\"colab-df-container\">\n",
       "      <div>\n",
       "<style scoped>\n",
       "    .dataframe tbody tr th:only-of-type {\n",
       "        vertical-align: middle;\n",
       "    }\n",
       "\n",
       "    .dataframe tbody tr th {\n",
       "        vertical-align: top;\n",
       "    }\n",
       "\n",
       "    .dataframe thead th {\n",
       "        text-align: right;\n",
       "    }\n",
       "</style>\n",
       "<table border=\"1\" class=\"dataframe\">\n",
       "  <thead>\n",
       "    <tr style=\"text-align: right;\">\n",
       "      <th></th>\n",
       "      <th>User-ID</th>\n",
       "      <th>Location</th>\n",
       "      <th>Age</th>\n",
       "    </tr>\n",
       "  </thead>\n",
       "  <tbody>\n",
       "    <tr>\n",
       "      <th>0</th>\n",
       "      <td>1</td>\n",
       "      <td>nyc, new york, usa</td>\n",
       "      <td>NaN</td>\n",
       "    </tr>\n",
       "    <tr>\n",
       "      <th>1</th>\n",
       "      <td>2</td>\n",
       "      <td>stockton, california, usa</td>\n",
       "      <td>18.0</td>\n",
       "    </tr>\n",
       "    <tr>\n",
       "      <th>2</th>\n",
       "      <td>3</td>\n",
       "      <td>moscow, yukon territory, russia</td>\n",
       "      <td>NaN</td>\n",
       "    </tr>\n",
       "    <tr>\n",
       "      <th>3</th>\n",
       "      <td>4</td>\n",
       "      <td>porto, v.n.gaia, portugal</td>\n",
       "      <td>17.0</td>\n",
       "    </tr>\n",
       "    <tr>\n",
       "      <th>4</th>\n",
       "      <td>5</td>\n",
       "      <td>farnborough, hants, united kingdom</td>\n",
       "      <td>NaN</td>\n",
       "    </tr>\n",
       "  </tbody>\n",
       "</table>\n",
       "</div>\n",
       "      <button class=\"colab-df-convert\" onclick=\"convertToInteractive('df-109b3977-d5ff-4f4c-9e52-0daf02354ff1')\"\n",
       "              title=\"Convert this dataframe to an interactive table.\"\n",
       "              style=\"display:none;\">\n",
       "        \n",
       "  <svg xmlns=\"http://www.w3.org/2000/svg\" height=\"24px\"viewBox=\"0 0 24 24\"\n",
       "       width=\"24px\">\n",
       "    <path d=\"M0 0h24v24H0V0z\" fill=\"none\"/>\n",
       "    <path d=\"M18.56 5.44l.94 2.06.94-2.06 2.06-.94-2.06-.94-.94-2.06-.94 2.06-2.06.94zm-11 1L8.5 8.5l.94-2.06 2.06-.94-2.06-.94L8.5 2.5l-.94 2.06-2.06.94zm10 10l.94 2.06.94-2.06 2.06-.94-2.06-.94-.94-2.06-.94 2.06-2.06.94z\"/><path d=\"M17.41 7.96l-1.37-1.37c-.4-.4-.92-.59-1.43-.59-.52 0-1.04.2-1.43.59L10.3 9.45l-7.72 7.72c-.78.78-.78 2.05 0 2.83L4 21.41c.39.39.9.59 1.41.59.51 0 1.02-.2 1.41-.59l7.78-7.78 2.81-2.81c.8-.78.8-2.07 0-2.86zM5.41 20L4 18.59l7.72-7.72 1.47 1.35L5.41 20z\"/>\n",
       "  </svg>\n",
       "      </button>\n",
       "      \n",
       "  <style>\n",
       "    .colab-df-container {\n",
       "      display:flex;\n",
       "      flex-wrap:wrap;\n",
       "      gap: 12px;\n",
       "    }\n",
       "\n",
       "    .colab-df-convert {\n",
       "      background-color: #E8F0FE;\n",
       "      border: none;\n",
       "      border-radius: 50%;\n",
       "      cursor: pointer;\n",
       "      display: none;\n",
       "      fill: #1967D2;\n",
       "      height: 32px;\n",
       "      padding: 0 0 0 0;\n",
       "      width: 32px;\n",
       "    }\n",
       "\n",
       "    .colab-df-convert:hover {\n",
       "      background-color: #E2EBFA;\n",
       "      box-shadow: 0px 1px 2px rgba(60, 64, 67, 0.3), 0px 1px 3px 1px rgba(60, 64, 67, 0.15);\n",
       "      fill: #174EA6;\n",
       "    }\n",
       "\n",
       "    [theme=dark] .colab-df-convert {\n",
       "      background-color: #3B4455;\n",
       "      fill: #D2E3FC;\n",
       "    }\n",
       "\n",
       "    [theme=dark] .colab-df-convert:hover {\n",
       "      background-color: #434B5C;\n",
       "      box-shadow: 0px 1px 3px 1px rgba(0, 0, 0, 0.15);\n",
       "      filter: drop-shadow(0px 1px 2px rgba(0, 0, 0, 0.3));\n",
       "      fill: #FFFFFF;\n",
       "    }\n",
       "  </style>\n",
       "\n",
       "      <script>\n",
       "        const buttonEl =\n",
       "          document.querySelector('#df-109b3977-d5ff-4f4c-9e52-0daf02354ff1 button.colab-df-convert');\n",
       "        buttonEl.style.display =\n",
       "          google.colab.kernel.accessAllowed ? 'block' : 'none';\n",
       "\n",
       "        async function convertToInteractive(key) {\n",
       "          const element = document.querySelector('#df-109b3977-d5ff-4f4c-9e52-0daf02354ff1');\n",
       "          const dataTable =\n",
       "            await google.colab.kernel.invokeFunction('convertToInteractive',\n",
       "                                                     [key], {});\n",
       "          if (!dataTable) return;\n",
       "\n",
       "          const docLinkHtml = 'Like what you see? Visit the ' +\n",
       "            '<a target=\"_blank\" href=https://colab.research.google.com/notebooks/data_table.ipynb>data table notebook</a>'\n",
       "            + ' to learn more about interactive tables.';\n",
       "          element.innerHTML = '';\n",
       "          dataTable['output_type'] = 'display_data';\n",
       "          await google.colab.output.renderOutput(dataTable, element);\n",
       "          const docLink = document.createElement('div');\n",
       "          docLink.innerHTML = docLinkHtml;\n",
       "          element.appendChild(docLink);\n",
       "        }\n",
       "      </script>\n",
       "    </div>\n",
       "  </div>\n",
       "  "
      ],
      "text/plain": [
       "   User-ID                            Location   Age\n",
       "0        1                  nyc, new york, usa   NaN\n",
       "1        2           stockton, california, usa  18.0\n",
       "2        3     moscow, yukon territory, russia   NaN\n",
       "3        4           porto, v.n.gaia, portugal  17.0\n",
       "4        5  farnborough, hants, united kingdom   NaN"
      ]
     },
     "execution_count": 15,
     "metadata": {},
     "output_type": "execute_result"
    }
   ],
   "source": [
    "user.head()"
   ]
  },
  {
   "cell_type": "code",
   "execution_count": null,
   "metadata": {
    "colab": {
     "base_uri": "https://localhost:8080/",
     "height": 479
    },
    "id": "c863c52d",
    "outputId": "5248c6c3-7a99-4a7c-d75a-78b59e913c8a"
   },
   "outputs": [
    {
     "data": {
      "text/html": [
       "\n",
       "  <div id=\"df-4a4d2f6e-f9e1-4edc-a413-3e4ce29a670e\">\n",
       "    <div class=\"colab-df-container\">\n",
       "      <div>\n",
       "<style scoped>\n",
       "    .dataframe tbody tr th:only-of-type {\n",
       "        vertical-align: middle;\n",
       "    }\n",
       "\n",
       "    .dataframe tbody tr th {\n",
       "        vertical-align: top;\n",
       "    }\n",
       "\n",
       "    .dataframe thead th {\n",
       "        text-align: right;\n",
       "    }\n",
       "</style>\n",
       "<table border=\"1\" class=\"dataframe\">\n",
       "  <thead>\n",
       "    <tr style=\"text-align: right;\">\n",
       "      <th></th>\n",
       "      <th>ISBN</th>\n",
       "      <th>Book-Title</th>\n",
       "      <th>Book-Author</th>\n",
       "      <th>Year-Of-Publication</th>\n",
       "      <th>Publisher</th>\n",
       "      <th>Image-URL-S</th>\n",
       "      <th>Image-URL-M</th>\n",
       "      <th>Image-URL-L</th>\n",
       "      <th>Book-ID</th>\n",
       "    </tr>\n",
       "  </thead>\n",
       "  <tbody>\n",
       "    <tr>\n",
       "      <th>0</th>\n",
       "      <td>0195153448</td>\n",
       "      <td>Classical Mythology</td>\n",
       "      <td>Mark P. O. Morford</td>\n",
       "      <td>2002</td>\n",
       "      <td>Oxford University Press</td>\n",
       "      <td>http://images.amazon.com/images/P/0195153448.0...</td>\n",
       "      <td>http://images.amazon.com/images/P/0195153448.0...</td>\n",
       "      <td>http://images.amazon.com/images/P/0195153448.0...</td>\n",
       "      <td>0</td>\n",
       "    </tr>\n",
       "    <tr>\n",
       "      <th>1</th>\n",
       "      <td>0002005018</td>\n",
       "      <td>Clara Callan</td>\n",
       "      <td>Richard Bruce Wright</td>\n",
       "      <td>2001</td>\n",
       "      <td>HarperFlamingo Canada</td>\n",
       "      <td>http://images.amazon.com/images/P/0002005018.0...</td>\n",
       "      <td>http://images.amazon.com/images/P/0002005018.0...</td>\n",
       "      <td>http://images.amazon.com/images/P/0002005018.0...</td>\n",
       "      <td>1</td>\n",
       "    </tr>\n",
       "    <tr>\n",
       "      <th>2</th>\n",
       "      <td>0060973129</td>\n",
       "      <td>Decision in Normandy</td>\n",
       "      <td>Carlo D'Este</td>\n",
       "      <td>1991</td>\n",
       "      <td>HarperPerennial</td>\n",
       "      <td>http://images.amazon.com/images/P/0060973129.0...</td>\n",
       "      <td>http://images.amazon.com/images/P/0060973129.0...</td>\n",
       "      <td>http://images.amazon.com/images/P/0060973129.0...</td>\n",
       "      <td>2</td>\n",
       "    </tr>\n",
       "    <tr>\n",
       "      <th>3</th>\n",
       "      <td>0374157065</td>\n",
       "      <td>Flu: The Story of the Great Influenza Pandemic...</td>\n",
       "      <td>Gina Bari Kolata</td>\n",
       "      <td>1999</td>\n",
       "      <td>Farrar Straus Giroux</td>\n",
       "      <td>http://images.amazon.com/images/P/0374157065.0...</td>\n",
       "      <td>http://images.amazon.com/images/P/0374157065.0...</td>\n",
       "      <td>http://images.amazon.com/images/P/0374157065.0...</td>\n",
       "      <td>3</td>\n",
       "    </tr>\n",
       "    <tr>\n",
       "      <th>4</th>\n",
       "      <td>0393045218</td>\n",
       "      <td>The Mummies of Urumchi</td>\n",
       "      <td>E. J. W. Barber</td>\n",
       "      <td>1999</td>\n",
       "      <td>W. W. Norton &amp;amp; Company</td>\n",
       "      <td>http://images.amazon.com/images/P/0393045218.0...</td>\n",
       "      <td>http://images.amazon.com/images/P/0393045218.0...</td>\n",
       "      <td>http://images.amazon.com/images/P/0393045218.0...</td>\n",
       "      <td>4</td>\n",
       "    </tr>\n",
       "  </tbody>\n",
       "</table>\n",
       "</div>\n",
       "      <button class=\"colab-df-convert\" onclick=\"convertToInteractive('df-4a4d2f6e-f9e1-4edc-a413-3e4ce29a670e')\"\n",
       "              title=\"Convert this dataframe to an interactive table.\"\n",
       "              style=\"display:none;\">\n",
       "        \n",
       "  <svg xmlns=\"http://www.w3.org/2000/svg\" height=\"24px\"viewBox=\"0 0 24 24\"\n",
       "       width=\"24px\">\n",
       "    <path d=\"M0 0h24v24H0V0z\" fill=\"none\"/>\n",
       "    <path d=\"M18.56 5.44l.94 2.06.94-2.06 2.06-.94-2.06-.94-.94-2.06-.94 2.06-2.06.94zm-11 1L8.5 8.5l.94-2.06 2.06-.94-2.06-.94L8.5 2.5l-.94 2.06-2.06.94zm10 10l.94 2.06.94-2.06 2.06-.94-2.06-.94-.94-2.06-.94 2.06-2.06.94z\"/><path d=\"M17.41 7.96l-1.37-1.37c-.4-.4-.92-.59-1.43-.59-.52 0-1.04.2-1.43.59L10.3 9.45l-7.72 7.72c-.78.78-.78 2.05 0 2.83L4 21.41c.39.39.9.59 1.41.59.51 0 1.02-.2 1.41-.59l7.78-7.78 2.81-2.81c.8-.78.8-2.07 0-2.86zM5.41 20L4 18.59l7.72-7.72 1.47 1.35L5.41 20z\"/>\n",
       "  </svg>\n",
       "      </button>\n",
       "      \n",
       "  <style>\n",
       "    .colab-df-container {\n",
       "      display:flex;\n",
       "      flex-wrap:wrap;\n",
       "      gap: 12px;\n",
       "    }\n",
       "\n",
       "    .colab-df-convert {\n",
       "      background-color: #E8F0FE;\n",
       "      border: none;\n",
       "      border-radius: 50%;\n",
       "      cursor: pointer;\n",
       "      display: none;\n",
       "      fill: #1967D2;\n",
       "      height: 32px;\n",
       "      padding: 0 0 0 0;\n",
       "      width: 32px;\n",
       "    }\n",
       "\n",
       "    .colab-df-convert:hover {\n",
       "      background-color: #E2EBFA;\n",
       "      box-shadow: 0px 1px 2px rgba(60, 64, 67, 0.3), 0px 1px 3px 1px rgba(60, 64, 67, 0.15);\n",
       "      fill: #174EA6;\n",
       "    }\n",
       "\n",
       "    [theme=dark] .colab-df-convert {\n",
       "      background-color: #3B4455;\n",
       "      fill: #D2E3FC;\n",
       "    }\n",
       "\n",
       "    [theme=dark] .colab-df-convert:hover {\n",
       "      background-color: #434B5C;\n",
       "      box-shadow: 0px 1px 3px 1px rgba(0, 0, 0, 0.15);\n",
       "      filter: drop-shadow(0px 1px 2px rgba(0, 0, 0, 0.3));\n",
       "      fill: #FFFFFF;\n",
       "    }\n",
       "  </style>\n",
       "\n",
       "      <script>\n",
       "        const buttonEl =\n",
       "          document.querySelector('#df-4a4d2f6e-f9e1-4edc-a413-3e4ce29a670e button.colab-df-convert');\n",
       "        buttonEl.style.display =\n",
       "          google.colab.kernel.accessAllowed ? 'block' : 'none';\n",
       "\n",
       "        async function convertToInteractive(key) {\n",
       "          const element = document.querySelector('#df-4a4d2f6e-f9e1-4edc-a413-3e4ce29a670e');\n",
       "          const dataTable =\n",
       "            await google.colab.kernel.invokeFunction('convertToInteractive',\n",
       "                                                     [key], {});\n",
       "          if (!dataTable) return;\n",
       "\n",
       "          const docLinkHtml = 'Like what you see? Visit the ' +\n",
       "            '<a target=\"_blank\" href=https://colab.research.google.com/notebooks/data_table.ipynb>data table notebook</a>'\n",
       "            + ' to learn more about interactive tables.';\n",
       "          element.innerHTML = '';\n",
       "          dataTable['output_type'] = 'display_data';\n",
       "          await google.colab.output.renderOutput(dataTable, element);\n",
       "          const docLink = document.createElement('div');\n",
       "          docLink.innerHTML = docLinkHtml;\n",
       "          element.appendChild(docLink);\n",
       "        }\n",
       "      </script>\n",
       "    </div>\n",
       "  </div>\n",
       "  "
      ],
      "text/plain": [
       "         ISBN  ... Book-ID\n",
       "0  0195153448  ...       0\n",
       "1  0002005018  ...       1\n",
       "2  0060973129  ...       2\n",
       "3  0374157065  ...       3\n",
       "4  0393045218  ...       4\n",
       "\n",
       "[5 rows x 9 columns]"
      ]
     },
     "execution_count": 16,
     "metadata": {},
     "output_type": "execute_result"
    }
   ],
   "source": [
    "book.head()"
   ]
  },
  {
   "cell_type": "markdown",
   "metadata": {
    "id": "9a790e8b"
   },
   "source": [
    "---"
   ]
  },
  {
   "cell_type": "markdown",
   "metadata": {
    "id": "413ba239"
   },
   "source": [
    "##### Be careful, some books are published by multiple publisher. Let's say these are different books."
   ]
  },
  {
   "cell_type": "code",
   "execution_count": null,
   "metadata": {
    "colab": {
     "base_uri": "https://localhost:8080/",
     "height": 475
    },
    "id": "29980f74",
    "outputId": "730c6454-4af2-4abb-c553-70173b1714ce"
   },
   "outputs": [
    {
     "data": {
      "text/html": [
       "\n",
       "  <div id=\"df-e3f57999-0947-4e26-848d-2e4157002977\">\n",
       "    <div class=\"colab-df-container\">\n",
       "      <div>\n",
       "<style scoped>\n",
       "    .dataframe tbody tr th:only-of-type {\n",
       "        vertical-align: middle;\n",
       "    }\n",
       "\n",
       "    .dataframe tbody tr th {\n",
       "        vertical-align: top;\n",
       "    }\n",
       "\n",
       "    .dataframe thead th {\n",
       "        text-align: right;\n",
       "    }\n",
       "</style>\n",
       "<table border=\"1\" class=\"dataframe\">\n",
       "  <thead>\n",
       "    <tr style=\"text-align: right;\">\n",
       "      <th></th>\n",
       "      <th>ISBN</th>\n",
       "      <th>Book-Title</th>\n",
       "      <th>Book-Author</th>\n",
       "      <th>Year-Of-Publication</th>\n",
       "      <th>Publisher</th>\n",
       "      <th>Image-URL-S</th>\n",
       "      <th>Image-URL-M</th>\n",
       "      <th>Image-URL-L</th>\n",
       "      <th>Book-ID</th>\n",
       "    </tr>\n",
       "  </thead>\n",
       "  <tbody>\n",
       "    <tr>\n",
       "      <th>758</th>\n",
       "      <td>0385505833</td>\n",
       "      <td>Skipping Christmas</td>\n",
       "      <td>JOHN GRISHAM</td>\n",
       "      <td>2001</td>\n",
       "      <td>Doubleday</td>\n",
       "      <td>http://images.amazon.com/images/P/0385505833.0...</td>\n",
       "      <td>http://images.amazon.com/images/P/0385505833.0...</td>\n",
       "      <td>http://images.amazon.com/images/P/0385505833.0...</td>\n",
       "      <td>758</td>\n",
       "    </tr>\n",
       "    <tr>\n",
       "      <th>1451</th>\n",
       "      <td>0385508417</td>\n",
       "      <td>Skipping Christmas</td>\n",
       "      <td>JOHN GRISHAM</td>\n",
       "      <td>2002</td>\n",
       "      <td>Doubleday</td>\n",
       "      <td>http://images.amazon.com/images/P/0385508417.0...</td>\n",
       "      <td>http://images.amazon.com/images/P/0385508417.0...</td>\n",
       "      <td>http://images.amazon.com/images/P/0385508417.0...</td>\n",
       "      <td>1451</td>\n",
       "    </tr>\n",
       "    <tr>\n",
       "      <th>46560</th>\n",
       "      <td>0553712837</td>\n",
       "      <td>Skipping Christmas</td>\n",
       "      <td>John Grisham</td>\n",
       "      <td>2001</td>\n",
       "      <td>Bantam Books-Audio</td>\n",
       "      <td>http://images.amazon.com/images/P/0553712837.0...</td>\n",
       "      <td>http://images.amazon.com/images/P/0553712837.0...</td>\n",
       "      <td>http://images.amazon.com/images/P/0553712837.0...</td>\n",
       "      <td>46560</td>\n",
       "    </tr>\n",
       "    <tr>\n",
       "      <th>51157</th>\n",
       "      <td>0375431624</td>\n",
       "      <td>Skipping Christmas</td>\n",
       "      <td>JOHN GRISHAM</td>\n",
       "      <td>2001</td>\n",
       "      <td>Random House Large Print</td>\n",
       "      <td>http://images.amazon.com/images/P/0375431624.0...</td>\n",
       "      <td>http://images.amazon.com/images/P/0375431624.0...</td>\n",
       "      <td>http://images.amazon.com/images/P/0375431624.0...</td>\n",
       "      <td>51157</td>\n",
       "    </tr>\n",
       "    <tr>\n",
       "      <th>79978</th>\n",
       "      <td>0739301985</td>\n",
       "      <td>Skipping Christmas</td>\n",
       "      <td>JOHN GRISHAM</td>\n",
       "      <td>2002</td>\n",
       "      <td>Random House Audio</td>\n",
       "      <td>http://images.amazon.com/images/P/0739301985.0...</td>\n",
       "      <td>http://images.amazon.com/images/P/0739301985.0...</td>\n",
       "      <td>http://images.amazon.com/images/P/0739301985.0...</td>\n",
       "      <td>79978</td>\n",
       "    </tr>\n",
       "    <tr>\n",
       "      <th>266661</th>\n",
       "      <td>0739420712</td>\n",
       "      <td>Skipping Christmas</td>\n",
       "      <td>John Grisham</td>\n",
       "      <td>2001</td>\n",
       "      <td>Doubleday</td>\n",
       "      <td>http://images.amazon.com/images/P/0739420712.0...</td>\n",
       "      <td>http://images.amazon.com/images/P/0739420712.0...</td>\n",
       "      <td>http://images.amazon.com/images/P/0739420712.0...</td>\n",
       "      <td>266661</td>\n",
       "    </tr>\n",
       "  </tbody>\n",
       "</table>\n",
       "</div>\n",
       "      <button class=\"colab-df-convert\" onclick=\"convertToInteractive('df-e3f57999-0947-4e26-848d-2e4157002977')\"\n",
       "              title=\"Convert this dataframe to an interactive table.\"\n",
       "              style=\"display:none;\">\n",
       "        \n",
       "  <svg xmlns=\"http://www.w3.org/2000/svg\" height=\"24px\"viewBox=\"0 0 24 24\"\n",
       "       width=\"24px\">\n",
       "    <path d=\"M0 0h24v24H0V0z\" fill=\"none\"/>\n",
       "    <path d=\"M18.56 5.44l.94 2.06.94-2.06 2.06-.94-2.06-.94-.94-2.06-.94 2.06-2.06.94zm-11 1L8.5 8.5l.94-2.06 2.06-.94-2.06-.94L8.5 2.5l-.94 2.06-2.06.94zm10 10l.94 2.06.94-2.06 2.06-.94-2.06-.94-.94-2.06-.94 2.06-2.06.94z\"/><path d=\"M17.41 7.96l-1.37-1.37c-.4-.4-.92-.59-1.43-.59-.52 0-1.04.2-1.43.59L10.3 9.45l-7.72 7.72c-.78.78-.78 2.05 0 2.83L4 21.41c.39.39.9.59 1.41.59.51 0 1.02-.2 1.41-.59l7.78-7.78 2.81-2.81c.8-.78.8-2.07 0-2.86zM5.41 20L4 18.59l7.72-7.72 1.47 1.35L5.41 20z\"/>\n",
       "  </svg>\n",
       "      </button>\n",
       "      \n",
       "  <style>\n",
       "    .colab-df-container {\n",
       "      display:flex;\n",
       "      flex-wrap:wrap;\n",
       "      gap: 12px;\n",
       "    }\n",
       "\n",
       "    .colab-df-convert {\n",
       "      background-color: #E8F0FE;\n",
       "      border: none;\n",
       "      border-radius: 50%;\n",
       "      cursor: pointer;\n",
       "      display: none;\n",
       "      fill: #1967D2;\n",
       "      height: 32px;\n",
       "      padding: 0 0 0 0;\n",
       "      width: 32px;\n",
       "    }\n",
       "\n",
       "    .colab-df-convert:hover {\n",
       "      background-color: #E2EBFA;\n",
       "      box-shadow: 0px 1px 2px rgba(60, 64, 67, 0.3), 0px 1px 3px 1px rgba(60, 64, 67, 0.15);\n",
       "      fill: #174EA6;\n",
       "    }\n",
       "\n",
       "    [theme=dark] .colab-df-convert {\n",
       "      background-color: #3B4455;\n",
       "      fill: #D2E3FC;\n",
       "    }\n",
       "\n",
       "    [theme=dark] .colab-df-convert:hover {\n",
       "      background-color: #434B5C;\n",
       "      box-shadow: 0px 1px 3px 1px rgba(0, 0, 0, 0.15);\n",
       "      filter: drop-shadow(0px 1px 2px rgba(0, 0, 0, 0.3));\n",
       "      fill: #FFFFFF;\n",
       "    }\n",
       "  </style>\n",
       "\n",
       "      <script>\n",
       "        const buttonEl =\n",
       "          document.querySelector('#df-e3f57999-0947-4e26-848d-2e4157002977 button.colab-df-convert');\n",
       "        buttonEl.style.display =\n",
       "          google.colab.kernel.accessAllowed ? 'block' : 'none';\n",
       "\n",
       "        async function convertToInteractive(key) {\n",
       "          const element = document.querySelector('#df-e3f57999-0947-4e26-848d-2e4157002977');\n",
       "          const dataTable =\n",
       "            await google.colab.kernel.invokeFunction('convertToInteractive',\n",
       "                                                     [key], {});\n",
       "          if (!dataTable) return;\n",
       "\n",
       "          const docLinkHtml = 'Like what you see? Visit the ' +\n",
       "            '<a target=\"_blank\" href=https://colab.research.google.com/notebooks/data_table.ipynb>data table notebook</a>'\n",
       "            + ' to learn more about interactive tables.';\n",
       "          element.innerHTML = '';\n",
       "          dataTable['output_type'] = 'display_data';\n",
       "          await google.colab.output.renderOutput(dataTable, element);\n",
       "          const docLink = document.createElement('div');\n",
       "          docLink.innerHTML = docLinkHtml;\n",
       "          element.appendChild(docLink);\n",
       "        }\n",
       "      </script>\n",
       "    </div>\n",
       "  </div>\n",
       "  "
      ],
      "text/plain": [
       "              ISBN  ... Book-ID\n",
       "758     0385505833  ...     758\n",
       "1451    0385508417  ...    1451\n",
       "46560   0553712837  ...   46560\n",
       "51157   0375431624  ...   51157\n",
       "79978   0739301985  ...   79978\n",
       "266661  0739420712  ...  266661\n",
       "\n",
       "[6 rows x 9 columns]"
      ]
     },
     "execution_count": 17,
     "metadata": {},
     "output_type": "execute_result"
    }
   ],
   "source": [
    "book[book['Book-Title'] == \"Skipping Christmas\"]"
   ]
  },
  {
   "cell_type": "code",
   "execution_count": null,
   "metadata": {
    "colab": {
     "base_uri": "https://localhost:8080/",
     "height": 206
    },
    "id": "6ec97b67",
    "outputId": "26ec242f-1e7a-4a86-8ce8-b92db945f6d0"
   },
   "outputs": [
    {
     "data": {
      "text/html": [
       "\n",
       "  <div id=\"df-a2437b03-80c7-4535-ac9f-0c80d168e98a\">\n",
       "    <div class=\"colab-df-container\">\n",
       "      <div>\n",
       "<style scoped>\n",
       "    .dataframe tbody tr th:only-of-type {\n",
       "        vertical-align: middle;\n",
       "    }\n",
       "\n",
       "    .dataframe tbody tr th {\n",
       "        vertical-align: top;\n",
       "    }\n",
       "\n",
       "    .dataframe thead th {\n",
       "        text-align: right;\n",
       "    }\n",
       "</style>\n",
       "<table border=\"1\" class=\"dataframe\">\n",
       "  <thead>\n",
       "    <tr style=\"text-align: right;\">\n",
       "      <th></th>\n",
       "      <th>User-ID</th>\n",
       "      <th>ISBN</th>\n",
       "      <th>Book-Rating</th>\n",
       "      <th>Book-Title</th>\n",
       "      <th>Book-ID</th>\n",
       "    </tr>\n",
       "  </thead>\n",
       "  <tbody>\n",
       "    <tr>\n",
       "      <th>0</th>\n",
       "      <td>276725</td>\n",
       "      <td>034545104X</td>\n",
       "      <td>0</td>\n",
       "      <td>Flesh Tones: A Novel</td>\n",
       "      <td>2966</td>\n",
       "    </tr>\n",
       "    <tr>\n",
       "      <th>1</th>\n",
       "      <td>2313</td>\n",
       "      <td>034545104X</td>\n",
       "      <td>5</td>\n",
       "      <td>Flesh Tones: A Novel</td>\n",
       "      <td>2966</td>\n",
       "    </tr>\n",
       "    <tr>\n",
       "      <th>2</th>\n",
       "      <td>6543</td>\n",
       "      <td>034545104X</td>\n",
       "      <td>0</td>\n",
       "      <td>Flesh Tones: A Novel</td>\n",
       "      <td>2966</td>\n",
       "    </tr>\n",
       "    <tr>\n",
       "      <th>3</th>\n",
       "      <td>8680</td>\n",
       "      <td>034545104X</td>\n",
       "      <td>5</td>\n",
       "      <td>Flesh Tones: A Novel</td>\n",
       "      <td>2966</td>\n",
       "    </tr>\n",
       "    <tr>\n",
       "      <th>4</th>\n",
       "      <td>10314</td>\n",
       "      <td>034545104X</td>\n",
       "      <td>9</td>\n",
       "      <td>Flesh Tones: A Novel</td>\n",
       "      <td>2966</td>\n",
       "    </tr>\n",
       "  </tbody>\n",
       "</table>\n",
       "</div>\n",
       "      <button class=\"colab-df-convert\" onclick=\"convertToInteractive('df-a2437b03-80c7-4535-ac9f-0c80d168e98a')\"\n",
       "              title=\"Convert this dataframe to an interactive table.\"\n",
       "              style=\"display:none;\">\n",
       "        \n",
       "  <svg xmlns=\"http://www.w3.org/2000/svg\" height=\"24px\"viewBox=\"0 0 24 24\"\n",
       "       width=\"24px\">\n",
       "    <path d=\"M0 0h24v24H0V0z\" fill=\"none\"/>\n",
       "    <path d=\"M18.56 5.44l.94 2.06.94-2.06 2.06-.94-2.06-.94-.94-2.06-.94 2.06-2.06.94zm-11 1L8.5 8.5l.94-2.06 2.06-.94-2.06-.94L8.5 2.5l-.94 2.06-2.06.94zm10 10l.94 2.06.94-2.06 2.06-.94-2.06-.94-.94-2.06-.94 2.06-2.06.94z\"/><path d=\"M17.41 7.96l-1.37-1.37c-.4-.4-.92-.59-1.43-.59-.52 0-1.04.2-1.43.59L10.3 9.45l-7.72 7.72c-.78.78-.78 2.05 0 2.83L4 21.41c.39.39.9.59 1.41.59.51 0 1.02-.2 1.41-.59l7.78-7.78 2.81-2.81c.8-.78.8-2.07 0-2.86zM5.41 20L4 18.59l7.72-7.72 1.47 1.35L5.41 20z\"/>\n",
       "  </svg>\n",
       "      </button>\n",
       "      \n",
       "  <style>\n",
       "    .colab-df-container {\n",
       "      display:flex;\n",
       "      flex-wrap:wrap;\n",
       "      gap: 12px;\n",
       "    }\n",
       "\n",
       "    .colab-df-convert {\n",
       "      background-color: #E8F0FE;\n",
       "      border: none;\n",
       "      border-radius: 50%;\n",
       "      cursor: pointer;\n",
       "      display: none;\n",
       "      fill: #1967D2;\n",
       "      height: 32px;\n",
       "      padding: 0 0 0 0;\n",
       "      width: 32px;\n",
       "    }\n",
       "\n",
       "    .colab-df-convert:hover {\n",
       "      background-color: #E2EBFA;\n",
       "      box-shadow: 0px 1px 2px rgba(60, 64, 67, 0.3), 0px 1px 3px 1px rgba(60, 64, 67, 0.15);\n",
       "      fill: #174EA6;\n",
       "    }\n",
       "\n",
       "    [theme=dark] .colab-df-convert {\n",
       "      background-color: #3B4455;\n",
       "      fill: #D2E3FC;\n",
       "    }\n",
       "\n",
       "    [theme=dark] .colab-df-convert:hover {\n",
       "      background-color: #434B5C;\n",
       "      box-shadow: 0px 1px 3px 1px rgba(0, 0, 0, 0.15);\n",
       "      filter: drop-shadow(0px 1px 2px rgba(0, 0, 0, 0.3));\n",
       "      fill: #FFFFFF;\n",
       "    }\n",
       "  </style>\n",
       "\n",
       "      <script>\n",
       "        const buttonEl =\n",
       "          document.querySelector('#df-a2437b03-80c7-4535-ac9f-0c80d168e98a button.colab-df-convert');\n",
       "        buttonEl.style.display =\n",
       "          google.colab.kernel.accessAllowed ? 'block' : 'none';\n",
       "\n",
       "        async function convertToInteractive(key) {\n",
       "          const element = document.querySelector('#df-a2437b03-80c7-4535-ac9f-0c80d168e98a');\n",
       "          const dataTable =\n",
       "            await google.colab.kernel.invokeFunction('convertToInteractive',\n",
       "                                                     [key], {});\n",
       "          if (!dataTable) return;\n",
       "\n",
       "          const docLinkHtml = 'Like what you see? Visit the ' +\n",
       "            '<a target=\"_blank\" href=https://colab.research.google.com/notebooks/data_table.ipynb>data table notebook</a>'\n",
       "            + ' to learn more about interactive tables.';\n",
       "          element.innerHTML = '';\n",
       "          dataTable['output_type'] = 'display_data';\n",
       "          await google.colab.output.renderOutput(dataTable, element);\n",
       "          const docLink = document.createElement('div');\n",
       "          docLink.innerHTML = docLinkHtml;\n",
       "          element.appendChild(docLink);\n",
       "        }\n",
       "      </script>\n",
       "    </div>\n",
       "  </div>\n",
       "  "
      ],
      "text/plain": [
       "   User-ID        ISBN  Book-Rating            Book-Title  Book-ID\n",
       "0   276725  034545104X            0  Flesh Tones: A Novel     2966\n",
       "1     2313  034545104X            5  Flesh Tones: A Novel     2966\n",
       "2     6543  034545104X            0  Flesh Tones: A Novel     2966\n",
       "3     8680  034545104X            5  Flesh Tones: A Novel     2966\n",
       "4    10314  034545104X            9  Flesh Tones: A Novel     2966"
      ]
     },
     "execution_count": 18,
     "metadata": {},
     "output_type": "execute_result"
    }
   ],
   "source": [
    "book_rating.head()"
   ]
  },
  {
   "cell_type": "markdown",
   "metadata": {
    "id": "c88f0ba5"
   },
   "source": [
    "## Data Preparation"
   ]
  },
  {
   "cell_type": "markdown",
   "metadata": {
    "id": "2623457b"
   },
   "source": [
    "##### Question 1\n",
    " - Add a column `RatingCount_book` to `book_rating` containing the count of ratings of the corresponding book. The new dataframe will be called `user_rating`\n",
    " - Filter out books where the number of rating is below `30`\n",
    " \n",
    "|    |   Book-ID |   RatingCount_book |   User-ID |       ISBN |   Book-Rating | Book-Title             |\n",
    "|---:|----------:|-------------------:|----------:|-----------:|--------------:|:-----------------------|\n",
    "|  0 |         5 |                 33 |         8 | 0399135782 |             0 | The Kitchen God's Wife |\n",
    "|  1 |         5 |                 33 |     11676 | 0399135782 |             9 | The Kitchen God's Wife |\n",
    "|  2 |         5 |                 33 |     29526 | 0399135782 |             9 | The Kitchen God's Wife |\n",
    "|  3 |         5 |                 33 |     36836 | 0399135782 |             0 | The Kitchen God's Wife |\n",
    "|  4 |         5 |                 33 |     46398 | 0399135782 |             9 | The Kitchen God's Wife |\n"
   ]
  },
  {
   "cell_type": "markdown",
   "metadata": {
    "id": "fe34da44"
   },
   "source": [
    "###### Solution"
   ]
  },
  {
   "cell_type": "code",
   "execution_count": null,
   "metadata": {
    "id": "y3MP1P1wFz3Q"
   },
   "outputs": [],
   "source": [
    "RatingCount_book = book_rating.groupby('ISBN')['Book-Rating'].count().reset_index()\n",
    "user_rating = book_rating.merge(RatingCount_book, on='ISBN')\n",
    "user_rating = user_rating.rename(columns={'Book-Rating_x':'Book_Rating','Book-Rating_y':'RatingCount_book'})"
   ]
  },
  {
   "cell_type": "code",
   "execution_count": null,
   "metadata": {
    "id": "I0Kptj4-YzfF"
   },
   "outputs": [],
   "source": [
    "user_rating = user_rating[user_rating['RatingCount_book']>=30]"
   ]
  },
  {
   "cell_type": "code",
   "execution_count": null,
   "metadata": {
    "colab": {
     "base_uri": "https://localhost:8080/",
     "height": 423
    },
    "id": "g5CJsDHRI_Yl",
    "outputId": "a1f9d0a4-15c4-45ac-a6ea-0e45bbc488ac"
   },
   "outputs": [
    {
     "data": {
      "text/html": [
       "\n",
       "  <div id=\"df-5b36b921-cd70-4b2f-87a1-c76c32e657ba\">\n",
       "    <div class=\"colab-df-container\">\n",
       "      <div>\n",
       "<style scoped>\n",
       "    .dataframe tbody tr th:only-of-type {\n",
       "        vertical-align: middle;\n",
       "    }\n",
       "\n",
       "    .dataframe tbody tr th {\n",
       "        vertical-align: top;\n",
       "    }\n",
       "\n",
       "    .dataframe thead th {\n",
       "        text-align: right;\n",
       "    }\n",
       "</style>\n",
       "<table border=\"1\" class=\"dataframe\">\n",
       "  <thead>\n",
       "    <tr style=\"text-align: right;\">\n",
       "      <th></th>\n",
       "      <th>User-ID</th>\n",
       "      <th>ISBN</th>\n",
       "      <th>Book_Rating</th>\n",
       "      <th>Book-Title</th>\n",
       "      <th>Book-ID</th>\n",
       "      <th>RatingCount_book</th>\n",
       "    </tr>\n",
       "  </thead>\n",
       "  <tbody>\n",
       "    <tr>\n",
       "      <th>0</th>\n",
       "      <td>276725</td>\n",
       "      <td>034545104X</td>\n",
       "      <td>0</td>\n",
       "      <td>Flesh Tones: A Novel</td>\n",
       "      <td>2966</td>\n",
       "      <td>60</td>\n",
       "    </tr>\n",
       "    <tr>\n",
       "      <th>1</th>\n",
       "      <td>2313</td>\n",
       "      <td>034545104X</td>\n",
       "      <td>5</td>\n",
       "      <td>Flesh Tones: A Novel</td>\n",
       "      <td>2966</td>\n",
       "      <td>60</td>\n",
       "    </tr>\n",
       "    <tr>\n",
       "      <th>2</th>\n",
       "      <td>6543</td>\n",
       "      <td>034545104X</td>\n",
       "      <td>0</td>\n",
       "      <td>Flesh Tones: A Novel</td>\n",
       "      <td>2966</td>\n",
       "      <td>60</td>\n",
       "    </tr>\n",
       "    <tr>\n",
       "      <th>3</th>\n",
       "      <td>8680</td>\n",
       "      <td>034545104X</td>\n",
       "      <td>5</td>\n",
       "      <td>Flesh Tones: A Novel</td>\n",
       "      <td>2966</td>\n",
       "      <td>60</td>\n",
       "    </tr>\n",
       "    <tr>\n",
       "      <th>4</th>\n",
       "      <td>10314</td>\n",
       "      <td>034545104X</td>\n",
       "      <td>9</td>\n",
       "      <td>Flesh Tones: A Novel</td>\n",
       "      <td>2966</td>\n",
       "      <td>60</td>\n",
       "    </tr>\n",
       "    <tr>\n",
       "      <th>...</th>\n",
       "      <td>...</td>\n",
       "      <td>...</td>\n",
       "      <td>...</td>\n",
       "      <td>...</td>\n",
       "      <td>...</td>\n",
       "      <td>...</td>\n",
       "    </tr>\n",
       "    <tr>\n",
       "      <th>794066</th>\n",
       "      <td>253226</td>\n",
       "      <td>0671737635</td>\n",
       "      <td>0</td>\n",
       "      <td>Something Wonderful</td>\n",
       "      <td>73762</td>\n",
       "      <td>34</td>\n",
       "    </tr>\n",
       "    <tr>\n",
       "      <th>794067</th>\n",
       "      <td>258185</td>\n",
       "      <td>0671737635</td>\n",
       "      <td>7</td>\n",
       "      <td>Something Wonderful</td>\n",
       "      <td>73762</td>\n",
       "      <td>34</td>\n",
       "    </tr>\n",
       "    <tr>\n",
       "      <th>794068</th>\n",
       "      <td>261768</td>\n",
       "      <td>0671737635</td>\n",
       "      <td>0</td>\n",
       "      <td>Something Wonderful</td>\n",
       "      <td>73762</td>\n",
       "      <td>34</td>\n",
       "    </tr>\n",
       "    <tr>\n",
       "      <th>794069</th>\n",
       "      <td>264031</td>\n",
       "      <td>0671737635</td>\n",
       "      <td>7</td>\n",
       "      <td>Something Wonderful</td>\n",
       "      <td>73762</td>\n",
       "      <td>34</td>\n",
       "    </tr>\n",
       "    <tr>\n",
       "      <th>794070</th>\n",
       "      <td>264637</td>\n",
       "      <td>0671737635</td>\n",
       "      <td>0</td>\n",
       "      <td>Something Wonderful</td>\n",
       "      <td>73762</td>\n",
       "      <td>34</td>\n",
       "    </tr>\n",
       "  </tbody>\n",
       "</table>\n",
       "<p>315065 rows × 6 columns</p>\n",
       "</div>\n",
       "      <button class=\"colab-df-convert\" onclick=\"convertToInteractive('df-5b36b921-cd70-4b2f-87a1-c76c32e657ba')\"\n",
       "              title=\"Convert this dataframe to an interactive table.\"\n",
       "              style=\"display:none;\">\n",
       "        \n",
       "  <svg xmlns=\"http://www.w3.org/2000/svg\" height=\"24px\"viewBox=\"0 0 24 24\"\n",
       "       width=\"24px\">\n",
       "    <path d=\"M0 0h24v24H0V0z\" fill=\"none\"/>\n",
       "    <path d=\"M18.56 5.44l.94 2.06.94-2.06 2.06-.94-2.06-.94-.94-2.06-.94 2.06-2.06.94zm-11 1L8.5 8.5l.94-2.06 2.06-.94-2.06-.94L8.5 2.5l-.94 2.06-2.06.94zm10 10l.94 2.06.94-2.06 2.06-.94-2.06-.94-.94-2.06-.94 2.06-2.06.94z\"/><path d=\"M17.41 7.96l-1.37-1.37c-.4-.4-.92-.59-1.43-.59-.52 0-1.04.2-1.43.59L10.3 9.45l-7.72 7.72c-.78.78-.78 2.05 0 2.83L4 21.41c.39.39.9.59 1.41.59.51 0 1.02-.2 1.41-.59l7.78-7.78 2.81-2.81c.8-.78.8-2.07 0-2.86zM5.41 20L4 18.59l7.72-7.72 1.47 1.35L5.41 20z\"/>\n",
       "  </svg>\n",
       "      </button>\n",
       "      \n",
       "  <style>\n",
       "    .colab-df-container {\n",
       "      display:flex;\n",
       "      flex-wrap:wrap;\n",
       "      gap: 12px;\n",
       "    }\n",
       "\n",
       "    .colab-df-convert {\n",
       "      background-color: #E8F0FE;\n",
       "      border: none;\n",
       "      border-radius: 50%;\n",
       "      cursor: pointer;\n",
       "      display: none;\n",
       "      fill: #1967D2;\n",
       "      height: 32px;\n",
       "      padding: 0 0 0 0;\n",
       "      width: 32px;\n",
       "    }\n",
       "\n",
       "    .colab-df-convert:hover {\n",
       "      background-color: #E2EBFA;\n",
       "      box-shadow: 0px 1px 2px rgba(60, 64, 67, 0.3), 0px 1px 3px 1px rgba(60, 64, 67, 0.15);\n",
       "      fill: #174EA6;\n",
       "    }\n",
       "\n",
       "    [theme=dark] .colab-df-convert {\n",
       "      background-color: #3B4455;\n",
       "      fill: #D2E3FC;\n",
       "    }\n",
       "\n",
       "    [theme=dark] .colab-df-convert:hover {\n",
       "      background-color: #434B5C;\n",
       "      box-shadow: 0px 1px 3px 1px rgba(0, 0, 0, 0.15);\n",
       "      filter: drop-shadow(0px 1px 2px rgba(0, 0, 0, 0.3));\n",
       "      fill: #FFFFFF;\n",
       "    }\n",
       "  </style>\n",
       "\n",
       "      <script>\n",
       "        const buttonEl =\n",
       "          document.querySelector('#df-5b36b921-cd70-4b2f-87a1-c76c32e657ba button.colab-df-convert');\n",
       "        buttonEl.style.display =\n",
       "          google.colab.kernel.accessAllowed ? 'block' : 'none';\n",
       "\n",
       "        async function convertToInteractive(key) {\n",
       "          const element = document.querySelector('#df-5b36b921-cd70-4b2f-87a1-c76c32e657ba');\n",
       "          const dataTable =\n",
       "            await google.colab.kernel.invokeFunction('convertToInteractive',\n",
       "                                                     [key], {});\n",
       "          if (!dataTable) return;\n",
       "\n",
       "          const docLinkHtml = 'Like what you see? Visit the ' +\n",
       "            '<a target=\"_blank\" href=https://colab.research.google.com/notebooks/data_table.ipynb>data table notebook</a>'\n",
       "            + ' to learn more about interactive tables.';\n",
       "          element.innerHTML = '';\n",
       "          dataTable['output_type'] = 'display_data';\n",
       "          await google.colab.output.renderOutput(dataTable, element);\n",
       "          const docLink = document.createElement('div');\n",
       "          docLink.innerHTML = docLinkHtml;\n",
       "          element.appendChild(docLink);\n",
       "        }\n",
       "      </script>\n",
       "    </div>\n",
       "  </div>\n",
       "  "
      ],
      "text/plain": [
       "        User-ID        ISBN  ...  Book-ID RatingCount_book\n",
       "0        276725  034545104X  ...     2966               60\n",
       "1          2313  034545104X  ...     2966               60\n",
       "2          6543  034545104X  ...     2966               60\n",
       "3          8680  034545104X  ...     2966               60\n",
       "4         10314  034545104X  ...     2966               60\n",
       "...         ...         ...  ...      ...              ...\n",
       "794066   253226  0671737635  ...    73762               34\n",
       "794067   258185  0671737635  ...    73762               34\n",
       "794068   261768  0671737635  ...    73762               34\n",
       "794069   264031  0671737635  ...    73762               34\n",
       "794070   264637  0671737635  ...    73762               34\n",
       "\n",
       "[315065 rows x 6 columns]"
      ]
     },
     "execution_count": 21,
     "metadata": {},
     "output_type": "execute_result"
    }
   ],
   "source": [
    "user_rating"
   ]
  },
  {
   "cell_type": "markdown",
   "metadata": {
    "id": "b26b555b"
   },
   "source": [
    "##### Question 2\n",
    " - Add a column `RatingCount_user` to `user_rating` containing the count of ratings made by the user. The new dataframe will be called `final_df`\n",
    " - Filter out users where the number of rating is below `20`\n",
    "\n",
    " \n",
    "|    |   Book-ID |   RatingCount_book |   User-ID |       ISBN |   Book-Rating | Book-Title                                                    |   RatingCount_user |\n",
    "|---:|----------:|-------------------:|----------:|-----------:|--------------:|:--------------------------------------------------------------|-------------------:|\n",
    "|  0 |         5 |                 33 |     11676 | 0399135782 |             9 | The Kitchen God's Wife                                        |               2495 |\n",
    "|  1 |        18 |                422 |     11676 | 0440234743 |             9 | The Testament                                                 |               2495 |\n",
    "|  2 |        19 |                180 |     11676 | 0452264464 |             8 | Beloved (Plume Contemporary Fiction)                          |               2495 |\n",
    "|  3 |        21 |                 37 |     11676 | 1841721522 |            10 | New Vegetarian: Bold and Beautiful Recipes for Every Occasion |               2495 |\n",
    "|  4 |        26 |               2502 |     11676 | 0971880107 |             6 | Wild Animus                                                   |               2495 |"
   ]
  },
  {
   "cell_type": "markdown",
   "metadata": {
    "id": "7daba144"
   },
   "source": [
    "##### Solution"
   ]
  },
  {
   "cell_type": "code",
   "execution_count": null,
   "metadata": {
    "id": "mGeaQ8pNJHMT"
   },
   "outputs": [],
   "source": [
    "RatingCount_user =  user_rating['User-ID'].value_counts().reset_index()\n",
    "RatingCount_user = RatingCount_user.rename(columns={'index':'User-ID','User-ID':'RatingCount_user'})\n",
    "final_df = user_rating.merge(RatingCount_user,on='User-ID')"
   ]
  },
  {
   "cell_type": "code",
   "execution_count": null,
   "metadata": {
    "id": "jyeriBQvKRP3"
   },
   "outputs": [],
   "source": [
    "final_df = final_df[final_df['RatingCount_user']>=20]"
   ]
  },
  {
   "cell_type": "markdown",
   "metadata": {
    "id": "0839a48c"
   },
   "source": [
    "##### Question 3\n",
    "Normalize the `Book-Rating` column using `MinMaxScaler` of `sklearn` ([documentation](https://scikit-learn.org/stable/modules/generated/sklearn.preprocessing.MinMaxScaler.html)) and put the value in the column `Book-Rating-Scaled`"
   ]
  },
  {
   "cell_type": "markdown",
   "metadata": {
    "id": "73e29343"
   },
   "source": [
    "##### Solution"
   ]
  },
  {
   "cell_type": "code",
   "execution_count": null,
   "metadata": {
    "id": "e5915d19"
   },
   "outputs": [],
   "source": [
    "from sklearn.preprocessing import MinMaxScaler\n",
    "scaler = MinMaxScaler()\n",
    "final_df['Book_Rating_Scaled'] = scaler.fit_transform(final_df['Book_Rating'].values.reshape(-1,1))"
   ]
  },
  {
   "cell_type": "code",
   "execution_count": null,
   "metadata": {
    "colab": {
     "base_uri": "https://localhost:8080/",
     "height": 423
    },
    "id": "yu8eevoBLTqG",
    "outputId": "09974e2a-b272-43de-f40f-9e13a221c0dc"
   },
   "outputs": [
    {
     "data": {
      "text/html": [
       "\n",
       "  <div id=\"df-23b2d2d2-03da-4af7-80fe-3554af73b222\">\n",
       "    <div class=\"colab-df-container\">\n",
       "      <div>\n",
       "<style scoped>\n",
       "    .dataframe tbody tr th:only-of-type {\n",
       "        vertical-align: middle;\n",
       "    }\n",
       "\n",
       "    .dataframe tbody tr th {\n",
       "        vertical-align: top;\n",
       "    }\n",
       "\n",
       "    .dataframe thead th {\n",
       "        text-align: right;\n",
       "    }\n",
       "</style>\n",
       "<table border=\"1\" class=\"dataframe\">\n",
       "  <thead>\n",
       "    <tr style=\"text-align: right;\">\n",
       "      <th></th>\n",
       "      <th>User-ID</th>\n",
       "      <th>ISBN</th>\n",
       "      <th>Book_Rating</th>\n",
       "      <th>Book-Title</th>\n",
       "      <th>Book-ID</th>\n",
       "      <th>RatingCount_book</th>\n",
       "      <th>RatingCount_user</th>\n",
       "      <th>Book_Rating_Scaled</th>\n",
       "    </tr>\n",
       "  </thead>\n",
       "  <tbody>\n",
       "    <tr>\n",
       "      <th>13</th>\n",
       "      <td>6543</td>\n",
       "      <td>034545104X</td>\n",
       "      <td>0</td>\n",
       "      <td>Flesh Tones: A Novel</td>\n",
       "      <td>2966</td>\n",
       "      <td>60</td>\n",
       "      <td>146</td>\n",
       "      <td>0.0</td>\n",
       "    </tr>\n",
       "    <tr>\n",
       "      <th>14</th>\n",
       "      <td>6543</td>\n",
       "      <td>0316666343</td>\n",
       "      <td>0</td>\n",
       "      <td>The Lovely Bones: A Novel</td>\n",
       "      <td>408</td>\n",
       "      <td>1295</td>\n",
       "      <td>146</td>\n",
       "      <td>0.0</td>\n",
       "    </tr>\n",
       "    <tr>\n",
       "      <th>15</th>\n",
       "      <td>6543</td>\n",
       "      <td>0385504209</td>\n",
       "      <td>0</td>\n",
       "      <td>The Da Vinci Code</td>\n",
       "      <td>748</td>\n",
       "      <td>883</td>\n",
       "      <td>146</td>\n",
       "      <td>0.0</td>\n",
       "    </tr>\n",
       "    <tr>\n",
       "      <th>16</th>\n",
       "      <td>6543</td>\n",
       "      <td>0971880107</td>\n",
       "      <td>0</td>\n",
       "      <td>Wild Animus</td>\n",
       "      <td>26</td>\n",
       "      <td>2502</td>\n",
       "      <td>146</td>\n",
       "      <td>0.0</td>\n",
       "    </tr>\n",
       "    <tr>\n",
       "      <th>17</th>\n",
       "      <td>6543</td>\n",
       "      <td>0312966970</td>\n",
       "      <td>0</td>\n",
       "      <td>Four To Score (A Stephanie Plum Novel)</td>\n",
       "      <td>3120</td>\n",
       "      <td>225</td>\n",
       "      <td>146</td>\n",
       "      <td>0.0</td>\n",
       "    </tr>\n",
       "    <tr>\n",
       "      <th>...</th>\n",
       "      <td>...</td>\n",
       "      <td>...</td>\n",
       "      <td>...</td>\n",
       "      <td>...</td>\n",
       "      <td>...</td>\n",
       "      <td>...</td>\n",
       "      <td>...</td>\n",
       "      <td>...</td>\n",
       "    </tr>\n",
       "    <tr>\n",
       "      <th>284176</th>\n",
       "      <td>107865</td>\n",
       "      <td>0440236991</td>\n",
       "      <td>9</td>\n",
       "      <td>Leap of Faith</td>\n",
       "      <td>31959</td>\n",
       "      <td>59</td>\n",
       "      <td>21</td>\n",
       "      <td>0.9</td>\n",
       "    </tr>\n",
       "    <tr>\n",
       "      <th>284177</th>\n",
       "      <td>107865</td>\n",
       "      <td>0446359637</td>\n",
       "      <td>0</td>\n",
       "      <td>Breath of Scandal</td>\n",
       "      <td>31904</td>\n",
       "      <td>36</td>\n",
       "      <td>21</td>\n",
       "      <td>0.0</td>\n",
       "    </tr>\n",
       "    <tr>\n",
       "      <th>284178</th>\n",
       "      <td>107865</td>\n",
       "      <td>0553294903</td>\n",
       "      <td>9</td>\n",
       "      <td>Divine Evil</td>\n",
       "      <td>31920</td>\n",
       "      <td>49</td>\n",
       "      <td>21</td>\n",
       "      <td>0.9</td>\n",
       "    </tr>\n",
       "    <tr>\n",
       "      <th>284179</th>\n",
       "      <td>107865</td>\n",
       "      <td>1551666510</td>\n",
       "      <td>10</td>\n",
       "      <td>The Harbor</td>\n",
       "      <td>36956</td>\n",
       "      <td>37</td>\n",
       "      <td>21</td>\n",
       "      <td>1.0</td>\n",
       "    </tr>\n",
       "    <tr>\n",
       "      <th>284180</th>\n",
       "      <td>107865</td>\n",
       "      <td>0743456173</td>\n",
       "      <td>0</td>\n",
       "      <td>Just the Way You Are</td>\n",
       "      <td>28719</td>\n",
       "      <td>48</td>\n",
       "      <td>21</td>\n",
       "      <td>0.0</td>\n",
       "    </tr>\n",
       "  </tbody>\n",
       "</table>\n",
       "<p>193475 rows × 8 columns</p>\n",
       "</div>\n",
       "      <button class=\"colab-df-convert\" onclick=\"convertToInteractive('df-23b2d2d2-03da-4af7-80fe-3554af73b222')\"\n",
       "              title=\"Convert this dataframe to an interactive table.\"\n",
       "              style=\"display:none;\">\n",
       "        \n",
       "  <svg xmlns=\"http://www.w3.org/2000/svg\" height=\"24px\"viewBox=\"0 0 24 24\"\n",
       "       width=\"24px\">\n",
       "    <path d=\"M0 0h24v24H0V0z\" fill=\"none\"/>\n",
       "    <path d=\"M18.56 5.44l.94 2.06.94-2.06 2.06-.94-2.06-.94-.94-2.06-.94 2.06-2.06.94zm-11 1L8.5 8.5l.94-2.06 2.06-.94-2.06-.94L8.5 2.5l-.94 2.06-2.06.94zm10 10l.94 2.06.94-2.06 2.06-.94-2.06-.94-.94-2.06-.94 2.06-2.06.94z\"/><path d=\"M17.41 7.96l-1.37-1.37c-.4-.4-.92-.59-1.43-.59-.52 0-1.04.2-1.43.59L10.3 9.45l-7.72 7.72c-.78.78-.78 2.05 0 2.83L4 21.41c.39.39.9.59 1.41.59.51 0 1.02-.2 1.41-.59l7.78-7.78 2.81-2.81c.8-.78.8-2.07 0-2.86zM5.41 20L4 18.59l7.72-7.72 1.47 1.35L5.41 20z\"/>\n",
       "  </svg>\n",
       "      </button>\n",
       "      \n",
       "  <style>\n",
       "    .colab-df-container {\n",
       "      display:flex;\n",
       "      flex-wrap:wrap;\n",
       "      gap: 12px;\n",
       "    }\n",
       "\n",
       "    .colab-df-convert {\n",
       "      background-color: #E8F0FE;\n",
       "      border: none;\n",
       "      border-radius: 50%;\n",
       "      cursor: pointer;\n",
       "      display: none;\n",
       "      fill: #1967D2;\n",
       "      height: 32px;\n",
       "      padding: 0 0 0 0;\n",
       "      width: 32px;\n",
       "    }\n",
       "\n",
       "    .colab-df-convert:hover {\n",
       "      background-color: #E2EBFA;\n",
       "      box-shadow: 0px 1px 2px rgba(60, 64, 67, 0.3), 0px 1px 3px 1px rgba(60, 64, 67, 0.15);\n",
       "      fill: #174EA6;\n",
       "    }\n",
       "\n",
       "    [theme=dark] .colab-df-convert {\n",
       "      background-color: #3B4455;\n",
       "      fill: #D2E3FC;\n",
       "    }\n",
       "\n",
       "    [theme=dark] .colab-df-convert:hover {\n",
       "      background-color: #434B5C;\n",
       "      box-shadow: 0px 1px 3px 1px rgba(0, 0, 0, 0.15);\n",
       "      filter: drop-shadow(0px 1px 2px rgba(0, 0, 0, 0.3));\n",
       "      fill: #FFFFFF;\n",
       "    }\n",
       "  </style>\n",
       "\n",
       "      <script>\n",
       "        const buttonEl =\n",
       "          document.querySelector('#df-23b2d2d2-03da-4af7-80fe-3554af73b222 button.colab-df-convert');\n",
       "        buttonEl.style.display =\n",
       "          google.colab.kernel.accessAllowed ? 'block' : 'none';\n",
       "\n",
       "        async function convertToInteractive(key) {\n",
       "          const element = document.querySelector('#df-23b2d2d2-03da-4af7-80fe-3554af73b222');\n",
       "          const dataTable =\n",
       "            await google.colab.kernel.invokeFunction('convertToInteractive',\n",
       "                                                     [key], {});\n",
       "          if (!dataTable) return;\n",
       "\n",
       "          const docLinkHtml = 'Like what you see? Visit the ' +\n",
       "            '<a target=\"_blank\" href=https://colab.research.google.com/notebooks/data_table.ipynb>data table notebook</a>'\n",
       "            + ' to learn more about interactive tables.';\n",
       "          element.innerHTML = '';\n",
       "          dataTable['output_type'] = 'display_data';\n",
       "          await google.colab.output.renderOutput(dataTable, element);\n",
       "          const docLink = document.createElement('div');\n",
       "          docLink.innerHTML = docLinkHtml;\n",
       "          element.appendChild(docLink);\n",
       "        }\n",
       "      </script>\n",
       "    </div>\n",
       "  </div>\n",
       "  "
      ],
      "text/plain": [
       "        User-ID        ISBN  ...  RatingCount_user Book_Rating_Scaled\n",
       "13         6543  034545104X  ...               146                0.0\n",
       "14         6543  0316666343  ...               146                0.0\n",
       "15         6543  0385504209  ...               146                0.0\n",
       "16         6543  0971880107  ...               146                0.0\n",
       "17         6543  0312966970  ...               146                0.0\n",
       "...         ...         ...  ...               ...                ...\n",
       "284176   107865  0440236991  ...                21                0.9\n",
       "284177   107865  0446359637  ...                21                0.0\n",
       "284178   107865  0553294903  ...                21                0.9\n",
       "284179   107865  1551666510  ...                21                1.0\n",
       "284180   107865  0743456173  ...                21                0.0\n",
       "\n",
       "[193475 rows x 8 columns]"
      ]
     },
     "execution_count": 25,
     "metadata": {},
     "output_type": "execute_result"
    }
   ],
   "source": [
    "final_df"
   ]
  },
  {
   "cell_type": "markdown",
   "metadata": {
    "id": "69df263c"
   },
   "source": [
    "---"
   ]
  },
  {
   "cell_type": "code",
   "execution_count": null,
   "metadata": {
    "id": "b4b9ccc4"
   },
   "outputs": [],
   "source": [
    "# For later usage\n",
    "# convert userID to continuous sequence of ID\n",
    "codes_user, uniques_user = pd.factorize(final_df['User-ID'], sort=True)\n",
    "final_df['User-ID-Continuous'] = codes_user\n",
    "\n",
    "# convert bookID to continuous sequence of ID\n",
    "codes_book, uniques_book = pd.factorize(final_df['Book-ID'], sort=True)\n",
    "final_df['Book-ID-Continuous'] = codes_book"
   ]
  },
  {
   "cell_type": "code",
   "execution_count": null,
   "metadata": {
    "colab": {
     "base_uri": "https://localhost:8080/"
    },
    "id": "1b355b20",
    "outputId": "a6588818-4cd5-44b3-acc2-3785519f90cc"
   },
   "outputs": [
    {
     "name": "stdout",
     "output_type": "stream",
     "text": [
      "(154734, 10) (38741, 10)\n"
     ]
    },
    {
     "name": "stderr",
     "output_type": "stream",
     "text": [
      "/usr/local/lib/python3.7/dist-packages/ipykernel_launcher.py:2: FutureWarning: The pandas.np module is deprecated and will be removed from pandas in a future version. Import numpy directly instead\n",
      "  \n"
     ]
    }
   ],
   "source": [
    "# Split the dataset in train/validation\n",
    "split = pd.np.random.rand(len(final_df)) < 0.8\n",
    "train = final_df[split]\n",
    "valid = final_df[~split]\n",
    "print(train.shape , valid.shape)"
   ]
  },
  {
   "cell_type": "markdown",
   "metadata": {
    "id": "0a743a8a"
   },
   "source": [
    "## Matrix Factorization"
   ]
  },
  {
   "cell_type": "markdown",
   "metadata": {
    "id": "98b47372"
   },
   "source": [
    "<div>\n",
    "<img src=\"https://miro.medium.com/max/2000/1*WrOoSr49lQs43auSsLlLdg.png\" width=\"800\"/>\n",
    "</div>"
   ]
  },
  {
   "cell_type": "markdown",
   "metadata": {
    "id": "2463c8bb"
   },
   "source": [
    "### Training"
   ]
  },
  {
   "cell_type": "code",
   "execution_count": null,
   "metadata": {
    "colab": {
     "base_uri": "https://localhost:8080/"
    },
    "id": "9380fee3",
    "outputId": "abb62a0e-baf3-465c-8096-8442bd9524ef"
   },
   "outputs": [
    {
     "name": "stdout",
     "output_type": "stream",
     "text": [
      "Epoch 1/1000\n",
      "4836/4836 [==============================] - 22s 4ms/step - loss: 0.6792 - val_loss: 0.6553\n",
      "Epoch 2/1000\n",
      "4836/4836 [==============================] - 19s 4ms/step - loss: 0.5758 - val_loss: 0.5369\n",
      "Epoch 3/1000\n",
      "4836/4836 [==============================] - 19s 4ms/step - loss: 0.5304 - val_loss: 0.5243\n",
      "Epoch 4/1000\n",
      "4836/4836 [==============================] - 19s 4ms/step - loss: 0.5241 - val_loss: 0.5159\n",
      "Epoch 5/1000\n",
      "4836/4836 [==============================] - 19s 4ms/step - loss: 0.5188 - val_loss: 0.5095\n",
      "Epoch 6/1000\n",
      "4836/4836 [==============================] - 19s 4ms/step - loss: 0.5138 - val_loss: 0.5050\n",
      "Epoch 7/1000\n",
      "4836/4836 [==============================] - 19s 4ms/step - loss: 0.5090 - val_loss: 0.5012\n",
      "Epoch 8/1000\n",
      "4836/4836 [==============================] - 19s 4ms/step - loss: 0.5051 - val_loss: 0.4981\n",
      "Epoch 9/1000\n",
      "4836/4836 [==============================] - 19s 4ms/step - loss: 0.5011 - val_loss: 0.4969\n",
      "Epoch 10/1000\n",
      "4836/4836 [==============================] - 19s 4ms/step - loss: 0.4973 - val_loss: 0.4944\n",
      "Epoch 11/1000\n",
      "4836/4836 [==============================] - 19s 4ms/step - loss: 0.4939 - val_loss: 0.4927\n",
      "Epoch 12/1000\n",
      "4836/4836 [==============================] - 19s 4ms/step - loss: 0.4912 - val_loss: 0.4908\n",
      "Epoch 13/1000\n",
      "4836/4836 [==============================] - 19s 4ms/step - loss: 0.4879 - val_loss: 0.4888\n",
      "Epoch 14/1000\n",
      "4836/4836 [==============================] - 19s 4ms/step - loss: 0.4854 - val_loss: 0.4875\n",
      "Epoch 15/1000\n",
      "4836/4836 [==============================] - 19s 4ms/step - loss: 0.4828 - val_loss: 0.4870\n",
      "Epoch 16/1000\n",
      "4836/4836 [==============================] - 19s 4ms/step - loss: 0.4804 - val_loss: 0.4856\n",
      "Epoch 17/1000\n",
      "4836/4836 [==============================] - 19s 4ms/step - loss: 0.4780 - val_loss: 0.4845\n",
      "Epoch 18/1000\n",
      "4836/4836 [==============================] - 19s 4ms/step - loss: 0.4757 - val_loss: 0.4835\n",
      "Epoch 19/1000\n",
      "4836/4836 [==============================] - 19s 4ms/step - loss: 0.4737 - val_loss: 0.4828\n",
      "Epoch 20/1000\n",
      "4836/4836 [==============================] - 19s 4ms/step - loss: 0.4718 - val_loss: 0.4819\n",
      "Epoch 21/1000\n",
      "4836/4836 [==============================] - 19s 4ms/step - loss: 0.4699 - val_loss: 0.4804\n",
      "Epoch 22/1000\n",
      "4836/4836 [==============================] - 19s 4ms/step - loss: 0.4684 - val_loss: 0.4802\n",
      "Epoch 23/1000\n",
      "4836/4836 [==============================] - 19s 4ms/step - loss: 0.4669 - val_loss: 0.4793\n",
      "Epoch 24/1000\n",
      "4836/4836 [==============================] - 19s 4ms/step - loss: 0.4650 - val_loss: 0.4786\n",
      "Epoch 25/1000\n",
      "4836/4836 [==============================] - 19s 4ms/step - loss: 0.4637 - val_loss: 0.4784\n",
      "Epoch 26/1000\n",
      "4836/4836 [==============================] - 19s 4ms/step - loss: 0.4623 - val_loss: 0.4773\n",
      "Epoch 27/1000\n",
      "4836/4836 [==============================] - 19s 4ms/step - loss: 0.4606 - val_loss: 0.4770\n",
      "Epoch 28/1000\n",
      "4836/4836 [==============================] - 19s 4ms/step - loss: 0.4600 - val_loss: 0.4765\n",
      "Epoch 29/1000\n",
      "4836/4836 [==============================] - 19s 4ms/step - loss: 0.4585 - val_loss: 0.4766\n",
      "Epoch 30/1000\n",
      "4836/4836 [==============================] - 19s 4ms/step - loss: 0.4575 - val_loss: 0.4760\n",
      "Epoch 31/1000\n",
      "4836/4836 [==============================] - 19s 4ms/step - loss: 0.4561 - val_loss: 0.4761\n",
      "Epoch 32/1000\n",
      "4836/4836 [==============================] - 20s 4ms/step - loss: 0.4551 - val_loss: 0.4757\n",
      "Epoch 33/1000\n",
      "4836/4836 [==============================] - 19s 4ms/step - loss: 0.4542 - val_loss: 0.4751\n",
      "Epoch 34/1000\n",
      "4836/4836 [==============================] - 19s 4ms/step - loss: 0.4531 - val_loss: 0.4746\n",
      "Epoch 35/1000\n",
      "4836/4836 [==============================] - 19s 4ms/step - loss: 0.4524 - val_loss: 0.4751\n",
      "Epoch 36/1000\n",
      "4836/4836 [==============================] - 19s 4ms/step - loss: 0.4514 - val_loss: 0.4749\n",
      "Epoch 37/1000\n",
      "4836/4836 [==============================] - 19s 4ms/step - loss: 0.4504 - val_loss: 0.4746\n"
     ]
    }
   ],
   "source": [
    "import tensorflow as tf \n",
    "from tensorflow import keras\n",
    "\n",
    "# Hyperparameters\n",
    "DIM_LATENT = 100\n",
    "EPOCHS = 1000\n",
    "BATCH_SIZE = 32\n",
    "INITIAL_LR = 10**-4\n",
    "\n",
    "NB_USER = final_df.nunique()[\"User-ID-Continuous\"]\n",
    "NB_BOOK = final_df.nunique()['Book-ID-Continuous']\n",
    "\n",
    "# Inputs\n",
    "user_input = keras.layers.Input(shape=(1,), name='user_input', dtype='int64')\n",
    "book_input = keras.layers.Input(shape=(1,), name='book_input', dtype='int64')\n",
    "\n",
    "# Bias\n",
    "user_bias = keras.layers.Embedding(NB_USER, 1)(user_input)\n",
    "book_bias = keras.layers.Embedding(NB_BOOK, 1)(book_input)\n",
    "\n",
    "# Embbeddings\n",
    "user_embedding=keras.layers.Embedding(NB_USER,\n",
    "                                      DIM_LATENT,\n",
    "                                      name='user_embedding',\n",
    "                                      embeddings_initializer=\"he_normal\",\n",
    "                                      embeddings_regularizer=keras.regularizers.l2(1e-6),\n",
    "                                     )(user_input)\n",
    "\n",
    "book_embedding=keras.layers.Embedding(NB_BOOK,\n",
    "                                     DIM_LATENT,\n",
    "                                     name='book_embedding',\n",
    "                                     embeddings_initializer=\"he_normal\",\n",
    "                                     embeddings_regularizer=keras.regularizers.l2(1e-6),\n",
    "                                    )(book_input)\n",
    "\n",
    "# Flattening \n",
    "user_vec = keras.layers.Flatten(name='FlattenUsers')(user_embedding)\n",
    "book_vec = keras.layers.Flatten(name='FlattenBooks')(book_embedding)\n",
    "\n",
    "# Dot product between the two matrixes\n",
    "dot_user_book = tf.tensordot(user_vec, book_vec, 2)\n",
    "\n",
    "# Add all the components (including bias)\n",
    "x = dot_user_book + user_bias + book_bias\n",
    "\n",
    "# The sigmoid activation forces scores to be in [0, 1]\n",
    "output = tf.nn.sigmoid(x)\n",
    "\n",
    "mf_model = keras.models.Model([user_input, book_input], output)\n",
    "\n",
    "mf_model.compile(\n",
    "    loss=tf.keras.losses.BinaryCrossentropy(),\n",
    "    optimizer=keras.optimizers.Adam(learning_rate=INITIAL_LR)\n",
    ")\n",
    "\n",
    "# Earl stopping in order to stop training when overfitting begins. \n",
    "early_stopping = keras.callbacks.EarlyStopping(\n",
    "    monitor='val_loss',\n",
    "    min_delta=0,\n",
    "    patience=3,\n",
    "    verbose=0,\n",
    "    mode='auto',\n",
    "    baseline=None,\n",
    "    restore_best_weights=True\n",
    ")\n",
    "\n",
    "# Fit the model \n",
    "history = mf_model.fit(\n",
    "    [train['User-ID-Continuous'],train['Book-ID-Continuous']],\n",
    "    train['Book_Rating_Scaled'],\n",
    "    batch_size=BATCH_SIZE,\n",
    "    epochs=EPOCHS,\n",
    "    validation_data=([valid['User-ID-Continuous'],\n",
    "                      valid['Book-ID-Continuous']],\n",
    "                      valid['Book_Rating_Scaled']),\n",
    "    verbose=1,\n",
    "    callbacks=[early_stopping]\n",
    ")"
   ]
  },
  {
   "cell_type": "code",
   "execution_count": null,
   "metadata": {
    "id": "OYrSR9MrT3cg"
   },
   "outputs": [],
   "source": [
    "import matplotlib.pyplot as plt"
   ]
  },
  {
   "cell_type": "code",
   "execution_count": null,
   "metadata": {
    "colab": {
     "base_uri": "https://localhost:8080/",
     "height": 295
    },
    "id": "efafd05b",
    "outputId": "fb058ee4-0d84-4f49-c90d-a51535ec0288"
   },
   "outputs": [
    {
     "data": {
      "image/png": "[encoded data removed]",
      "text/plain": [
       "<Figure size 432x288 with 1 Axes>"
      ]
     },
     "metadata": {
      "needs_background": "light"
     },
     "output_type": "display_data"
    }
   ],
   "source": [
    "# Plot learning curve\n",
    "plt.plot(history.history['loss'] , 'g')\n",
    "plt.plot(history.history['val_loss'] , 'b')\n",
    "plt.title('model loss')\n",
    "plt.ylabel('loss')\n",
    "plt.xlabel('epoch')\n",
    "plt.legend(['train', 'test'], loc='upper left')\n",
    "plt.grid(True)\n",
    "plt.show()"
   ]
  },
  {
   "cell_type": "markdown",
   "metadata": {
    "id": "a57dfee5"
   },
   "source": [
    "### Prediction"
   ]
  },
  {
   "cell_type": "markdown",
   "metadata": {
    "id": "4587abb7"
   },
   "source": [
    "##### Question 1\n",
    "Write a method called `mf_recommender` which\n",
    " - takes a user `U` using its continuous index (from 0 to `NB_USER`)\n",
    " - finds the 10 closest users to `U`\n",
    " - returns the best book unread by `U` and rated by more than 3 of these 10 closest users\n",
    "\n",
    "**Hint**\n",
    "To get the users embeddings\n",
    "```python\n",
    "user_emb_layer = model.get_layer('user_embedding')\n",
    "user_emb_weight = user_emb_layer.get_weights()[0]\n",
    "```"
   ]
  },
  {
   "cell_type": "markdown",
   "metadata": {
    "id": "88745d16"
   },
   "source": [
    "##### Solution"
   ]
  },
  {
   "cell_type": "code",
   "execution_count": null,
   "metadata": {
    "id": "fde9d87a"
   },
   "outputs": [],
   "source": [
    "user_emb_layer = mf_model.get_layer('user_embedding')\n",
    "user_emb_weight = user_emb_layer.get_weights()[0]"
   ]
  },
  {
   "cell_type": "code",
   "execution_count": null,
   "metadata": {
    "id": "h6cnN-dVbYLq"
   },
   "outputs": [],
   "source": [
    "from sklearn.metrics.pairwise import cosine_similarity,euclidean_distances,manhattan_distances\n",
    "import numpy as np"
   ]
  },
  {
   "cell_type": "code",
   "execution_count": null,
   "metadata": {
    "id": "xMQV5RrfpPZ1"
   },
   "outputs": [],
   "source": [
    "def mf_recommender(user_id,num_recommendations=1):\n",
    "\n",
    "  target_user = user_emb_weight[user_id]\n",
    "  \n",
    "  distances = cosine_similarity(X=user_emb_weight,Y=target_user.reshape(1,user_emb_weight.shape[1]))\n",
    "  \n",
    "  sorted_distances = sorted([(i,distances[i][0]) for i in range(user_emb_weight.shape[0])],key=lambda tup: tup[1],reverse=True)\n",
    "  \n",
    "  closest_10_users = [dist[0] for dist in sorted_distances[1:11]]\n",
    "  \n",
    "  closest_10_users_df = final_df[final_df['User-ID-Continuous'].isin(closest_10_users)]\n",
    "\n",
    "  target_user_books = final_df[final_df['User-ID-Continuous'] == user_id]['Book-Title'].values\n",
    "\n",
    "  closest_10_users_df = closest_10_users_df[~closest_10_users_df['Book-Title'].isin(target_user_books)]\n",
    "  \n",
    "  books_read_by_users = closest_10_users_df.groupby('Book-Title').agg({'User-ID':np.count_nonzero,'Book_Rating':np.mean})\n",
    "  \n",
    "  best_book = books_read_by_users[books_read_by_users['User-ID']>=3].nlargest(num_recommendations,'Book_Rating')\n",
    "  \n",
    "  return best_book.reset_index().rename(columns={'User-ID':'count','Book_Rating':'mean'})"
   ]
  },
  {
   "cell_type": "code",
   "execution_count": null,
   "metadata": {
    "colab": {
     "base_uri": "https://localhost:8080/",
     "height": 81
    },
    "id": "EUeP35tLtXkh",
    "outputId": "56f84d6b-e0e8-46d1-8f18-5bc8c78f8a23"
   },
   "outputs": [
    {
     "data": {
      "text/html": [
       "\n",
       "  <div id=\"df-e7381f72-62ac-4831-ab6f-7a9b48a02079\">\n",
       "    <div class=\"colab-df-container\">\n",
       "      <div>\n",
       "<style scoped>\n",
       "    .dataframe tbody tr th:only-of-type {\n",
       "        vertical-align: middle;\n",
       "    }\n",
       "\n",
       "    .dataframe tbody tr th {\n",
       "        vertical-align: top;\n",
       "    }\n",
       "\n",
       "    .dataframe thead th {\n",
       "        text-align: right;\n",
       "    }\n",
       "</style>\n",
       "<table border=\"1\" class=\"dataframe\">\n",
       "  <thead>\n",
       "    <tr style=\"text-align: right;\">\n",
       "      <th></th>\n",
       "      <th>Book-Title</th>\n",
       "      <th>count</th>\n",
       "      <th>mean</th>\n",
       "    </tr>\n",
       "  </thead>\n",
       "  <tbody>\n",
       "    <tr>\n",
       "      <th>0</th>\n",
       "      <td>Bridget Jones's Diary</td>\n",
       "      <td>4</td>\n",
       "      <td>3.75</td>\n",
       "    </tr>\n",
       "  </tbody>\n",
       "</table>\n",
       "</div>\n",
       "      <button class=\"colab-df-convert\" onclick=\"convertToInteractive('df-e7381f72-62ac-4831-ab6f-7a9b48a02079')\"\n",
       "              title=\"Convert this dataframe to an interactive table.\"\n",
       "              style=\"display:none;\">\n",
       "        \n",
       "  <svg xmlns=\"http://www.w3.org/2000/svg\" height=\"24px\"viewBox=\"0 0 24 24\"\n",
       "       width=\"24px\">\n",
       "    <path d=\"M0 0h24v24H0V0z\" fill=\"none\"/>\n",
       "    <path d=\"M18.56 5.44l.94 2.06.94-2.06 2.06-.94-2.06-.94-.94-2.06-.94 2.06-2.06.94zm-11 1L8.5 8.5l.94-2.06 2.06-.94-2.06-.94L8.5 2.5l-.94 2.06-2.06.94zm10 10l.94 2.06.94-2.06 2.06-.94-2.06-.94-.94-2.06-.94 2.06-2.06.94z\"/><path d=\"M17.41 7.96l-1.37-1.37c-.4-.4-.92-.59-1.43-.59-.52 0-1.04.2-1.43.59L10.3 9.45l-7.72 7.72c-.78.78-.78 2.05 0 2.83L4 21.41c.39.39.9.59 1.41.59.51 0 1.02-.2 1.41-.59l7.78-7.78 2.81-2.81c.8-.78.8-2.07 0-2.86zM5.41 20L4 18.59l7.72-7.72 1.47 1.35L5.41 20z\"/>\n",
       "  </svg>\n",
       "      </button>\n",
       "      \n",
       "  <style>\n",
       "    .colab-df-container {\n",
       "      display:flex;\n",
       "      flex-wrap:wrap;\n",
       "      gap: 12px;\n",
       "    }\n",
       "\n",
       "    .colab-df-convert {\n",
       "      background-color: #E8F0FE;\n",
       "      border: none;\n",
       "      border-radius: 50%;\n",
       "      cursor: pointer;\n",
       "      display: none;\n",
       "      fill: #1967D2;\n",
       "      height: 32px;\n",
       "      padding: 0 0 0 0;\n",
       "      width: 32px;\n",
       "    }\n",
       "\n",
       "    .colab-df-convert:hover {\n",
       "      background-color: #E2EBFA;\n",
       "      box-shadow: 0px 1px 2px rgba(60, 64, 67, 0.3), 0px 1px 3px 1px rgba(60, 64, 67, 0.15);\n",
       "      fill: #174EA6;\n",
       "    }\n",
       "\n",
       "    [theme=dark] .colab-df-convert {\n",
       "      background-color: #3B4455;\n",
       "      fill: #D2E3FC;\n",
       "    }\n",
       "\n",
       "    [theme=dark] .colab-df-convert:hover {\n",
       "      background-color: #434B5C;\n",
       "      box-shadow: 0px 1px 3px 1px rgba(0, 0, 0, 0.15);\n",
       "      filter: drop-shadow(0px 1px 2px rgba(0, 0, 0, 0.3));\n",
       "      fill: #FFFFFF;\n",
       "    }\n",
       "  </style>\n",
       "\n",
       "      <script>\n",
       "        const buttonEl =\n",
       "          document.querySelector('#df-e7381f72-62ac-4831-ab6f-7a9b48a02079 button.colab-df-convert');\n",
       "        buttonEl.style.display =\n",
       "          google.colab.kernel.accessAllowed ? 'block' : 'none';\n",
       "\n",
       "        async function convertToInteractive(key) {\n",
       "          const element = document.querySelector('#df-e7381f72-62ac-4831-ab6f-7a9b48a02079');\n",
       "          const dataTable =\n",
       "            await google.colab.kernel.invokeFunction('convertToInteractive',\n",
       "                                                     [key], {});\n",
       "          if (!dataTable) return;\n",
       "\n",
       "          const docLinkHtml = 'Like what you see? Visit the ' +\n",
       "            '<a target=\"_blank\" href=https://colab.research.google.com/notebooks/data_table.ipynb>data table notebook</a>'\n",
       "            + ' to learn more about interactive tables.';\n",
       "          element.innerHTML = '';\n",
       "          dataTable['output_type'] = 'display_data';\n",
       "          await google.colab.output.renderOutput(dataTable, element);\n",
       "          const docLink = document.createElement('div');\n",
       "          docLink.innerHTML = docLinkHtml;\n",
       "          element.appendChild(docLink);\n",
       "        }\n",
       "      </script>\n",
       "    </div>\n",
       "  </div>\n",
       "  "
      ],
      "text/plain": [
       "              Book-Title  count  mean\n",
       "0  Bridget Jones's Diary      4  3.75"
      ]
     },
     "execution_count": 39,
     "metadata": {},
     "output_type": "execute_result"
    }
   ],
   "source": [
    "mf_recommender(0)"
   ]
  },
  {
   "cell_type": "markdown",
   "metadata": {
    "id": "21dcb143"
   },
   "source": [
    "##### Question 2\n",
    "Write a method `mf_book_recommender` which takes a book name and returns the 5 closest book names. If multiple pushishers published the same book (the title is the same), take the most rated book."
   ]
  },
  {
   "cell_type": "markdown",
   "metadata": {
    "id": "7e3b614c"
   },
   "source": [
    "##### Solution"
   ]
  },
  {
   "cell_type": "code",
   "execution_count": null,
   "metadata": {
    "id": "EvBRbW6-7Z_t"
   },
   "outputs": [],
   "source": [
    "book_emb_layer = mf_model.get_layer('book_embedding')\n",
    "book_emb_weight = book_emb_layer.get_weights()[0]"
   ]
  },
  {
   "cell_type": "code",
   "execution_count": null,
   "metadata": {
    "id": "9DNjYxHTuXMk"
   },
   "outputs": [],
   "source": [
    "def mf_book_recommender(title):\n",
    "\n",
    "  title_to_index = final_df[final_df['Book-Title']==title].nlargest(1,'RatingCount_user')['Book-ID-Continuous'].values[0]\n",
    "  \n",
    "  book_emb = book_emb_weight[title_to_index]\n",
    "  \n",
    "  distances = cosine_similarity(X=book_emb_weight, Y=book_emb.reshape(1, book_emb_weight.shape[1]))\n",
    "  \n",
    "  sorted_distances = sorted([(i, distances[i][0]) for i in range(book_emb_weight.shape[0])],\n",
    "                              key=lambda tup: tup[1],reverse=True)\n",
    "  \n",
    "  top_5_books = sorted_distances[1:6]\n",
    "\n",
    "  for idx,_ in top_5_books:\n",
    "    print(final_df[final_df['Book-ID-Continuous']==idx]['Book-Title'].values[0])\n",
    "\n",
    "  return"
   ]
  },
  {
   "cell_type": "code",
   "execution_count": null,
   "metadata": {
    "colab": {
     "base_uri": "https://localhost:8080/"
    },
    "id": "c7MC7QtpoS5O",
    "outputId": "18c4b770-6c1d-4c72-e463-6576548e19ac"
   },
   "outputs": [
    {
     "name": "stdout",
     "output_type": "stream",
     "text": [
      "Pastime\n",
      "Sphere\n",
      "Wayside School Gets a Little Stranger (Wayside School)\n",
      "Earth\n",
      "A Prayer for Owen Meany\n"
     ]
    }
   ],
   "source": [
    "mf_book_recommender(\"1984\")"
   ]
  },
  {
   "cell_type": "code",
   "execution_count": null,
   "metadata": {
    "colab": {
     "base_uri": "https://localhost:8080/"
    },
    "id": "gP6xznLaZZc6",
    "outputId": "682bb15d-7e7e-4cea-ae10-b4fc69edc9a9"
   },
   "outputs": [
    {
     "name": "stdout",
     "output_type": "stream",
     "text": [
      "Harry Potter and the Goblet of Fire (Book 4)\n",
      "Midnight In the Garden of Good and Evil\n",
      "Harry Potter and the Order of the Phoenix (Book 5)\n",
      "Bitter Sweet\n",
      "Christmas Box (Christmas Box Trilogy)\n"
     ]
    }
   ],
   "source": [
    "mf_book_recommender('Harry Potter and the Chamber of Secrets (Book 2)')"
   ]
  },
  {
   "cell_type": "markdown",
   "metadata": {
    "id": "bf93be41"
   },
   "source": [
    "##### Question 3\n",
    "In a production setting (real time answers, lots of users etc.):\n",
    "- What are the advantages/drawbacks of this approach ?\n",
    "- Which solution can we use to reduce these drawbacks ?"
   ]
  },
  {
   "cell_type": "markdown",
   "metadata": {
    "id": "ab5a676f"
   },
   "source": [
    "##### Answer"
   ]
  },
  {
   "cell_type": "markdown",
   "metadata": {
    "id": "aa50b747"
   },
   "source": [
    "For this method, the advantages of using collobrative filtering consist of using embedding layers which are automatically learned. Also, this apporach can help existing users get new \"relevent\" recommendations that might be interesting for them.\n",
    "\n",
    "But, for the drawbacks, if we have a new book which is not rated yet, we can not give any recommendations to someone about this book. The same thing apply for a new user which we described in the first part.\n",
    "\n",
    "Solutions : We can combine this apporach with the first one in the case of a new book that hasn't been rated yet. As for new users, we can apply the same solution mentioned in the first part which is the usage of demographic information. \n"
   ]
  },
  {
   "cell_type": "code",
   "execution_count": null,
   "metadata": {
    "id": "a3mKCLgk5DxA"
   },
   "outputs": [],
   "source": []
  },
  {
   "cell_type": "markdown",
   "metadata": {
    "id": "87853e35"
   },
   "source": [
    "# Deep Neural Network Based Recommendation Systems"
   ]
  },
  {
   "cell_type": "markdown",
   "metadata": {
    "id": "1fd00cbc"
   },
   "source": [
    "![](https://miro.medium.com/max/700/1*sTBtqrsQzTKlZ8hSU7I6FQ.png)"
   ]
  },
  {
   "cell_type": "markdown",
   "metadata": {
    "id": "605e2d3e"
   },
   "source": [
    "## The data"
   ]
  },
  {
   "cell_type": "markdown",
   "metadata": {
    "id": "56a321f6"
   },
   "source": [
    "The train data are orders from **2019-08-04**, and the test data are orders from **2019-08-05**"
   ]
  },
  {
   "cell_type": "markdown",
   "metadata": {
    "id": "cda85be3"
   },
   "source": [
    "##### Lines"
   ]
  },
  {
   "cell_type": "markdown",
   "metadata": {
    "id": "7e3ea627"
   },
   "source": [
    "The data is contructed as follow:\n",
    "\n",
    "- We collect every order of one day\n",
    "- For each order we collect features of the user, the context and the related sales\n",
    "- We pick a random sales which did not generate an order for the same user at the same time and compute the same features\n",
    "\n",
    "We describe these two sales as positive item for the first one and negative item for the second one."
   ]
  },
  {
   "cell_type": "markdown",
   "metadata": {
    "id": "e2866c47"
   },
   "source": [
    "##### Columns"
   ]
  },
  {
   "cell_type": "markdown",
   "metadata": {
    "id": "1884d1a1"
   },
   "source": [
    "Here the features are anonymize and scaled. They describe different things such as:\n",
    " - The sales: the brand, the sector, the popularity of the sale at the order time,  etc.\n",
    " - The user: gender, age etc.\n",
    " - The past sales that the user viewed / bought from"
   ]
  },
  {
   "cell_type": "code",
   "execution_count": null,
   "metadata": {
    "colab": {
     "base_uri": "https://localhost:8080/"
    },
    "id": "23262f20",
    "outputId": "327f6df6-6ca4-4d35-a55c-0bf94280eebb"
   },
   "outputs": [
    {
     "data": {
      "text/plain": [
       "(98430, 354)"
      ]
     },
     "execution_count": 44,
     "metadata": {},
     "output_type": "execute_result"
    }
   ],
   "source": [
    "X = pd.read_csv('/content/drive/MyDrive/data/2019-08-04_anon.csv.gz', compression=\"gzip\", index_col=0)\n",
    "X.shape"
   ]
  },
  {
   "cell_type": "code",
   "execution_count": null,
   "metadata": {
    "colab": {
     "base_uri": "https://localhost:8080/",
     "height": 300
    },
    "id": "10d6e7a7",
    "outputId": "68d7415a-128c-41d0-cc59-e32052696400"
   },
   "outputs": [
    {
     "data": {
      "text/html": [
       "\n",
       "  <div id=\"df-91ada71f-c7f6-43f5-922c-ce9925500b27\">\n",
       "    <div class=\"colab-df-container\">\n",
       "      <div>\n",
       "<style scoped>\n",
       "    .dataframe tbody tr th:only-of-type {\n",
       "        vertical-align: middle;\n",
       "    }\n",
       "\n",
       "    .dataframe tbody tr th {\n",
       "        vertical-align: top;\n",
       "    }\n",
       "\n",
       "    .dataframe thead th {\n",
       "        text-align: right;\n",
       "    }\n",
       "</style>\n",
       "<table border=\"1\" class=\"dataframe\">\n",
       "  <thead>\n",
       "    <tr style=\"text-align: right;\">\n",
       "      <th></th>\n",
       "      <th>0</th>\n",
       "      <th>1</th>\n",
       "      <th>2</th>\n",
       "      <th>3</th>\n",
       "      <th>4</th>\n",
       "      <th>5</th>\n",
       "      <th>6</th>\n",
       "      <th>7</th>\n",
       "      <th>8</th>\n",
       "      <th>9</th>\n",
       "      <th>10</th>\n",
       "      <th>11</th>\n",
       "      <th>12</th>\n",
       "      <th>13</th>\n",
       "      <th>14</th>\n",
       "      <th>15</th>\n",
       "      <th>16</th>\n",
       "      <th>17</th>\n",
       "      <th>18</th>\n",
       "      <th>19</th>\n",
       "      <th>20</th>\n",
       "      <th>21</th>\n",
       "      <th>22</th>\n",
       "      <th>23</th>\n",
       "      <th>24</th>\n",
       "      <th>25</th>\n",
       "      <th>26</th>\n",
       "      <th>27</th>\n",
       "      <th>28</th>\n",
       "      <th>29</th>\n",
       "      <th>30</th>\n",
       "      <th>31</th>\n",
       "      <th>32</th>\n",
       "      <th>33</th>\n",
       "      <th>34</th>\n",
       "      <th>35</th>\n",
       "      <th>36</th>\n",
       "      <th>37</th>\n",
       "      <th>38</th>\n",
       "      <th>39</th>\n",
       "      <th>...</th>\n",
       "      <th>314</th>\n",
       "      <th>315</th>\n",
       "      <th>316</th>\n",
       "      <th>317</th>\n",
       "      <th>318</th>\n",
       "      <th>319</th>\n",
       "      <th>320</th>\n",
       "      <th>321</th>\n",
       "      <th>322</th>\n",
       "      <th>323</th>\n",
       "      <th>324</th>\n",
       "      <th>325</th>\n",
       "      <th>326</th>\n",
       "      <th>327</th>\n",
       "      <th>328</th>\n",
       "      <th>329</th>\n",
       "      <th>330</th>\n",
       "      <th>331</th>\n",
       "      <th>332</th>\n",
       "      <th>333</th>\n",
       "      <th>334</th>\n",
       "      <th>335</th>\n",
       "      <th>336</th>\n",
       "      <th>337</th>\n",
       "      <th>338</th>\n",
       "      <th>339</th>\n",
       "      <th>340</th>\n",
       "      <th>341</th>\n",
       "      <th>342</th>\n",
       "      <th>343</th>\n",
       "      <th>344</th>\n",
       "      <th>345</th>\n",
       "      <th>346</th>\n",
       "      <th>347</th>\n",
       "      <th>348</th>\n",
       "      <th>349</th>\n",
       "      <th>350</th>\n",
       "      <th>351</th>\n",
       "      <th>352</th>\n",
       "      <th>label</th>\n",
       "    </tr>\n",
       "  </thead>\n",
       "  <tbody>\n",
       "    <tr>\n",
       "      <th>0</th>\n",
       "      <td>0.004651</td>\n",
       "      <td>0.000838</td>\n",
       "      <td>0.000918</td>\n",
       "      <td>0.011108</td>\n",
       "      <td>0.200549</td>\n",
       "      <td>0.0</td>\n",
       "      <td>0.0</td>\n",
       "      <td>0.0</td>\n",
       "      <td>0.0</td>\n",
       "      <td>0.0</td>\n",
       "      <td>0.0</td>\n",
       "      <td>0.0</td>\n",
       "      <td>1.0</td>\n",
       "      <td>0.006173</td>\n",
       "      <td>0.200000</td>\n",
       "      <td>0.001812</td>\n",
       "      <td>0.150000</td>\n",
       "      <td>0.002144</td>\n",
       "      <td>0.150000</td>\n",
       "      <td>0.024321</td>\n",
       "      <td>0.717033</td>\n",
       "      <td>0.011494</td>\n",
       "      <td>0.200000</td>\n",
       "      <td>0.002591</td>\n",
       "      <td>0.150000</td>\n",
       "      <td>0.003188</td>\n",
       "      <td>0.150000</td>\n",
       "      <td>0.030599</td>\n",
       "      <td>0.717033</td>\n",
       "      <td>0.090909</td>\n",
       "      <td>0.200000</td>\n",
       "      <td>0.029126</td>\n",
       "      <td>0.150000</td>\n",
       "      <td>0.032258</td>\n",
       "      <td>0.150000</td>\n",
       "      <td>0.030599</td>\n",
       "      <td>0.717033</td>\n",
       "      <td>0.000000</td>\n",
       "      <td>0.000000</td>\n",
       "      <td>0.000000</td>\n",
       "      <td>...</td>\n",
       "      <td>0.032927</td>\n",
       "      <td>0.118435</td>\n",
       "      <td>0.034467</td>\n",
       "      <td>0.115075</td>\n",
       "      <td>0.019608</td>\n",
       "      <td>0.039459</td>\n",
       "      <td>0.0</td>\n",
       "      <td>0.000761</td>\n",
       "      <td>0.061674</td>\n",
       "      <td>0.715068</td>\n",
       "      <td>0.061674</td>\n",
       "      <td>0.715068</td>\n",
       "      <td>0.000000</td>\n",
       "      <td>1.00000</td>\n",
       "      <td>0.061674</td>\n",
       "      <td>0.715068</td>\n",
       "      <td>0.000496</td>\n",
       "      <td>0.00000</td>\n",
       "      <td>1.000000</td>\n",
       "      <td>0.000000</td>\n",
       "      <td>1.000000</td>\n",
       "      <td>0.000000</td>\n",
       "      <td>1.000000</td>\n",
       "      <td>0.000000</td>\n",
       "      <td>1.000000</td>\n",
       "      <td>0.0</td>\n",
       "      <td>0.000000</td>\n",
       "      <td>-1.0</td>\n",
       "      <td>-1.000000</td>\n",
       "      <td>-1.0</td>\n",
       "      <td>-1.000000</td>\n",
       "      <td>-1.000000</td>\n",
       "      <td>0.003820</td>\n",
       "      <td>0.000000</td>\n",
       "      <td>-1.000000</td>\n",
       "      <td>0.359694</td>\n",
       "      <td>-1.000000</td>\n",
       "      <td>0.498907</td>\n",
       "      <td>0.666667</td>\n",
       "      <td>0</td>\n",
       "    </tr>\n",
       "    <tr>\n",
       "      <th>1</th>\n",
       "      <td>0.007442</td>\n",
       "      <td>0.000503</td>\n",
       "      <td>0.000551</td>\n",
       "      <td>0.011749</td>\n",
       "      <td>0.582418</td>\n",
       "      <td>0.0</td>\n",
       "      <td>0.0</td>\n",
       "      <td>0.0</td>\n",
       "      <td>0.0</td>\n",
       "      <td>0.0</td>\n",
       "      <td>0.0</td>\n",
       "      <td>0.0</td>\n",
       "      <td>1.0</td>\n",
       "      <td>0.012346</td>\n",
       "      <td>0.250000</td>\n",
       "      <td>0.001812</td>\n",
       "      <td>0.250000</td>\n",
       "      <td>0.002144</td>\n",
       "      <td>0.250000</td>\n",
       "      <td>0.029151</td>\n",
       "      <td>0.719780</td>\n",
       "      <td>0.000000</td>\n",
       "      <td>0.000000</td>\n",
       "      <td>0.000000</td>\n",
       "      <td>0.000000</td>\n",
       "      <td>0.000000</td>\n",
       "      <td>0.000000</td>\n",
       "      <td>0.000000</td>\n",
       "      <td>1.000000</td>\n",
       "      <td>0.000000</td>\n",
       "      <td>0.000000</td>\n",
       "      <td>0.000000</td>\n",
       "      <td>0.000000</td>\n",
       "      <td>0.000000</td>\n",
       "      <td>0.000000</td>\n",
       "      <td>0.000000</td>\n",
       "      <td>1.000000</td>\n",
       "      <td>0.004274</td>\n",
       "      <td>0.000613</td>\n",
       "      <td>0.000710</td>\n",
       "      <td>...</td>\n",
       "      <td>0.005357</td>\n",
       "      <td>0.015723</td>\n",
       "      <td>0.003968</td>\n",
       "      <td>0.009292</td>\n",
       "      <td>0.008000</td>\n",
       "      <td>0.004109</td>\n",
       "      <td>0.0</td>\n",
       "      <td>0.000640</td>\n",
       "      <td>0.000000</td>\n",
       "      <td>1.000000</td>\n",
       "      <td>0.230366</td>\n",
       "      <td>0.104110</td>\n",
       "      <td>0.000000</td>\n",
       "      <td>1.00000</td>\n",
       "      <td>0.382199</td>\n",
       "      <td>0.104110</td>\n",
       "      <td>0.000000</td>\n",
       "      <td>0.00000</td>\n",
       "      <td>1.000000</td>\n",
       "      <td>0.000000</td>\n",
       "      <td>1.000000</td>\n",
       "      <td>0.000000</td>\n",
       "      <td>1.000000</td>\n",
       "      <td>0.000000</td>\n",
       "      <td>1.000000</td>\n",
       "      <td>0.0</td>\n",
       "      <td>0.000000</td>\n",
       "      <td>-1.0</td>\n",
       "      <td>-1.000000</td>\n",
       "      <td>-1.0</td>\n",
       "      <td>-1.000000</td>\n",
       "      <td>-1.000000</td>\n",
       "      <td>0.006875</td>\n",
       "      <td>0.000000</td>\n",
       "      <td>-1.000000</td>\n",
       "      <td>0.085641</td>\n",
       "      <td>-1.000000</td>\n",
       "      <td>0.645773</td>\n",
       "      <td>0.333333</td>\n",
       "      <td>1</td>\n",
       "    </tr>\n",
       "    <tr>\n",
       "      <th>2</th>\n",
       "      <td>0.006512</td>\n",
       "      <td>0.000335</td>\n",
       "      <td>0.000275</td>\n",
       "      <td>0.040644</td>\n",
       "      <td>0.085165</td>\n",
       "      <td>0.0</td>\n",
       "      <td>0.0</td>\n",
       "      <td>0.0</td>\n",
       "      <td>0.0</td>\n",
       "      <td>0.0</td>\n",
       "      <td>0.0</td>\n",
       "      <td>0.0</td>\n",
       "      <td>1.0</td>\n",
       "      <td>0.006173</td>\n",
       "      <td>0.142857</td>\n",
       "      <td>0.000604</td>\n",
       "      <td>0.125000</td>\n",
       "      <td>0.000715</td>\n",
       "      <td>0.166667</td>\n",
       "      <td>0.009038</td>\n",
       "      <td>0.085165</td>\n",
       "      <td>0.011494</td>\n",
       "      <td>0.142857</td>\n",
       "      <td>0.000864</td>\n",
       "      <td>0.125000</td>\n",
       "      <td>0.001063</td>\n",
       "      <td>0.166667</td>\n",
       "      <td>0.011371</td>\n",
       "      <td>0.085165</td>\n",
       "      <td>0.090909</td>\n",
       "      <td>0.142857</td>\n",
       "      <td>0.009709</td>\n",
       "      <td>0.125000</td>\n",
       "      <td>0.010753</td>\n",
       "      <td>0.166667</td>\n",
       "      <td>0.011371</td>\n",
       "      <td>0.085165</td>\n",
       "      <td>0.001832</td>\n",
       "      <td>0.000107</td>\n",
       "      <td>0.000118</td>\n",
       "      <td>...</td>\n",
       "      <td>0.021522</td>\n",
       "      <td>0.026639</td>\n",
       "      <td>0.018010</td>\n",
       "      <td>0.021109</td>\n",
       "      <td>0.000000</td>\n",
       "      <td>0.000000</td>\n",
       "      <td>0.0</td>\n",
       "      <td>0.006782</td>\n",
       "      <td>0.036561</td>\n",
       "      <td>0.002740</td>\n",
       "      <td>0.047925</td>\n",
       "      <td>0.002740</td>\n",
       "      <td>0.001482</td>\n",
       "      <td>0.00274</td>\n",
       "      <td>0.101285</td>\n",
       "      <td>0.002740</td>\n",
       "      <td>0.006532</td>\n",
       "      <td>0.02069</td>\n",
       "      <td>0.033333</td>\n",
       "      <td>0.165517</td>\n",
       "      <td>0.033333</td>\n",
       "      <td>0.068966</td>\n",
       "      <td>0.033333</td>\n",
       "      <td>0.068966</td>\n",
       "      <td>0.033333</td>\n",
       "      <td>0.0</td>\n",
       "      <td>0.076923</td>\n",
       "      <td>-1.0</td>\n",
       "      <td>0.440789</td>\n",
       "      <td>-1.0</td>\n",
       "      <td>0.440789</td>\n",
       "      <td>0.004264</td>\n",
       "      <td>0.009931</td>\n",
       "      <td>0.000000</td>\n",
       "      <td>-1.000000</td>\n",
       "      <td>0.159985</td>\n",
       "      <td>-1.000000</td>\n",
       "      <td>0.456268</td>\n",
       "      <td>0.666667</td>\n",
       "      <td>1</td>\n",
       "    </tr>\n",
       "    <tr>\n",
       "      <th>3</th>\n",
       "      <td>0.028837</td>\n",
       "      <td>0.002094</td>\n",
       "      <td>0.000596</td>\n",
       "      <td>0.047092</td>\n",
       "      <td>0.107143</td>\n",
       "      <td>0.0</td>\n",
       "      <td>0.0</td>\n",
       "      <td>0.0</td>\n",
       "      <td>0.0</td>\n",
       "      <td>0.0</td>\n",
       "      <td>0.0</td>\n",
       "      <td>0.0</td>\n",
       "      <td>1.0</td>\n",
       "      <td>0.006173</td>\n",
       "      <td>0.032258</td>\n",
       "      <td>0.000604</td>\n",
       "      <td>0.020000</td>\n",
       "      <td>0.000715</td>\n",
       "      <td>0.076923</td>\n",
       "      <td>0.011962</td>\n",
       "      <td>0.788462</td>\n",
       "      <td>0.011494</td>\n",
       "      <td>0.032258</td>\n",
       "      <td>0.000864</td>\n",
       "      <td>0.020000</td>\n",
       "      <td>0.001063</td>\n",
       "      <td>0.076923</td>\n",
       "      <td>0.015050</td>\n",
       "      <td>0.788462</td>\n",
       "      <td>0.000000</td>\n",
       "      <td>0.000000</td>\n",
       "      <td>0.000000</td>\n",
       "      <td>0.000000</td>\n",
       "      <td>0.000000</td>\n",
       "      <td>0.000000</td>\n",
       "      <td>0.000000</td>\n",
       "      <td>1.000000</td>\n",
       "      <td>0.002442</td>\n",
       "      <td>0.000400</td>\n",
       "      <td>0.000444</td>\n",
       "      <td>...</td>\n",
       "      <td>0.030000</td>\n",
       "      <td>0.026238</td>\n",
       "      <td>0.018792</td>\n",
       "      <td>0.016247</td>\n",
       "      <td>0.024000</td>\n",
       "      <td>0.010673</td>\n",
       "      <td>0.0</td>\n",
       "      <td>0.008089</td>\n",
       "      <td>0.000829</td>\n",
       "      <td>0.841096</td>\n",
       "      <td>0.014499</td>\n",
       "      <td>0.367123</td>\n",
       "      <td>0.000000</td>\n",
       "      <td>1.00000</td>\n",
       "      <td>0.015327</td>\n",
       "      <td>0.035616</td>\n",
       "      <td>0.004010</td>\n",
       "      <td>0.00000</td>\n",
       "      <td>1.000000</td>\n",
       "      <td>0.011236</td>\n",
       "      <td>0.433333</td>\n",
       "      <td>0.000000</td>\n",
       "      <td>1.000000</td>\n",
       "      <td>0.000000</td>\n",
       "      <td>1.000000</td>\n",
       "      <td>0.0</td>\n",
       "      <td>0.000000</td>\n",
       "      <td>-1.0</td>\n",
       "      <td>-1.000000</td>\n",
       "      <td>-1.0</td>\n",
       "      <td>-1.000000</td>\n",
       "      <td>-1.000000</td>\n",
       "      <td>0.001528</td>\n",
       "      <td>0.000000</td>\n",
       "      <td>-1.000000</td>\n",
       "      <td>0.259840</td>\n",
       "      <td>-1.000000</td>\n",
       "      <td>0.259840</td>\n",
       "      <td>0.555556</td>\n",
       "      <td>0</td>\n",
       "    </tr>\n",
       "    <tr>\n",
       "      <th>4</th>\n",
       "      <td>0.018605</td>\n",
       "      <td>0.001969</td>\n",
       "      <td>0.002110</td>\n",
       "      <td>0.005106</td>\n",
       "      <td>0.101648</td>\n",
       "      <td>0.0</td>\n",
       "      <td>0.0</td>\n",
       "      <td>0.0</td>\n",
       "      <td>0.0</td>\n",
       "      <td>0.0</td>\n",
       "      <td>0.0</td>\n",
       "      <td>0.0</td>\n",
       "      <td>1.0</td>\n",
       "      <td>0.018519</td>\n",
       "      <td>0.150000</td>\n",
       "      <td>0.006039</td>\n",
       "      <td>0.212766</td>\n",
       "      <td>0.007148</td>\n",
       "      <td>0.217391</td>\n",
       "      <td>0.002480</td>\n",
       "      <td>0.101648</td>\n",
       "      <td>0.011494</td>\n",
       "      <td>0.050000</td>\n",
       "      <td>0.001727</td>\n",
       "      <td>0.042553</td>\n",
       "      <td>0.002125</td>\n",
       "      <td>0.043478</td>\n",
       "      <td>0.004010</td>\n",
       "      <td>0.348901</td>\n",
       "      <td>0.090909</td>\n",
       "      <td>0.050000</td>\n",
       "      <td>0.019417</td>\n",
       "      <td>0.042553</td>\n",
       "      <td>0.021505</td>\n",
       "      <td>0.043478</td>\n",
       "      <td>0.004010</td>\n",
       "      <td>0.348901</td>\n",
       "      <td>0.009158</td>\n",
       "      <td>0.001627</td>\n",
       "      <td>0.001686</td>\n",
       "      <td>...</td>\n",
       "      <td>0.442771</td>\n",
       "      <td>0.327363</td>\n",
       "      <td>0.073610</td>\n",
       "      <td>0.043416</td>\n",
       "      <td>0.638889</td>\n",
       "      <td>0.493128</td>\n",
       "      <td>0.0</td>\n",
       "      <td>0.006776</td>\n",
       "      <td>0.012859</td>\n",
       "      <td>0.243836</td>\n",
       "      <td>0.011869</td>\n",
       "      <td>0.243836</td>\n",
       "      <td>0.000000</td>\n",
       "      <td>1.00000</td>\n",
       "      <td>0.136993</td>\n",
       "      <td>0.098630</td>\n",
       "      <td>0.000315</td>\n",
       "      <td>0.00000</td>\n",
       "      <td>1.000000</td>\n",
       "      <td>0.000000</td>\n",
       "      <td>1.000000</td>\n",
       "      <td>0.000000</td>\n",
       "      <td>1.000000</td>\n",
       "      <td>0.000000</td>\n",
       "      <td>1.000000</td>\n",
       "      <td>0.0</td>\n",
       "      <td>0.000000</td>\n",
       "      <td>-1.0</td>\n",
       "      <td>-1.000000</td>\n",
       "      <td>-1.0</td>\n",
       "      <td>-1.000000</td>\n",
       "      <td>-1.000000</td>\n",
       "      <td>0.048128</td>\n",
       "      <td>0.004444</td>\n",
       "      <td>0.526258</td>\n",
       "      <td>0.103134</td>\n",
       "      <td>0.848816</td>\n",
       "      <td>0.848761</td>\n",
       "      <td>0.666667</td>\n",
       "      <td>1</td>\n",
       "    </tr>\n",
       "  </tbody>\n",
       "</table>\n",
       "<p>5 rows × 354 columns</p>\n",
       "</div>\n",
       "      <button class=\"colab-df-convert\" onclick=\"convertToInteractive('df-91ada71f-c7f6-43f5-922c-ce9925500b27')\"\n",
       "              title=\"Convert this dataframe to an interactive table.\"\n",
       "              style=\"display:none;\">\n",
       "        \n",
       "  <svg xmlns=\"http://www.w3.org/2000/svg\" height=\"24px\"viewBox=\"0 0 24 24\"\n",
       "       width=\"24px\">\n",
       "    <path d=\"M0 0h24v24H0V0z\" fill=\"none\"/>\n",
       "    <path d=\"M18.56 5.44l.94 2.06.94-2.06 2.06-.94-2.06-.94-.94-2.06-.94 2.06-2.06.94zm-11 1L8.5 8.5l.94-2.06 2.06-.94-2.06-.94L8.5 2.5l-.94 2.06-2.06.94zm10 10l.94 2.06.94-2.06 2.06-.94-2.06-.94-.94-2.06-.94 2.06-2.06.94z\"/><path d=\"M17.41 7.96l-1.37-1.37c-.4-.4-.92-.59-1.43-.59-.52 0-1.04.2-1.43.59L10.3 9.45l-7.72 7.72c-.78.78-.78 2.05 0 2.83L4 21.41c.39.39.9.59 1.41.59.51 0 1.02-.2 1.41-.59l7.78-7.78 2.81-2.81c.8-.78.8-2.07 0-2.86zM5.41 20L4 18.59l7.72-7.72 1.47 1.35L5.41 20z\"/>\n",
       "  </svg>\n",
       "      </button>\n",
       "      \n",
       "  <style>\n",
       "    .colab-df-container {\n",
       "      display:flex;\n",
       "      flex-wrap:wrap;\n",
       "      gap: 12px;\n",
       "    }\n",
       "\n",
       "    .colab-df-convert {\n",
       "      background-color: #E8F0FE;\n",
       "      border: none;\n",
       "      border-radius: 50%;\n",
       "      cursor: pointer;\n",
       "      display: none;\n",
       "      fill: #1967D2;\n",
       "      height: 32px;\n",
       "      padding: 0 0 0 0;\n",
       "      width: 32px;\n",
       "    }\n",
       "\n",
       "    .colab-df-convert:hover {\n",
       "      background-color: #E2EBFA;\n",
       "      box-shadow: 0px 1px 2px rgba(60, 64, 67, 0.3), 0px 1px 3px 1px rgba(60, 64, 67, 0.15);\n",
       "      fill: #174EA6;\n",
       "    }\n",
       "\n",
       "    [theme=dark] .colab-df-convert {\n",
       "      background-color: #3B4455;\n",
       "      fill: #D2E3FC;\n",
       "    }\n",
       "\n",
       "    [theme=dark] .colab-df-convert:hover {\n",
       "      background-color: #434B5C;\n",
       "      box-shadow: 0px 1px 3px 1px rgba(0, 0, 0, 0.15);\n",
       "      filter: drop-shadow(0px 1px 2px rgba(0, 0, 0, 0.3));\n",
       "      fill: #FFFFFF;\n",
       "    }\n",
       "  </style>\n",
       "\n",
       "      <script>\n",
       "        const buttonEl =\n",
       "          document.querySelector('#df-91ada71f-c7f6-43f5-922c-ce9925500b27 button.colab-df-convert');\n",
       "        buttonEl.style.display =\n",
       "          google.colab.kernel.accessAllowed ? 'block' : 'none';\n",
       "\n",
       "        async function convertToInteractive(key) {\n",
       "          const element = document.querySelector('#df-91ada71f-c7f6-43f5-922c-ce9925500b27');\n",
       "          const dataTable =\n",
       "            await google.colab.kernel.invokeFunction('convertToInteractive',\n",
       "                                                     [key], {});\n",
       "          if (!dataTable) return;\n",
       "\n",
       "          const docLinkHtml = 'Like what you see? Visit the ' +\n",
       "            '<a target=\"_blank\" href=https://colab.research.google.com/notebooks/data_table.ipynb>data table notebook</a>'\n",
       "            + ' to learn more about interactive tables.';\n",
       "          element.innerHTML = '';\n",
       "          dataTable['output_type'] = 'display_data';\n",
       "          await google.colab.output.renderOutput(dataTable, element);\n",
       "          const docLink = document.createElement('div');\n",
       "          docLink.innerHTML = docLinkHtml;\n",
       "          element.appendChild(docLink);\n",
       "        }\n",
       "      </script>\n",
       "    </div>\n",
       "  </div>\n",
       "  "
      ],
      "text/plain": [
       "          0         1         2         3  ...       350       351       352  label\n",
       "0  0.004651  0.000838  0.000918  0.011108  ... -1.000000  0.498907  0.666667      0\n",
       "1  0.007442  0.000503  0.000551  0.011749  ... -1.000000  0.645773  0.333333      1\n",
       "2  0.006512  0.000335  0.000275  0.040644  ... -1.000000  0.456268  0.666667      1\n",
       "3  0.028837  0.002094  0.000596  0.047092  ... -1.000000  0.259840  0.555556      0\n",
       "4  0.018605  0.001969  0.002110  0.005106  ...  0.848816  0.848761  0.666667      1\n",
       "\n",
       "[5 rows x 354 columns]"
      ]
     },
     "execution_count": 45,
     "metadata": {},
     "output_type": "execute_result"
    }
   ],
   "source": [
    "X.head()"
   ]
  },
  {
   "cell_type": "markdown",
   "metadata": {
    "id": "fde138c6"
   },
   "source": [
    "## Data Preparation"
   ]
  },
  {
   "cell_type": "code",
   "execution_count": null,
   "metadata": {
    "id": "02bbdd57"
   },
   "outputs": [],
   "source": [
    "y = X.pop(\"label\")"
   ]
  },
  {
   "cell_type": "code",
   "execution_count": null,
   "metadata": {
    "id": "ed3c5358"
   },
   "outputs": [],
   "source": [
    "from sklearn.model_selection import train_test_split\n",
    "X_train, X_eval, y_train, y_eval = train_test_split(X, y, test_size=0.2, random_state=84)"
   ]
  },
  {
   "cell_type": "code",
   "execution_count": null,
   "metadata": {
    "id": "ea44f5f6"
   },
   "outputs": [],
   "source": [
    "X_test = pd.read_csv('/content/drive/MyDrive/data/2019-08-05_anon.csv.gz', compression=\"gzip\", index_col=0)\n",
    "y_test = X_test.pop(\"label\")"
   ]
  },
  {
   "cell_type": "markdown",
   "metadata": {
    "id": "5bb7a9ac"
   },
   "source": [
    "## Training"
   ]
  },
  {
   "cell_type": "markdown",
   "metadata": {
    "id": "071bdd59"
   },
   "source": [
    "https://keras.io/guides/training_with_built_in_methods/"
   ]
  },
  {
   "cell_type": "markdown",
   "metadata": {
    "id": "4c112c2f"
   },
   "source": [
    "<div>\n",
    "<img src=\"https://miro.medium.com/max/2400/1*zP6mLVMzxjFdK-XaOz1hjg.png\" width=\"500\"/>\n",
    "</div>"
   ]
  },
  {
   "cell_type": "markdown",
   "metadata": {
    "id": "0be8658c"
   },
   "source": [
    "### Pointwise"
   ]
  },
  {
   "cell_type": "markdown",
   "metadata": {
    "id": "1a83a18b"
   },
   "source": [
    "Like the \"Ensemble Method\" workshop, we have features and we want to predict a label which is the probability of generating an order. The recommendation here is a ranking problem where we want to display to the users the sales which will most likely generate an order"
   ]
  },
  {
   "cell_type": "markdown",
   "metadata": {
    "id": "6d1a8b0a"
   },
   "source": [
    "##### Question 1\n",
    "Write a Neural Network algorithm (using Keras) which takes the train dataset and and tries to predict the `label` using all the `features` (the features are already normalized). Don't forget to use the validation dataset.\n",
    "\n",
    "The network should have 3 layers: Input, Dense(256), Dense(128) and returns an order probability.\n",
    "\n",
    "You can implement an early stopping mechanism using callbacks ([documentation](https://keras.io/api/callbacks/early_stopping/))\n",
    "\n",
    "You should also display the evolution of the loss accross the epoch."
   ]
  },
  {
   "cell_type": "markdown",
   "metadata": {
    "id": "43539231"
   },
   "source": [
    "##### Solution"
   ]
  },
  {
   "cell_type": "code",
   "execution_count": null,
   "metadata": {
    "id": "2193816a"
   },
   "outputs": [],
   "source": [
    "EPOCHS = 1000\n",
    "BATCH_SIZE = 32\n",
    "INITIAL_LR = 10**-4 #10**-4\n",
    "\n",
    "x = keras.layers.Input(shape=(353,), name='features')\n",
    "\n",
    "dense_1 = keras.layers.Dense(256,activation=\"relu\",name=\"layer_256\")(x)\n",
    "\n",
    "dropout_1 = keras.layers.Dropout(0.1)(dense_1)\n",
    "\n",
    "dense_2 = keras.layers.Dense(128,activation=\"relu\",name=\"layer_128\")(dropout_1)\n",
    "\n",
    "output = keras.layers.Dense(1,activation=\"sigmoid\",name=\"output\")(dense_2)\n",
    "\n",
    "model = keras.Model(x,output)\n",
    "\n",
    "model.compile(\n",
    "    loss=tf.keras.losses.BinaryCrossentropy(),\n",
    "    optimizer=keras.optimizers.Adam(learning_rate=INITIAL_LR)\n",
    ")\n",
    "\n",
    "early_stopping = keras.callbacks.EarlyStopping(\n",
    "    monitor='val_loss',\n",
    "    min_delta=0,\n",
    "    patience=3,\n",
    "    verbose=0,\n",
    "    mode='auto',\n",
    "    baseline=None,\n",
    "    restore_best_weights=True\n",
    ")\n"
   ]
  },
  {
   "cell_type": "code",
   "execution_count": null,
   "metadata": {
    "colab": {
     "base_uri": "https://localhost:8080/",
     "height": 533
    },
    "id": "e71976ed",
    "outputId": "b2405c61-49f2-4e2d-a93f-18285c2e3f20"
   },
   "outputs": [
    {
     "data": {
      "image/png": "[encoded data removed]",
      "text/plain": [
       "<IPython.core.display.Image object>"
      ]
     },
     "execution_count": 50,
     "metadata": {},
     "output_type": "execute_result"
    }
   ],
   "source": [
    "# Depending on your computer's configuration these lines may not work\n",
    "# It is just to illustrate what we want\n",
    "dot_img_file = 'model.png'\n",
    "#model = get_model()\n",
    "tf.keras.utils.plot_model(model, to_file=dot_img_file, show_shapes=True)"
   ]
  },
  {
   "cell_type": "markdown",
   "metadata": {
    "id": "ea9d7d27"
   },
   "source": [
    "If you do:\n",
    "```python\n",
    "history = model.fit(...)\n",
    "```\n",
    "you will then be able to plot the evolution of the losses"
   ]
  },
  {
   "cell_type": "code",
   "execution_count": null,
   "metadata": {
    "colab": {
     "base_uri": "https://localhost:8080/"
    },
    "id": "omLI1Mbo3a_j",
    "outputId": "ae241e44-e672-49bd-cba7-6571d3d3a94c"
   },
   "outputs": [
    {
     "name": "stdout",
     "output_type": "stream",
     "text": [
      "Epoch 1/1000\n",
      "2461/2461 [==============================] - 8s 3ms/step - loss: 0.4214 - val_loss: 0.3984\n",
      "Epoch 2/1000\n",
      "2461/2461 [==============================] - 7s 3ms/step - loss: 0.3940 - val_loss: 0.3904\n",
      "Epoch 3/1000\n",
      "2461/2461 [==============================] - 7s 3ms/step - loss: 0.3853 - val_loss: 0.3858\n",
      "Epoch 4/1000\n",
      "2461/2461 [==============================] - 7s 3ms/step - loss: 0.3793 - val_loss: 0.3808\n",
      "Epoch 5/1000\n",
      "2461/2461 [==============================] - 7s 3ms/step - loss: 0.3753 - val_loss: 0.3929\n",
      "Epoch 6/1000\n",
      "2461/2461 [==============================] - 7s 3ms/step - loss: 0.3706 - val_loss: 0.3754\n",
      "Epoch 7/1000\n",
      "2461/2461 [==============================] - 7s 3ms/step - loss: 0.3682 - val_loss: 0.3736\n",
      "Epoch 8/1000\n",
      "2461/2461 [==============================] - 7s 3ms/step - loss: 0.3654 - val_loss: 0.3716\n",
      "Epoch 9/1000\n",
      "2461/2461 [==============================] - 7s 3ms/step - loss: 0.3631 - val_loss: 0.3722\n",
      "Epoch 10/1000\n",
      "2461/2461 [==============================] - 7s 3ms/step - loss: 0.3605 - val_loss: 0.3709\n",
      "Epoch 11/1000\n",
      "2461/2461 [==============================] - 7s 3ms/step - loss: 0.3586 - val_loss: 0.3689\n",
      "Epoch 12/1000\n",
      "2461/2461 [==============================] - 7s 3ms/step - loss: 0.3568 - val_loss: 0.3767\n",
      "Epoch 13/1000\n",
      "2461/2461 [==============================] - 7s 3ms/step - loss: 0.3549 - val_loss: 0.3687\n",
      "Epoch 14/1000\n",
      "2461/2461 [==============================] - 7s 3ms/step - loss: 0.3532 - val_loss: 0.3678\n",
      "Epoch 15/1000\n",
      "2461/2461 [==============================] - 7s 3ms/step - loss: 0.3516 - val_loss: 0.3704\n",
      "Epoch 16/1000\n",
      "2461/2461 [==============================] - 7s 3ms/step - loss: 0.3500 - val_loss: 0.3687\n",
      "Epoch 17/1000\n",
      "2461/2461 [==============================] - 7s 3ms/step - loss: 0.3484 - val_loss: 0.3686\n"
     ]
    }
   ],
   "source": [
    "history = model.fit(\n",
    "    X_train,\n",
    "    y_train,\n",
    "    batch_size=BATCH_SIZE,\n",
    "    epochs=EPOCHS,\n",
    "    validation_data=(X_eval,y_eval),\n",
    "    verbose=1,\n",
    "    callbacks=[early_stopping]\n",
    ")"
   ]
  },
  {
   "cell_type": "code",
   "execution_count": null,
   "metadata": {
    "colab": {
     "base_uri": "https://localhost:8080/",
     "height": 295
    },
    "id": "zMhlyABwQU4B",
    "outputId": "f89f8f86-2b6a-4eb1-f5d8-8e3d3dd52222"
   },
   "outputs": [
    {
     "data": {
      "image/png": "[encoded data removed]",
      "text/plain": [
       "<Figure size 432x288 with 1 Axes>"
      ]
     },
     "metadata": {
      "needs_background": "light"
     },
     "output_type": "display_data"
    }
   ],
   "source": [
    "# Plot learning curve\n",
    "plt.plot(history.history['loss'] , 'g')\n",
    "plt.plot(history.history['val_loss'] , 'b')\n",
    "plt.title('model loss')\n",
    "plt.ylabel('loss')\n",
    "plt.xlabel('epoch')\n",
    "plt.legend(['train', 'test'], loc='upper left')\n",
    "plt.grid(True)\n",
    "plt.show()"
   ]
  },
  {
   "cell_type": "code",
   "execution_count": null,
   "metadata": {
    "colab": {
     "base_uri": "https://localhost:8080/"
    },
    "id": "oAMRRkOrQd7e",
    "outputId": "610c1729-7b17-413c-f03e-71be0d08949d"
   },
   "outputs": [
    {
     "name": "stdout",
     "output_type": "stream",
     "text": [
      "Evaluate on test data\n",
      "648/648 [==============================] - 2s 3ms/step - loss: 0.3980\n",
      "test loss, test acc: 0.397986501455307\n"
     ]
    }
   ],
   "source": [
    "print(\"Evaluate on test data\")\n",
    "results = model.evaluate(X_test.values, y_test.values, batch_size=128)\n",
    "print(\"test loss, test acc:\", results)"
   ]
  },
  {
   "cell_type": "code",
   "execution_count": null,
   "metadata": {
    "colab": {
     "base_uri": "https://localhost:8080/"
    },
    "id": "_K5viMeXQju2",
    "outputId": "1719cc72-1b94-46f8-f581-63f637f09083"
   },
   "outputs": [
    {
     "name": "stdout",
     "output_type": "stream",
     "text": [
      "Probability of good prediction with a threshold at 0.5: 0.8203965459018766\n"
     ]
    }
   ],
   "source": [
    "predictions = (model.predict(X_test.values).flatten() >= 0.5).astype(int)\n",
    "proba = sum(y_test.values == predictions) / len(predictions)\n",
    "print(\"Probability of good prediction with a threshold at 0.5: {}\".format(proba))"
   ]
  },
  {
   "cell_type": "markdown",
   "metadata": {
    "id": "c1f459ce"
   },
   "source": [
    "##### Question 2\n",
    "Evaluate your algorithm on the \"real\" test dataset: before putting our algorithm in production, we want to evaluate its performances offline. As the main goal is to rank the sales of the homepage, we will observe all the order of the past and try to rank all the sales of the homepage at that time. Then we compute the rank of the sales which generated an order to validate our algorithm.\n",
    "\n",
    "In the next testset the `id` correspond to all the sales displayed to a user who made an order. Only one sale will have the `label` `1`. This is the sale which generated an order.\n",
    "\n",
    "You will have compute the mean rank of all positive examples (label=1) when scored and ranked by your algorithm's predictions.\n",
    " "
   ]
  },
  {
   "cell_type": "markdown",
   "metadata": {
    "id": "3600a1a7"
   },
   "source": [
    "##### Solution"
   ]
  },
  {
   "cell_type": "code",
   "execution_count": null,
   "metadata": {
    "id": "fd61a127"
   },
   "outputs": [],
   "source": [
    "X_test = pd.read_csv('/content/drive/MyDrive/data/2020-08-05_anon.csv.gz', compression=\"gzip\", index_col=0)\n",
    "y_test = X_test.pop(\"label\")\n",
    "ids = X_test.pop(\"id\")"
   ]
  },
  {
   "cell_type": "code",
   "execution_count": null,
   "metadata": {
    "id": "us0VAkgNzQAn"
   },
   "outputs": [],
   "source": [
    "df=pd.concat([ids,pd.Series(model.predict(X_test).flatten()),y_test],axis=1)"
   ]
  },
  {
   "cell_type": "code",
   "execution_count": null,
   "metadata": {
    "id": "hbLXh5qQzRX_"
   },
   "outputs": [],
   "source": [
    "df = df.rename(columns={0:'prediction_score'})"
   ]
  },
  {
   "cell_type": "code",
   "execution_count": null,
   "metadata": {
    "id": "JgBwl7h06aLu"
   },
   "outputs": [],
   "source": [
    "df = df.sort_values(by=[\"id\",\"prediction_score\"],ascending=False)"
   ]
  },
  {
   "cell_type": "code",
   "execution_count": null,
   "metadata": {
    "id": "Vt52nl9ZpMI1"
   },
   "outputs": [],
   "source": [
    "rank = []\n",
    "for id in df[\"id\"].unique():\n",
    "  rank = rank + list(range(1,len(df[df['id']==id])+1))\n",
    "df['rank'] = rank"
   ]
  },
  {
   "cell_type": "code",
   "execution_count": null,
   "metadata": {
    "id": "1DwUi3516vbn"
   },
   "outputs": [],
   "source": [
    "df['rank'] = rank "
   ]
  },
  {
   "cell_type": "code",
   "execution_count": null,
   "metadata": {
    "id": "ae5dSYZLq5ms"
   },
   "outputs": [],
   "source": [
    "mean_rank = df[df[\"label\"]==1]['rank'].mean()"
   ]
  },
  {
   "cell_type": "code",
   "execution_count": null,
   "metadata": {
    "colab": {
     "base_uri": "https://localhost:8080/"
    },
    "id": "hlkusdV6v7xL",
    "outputId": "32155bf4-d434-4b95-cf1b-803a9f72d324"
   },
   "outputs": [
    {
     "data": {
      "text/plain": [
       "3.601"
      ]
     },
     "execution_count": 61,
     "metadata": {},
     "output_type": "execute_result"
    }
   ],
   "source": [
    "mean_rank"
   ]
  },
  {
   "cell_type": "markdown",
   "metadata": {
    "id": "57afd66f"
   },
   "source": [
    "##### Question 3\n",
    "In a production setting (real time answers, lots of users etc.):\n",
    "- What are the advantages/drawbacks of this approach ?\n",
    "- Which solution can we use to reduce these drawbacks ?"
   ]
  },
  {
   "cell_type": "markdown",
   "metadata": {
    "id": "09ff37aa"
   },
   "source": [
    "##### Answer"
   ]
  },
  {
   "cell_type": "markdown",
   "metadata": {
    "id": "6982f172"
   },
   "source": [
    "For this apporach, This model will provide a user with specific and good recommendations, but Having a lot of users, the model will take too much time to compute the ranking of sales for one of them individually.\n",
    "\n",
    "The solution for this problem is to parallelize tensorflow predictions and try to reduce the prediction time as much as possible."
   ]
  },
  {
   "cell_type": "code",
   "execution_count": null,
   "metadata": {
    "id": "7S_w-Cx4AIZU"
   },
   "outputs": [],
   "source": []
  }
 ],
 "metadata": {
  "accelerator": "GPU",
  "colab": {
   "name": "Recommender_Systems_Hiba_Jouini_Sofiene_Lahouar.ipynb",
   "provenance": []
  },
  "kernelspec": {
   "display_name": "Python 3",
   "language": "python",
   "name": "python3"
  },
  "language_info": {
   "codemirror_mode": {
    "name": "ipython",
    "version": 3
   },
   "file_extension": ".py",
   "mimetype": "text/x-python",
   "name": "python",
   "nbconvert_exporter": "python",
   "pygments_lexer": "ipython3",
   "version": "3.9.1"
  },
  "toc": {
   "base_numbering": 1,
   "nav_menu": {},
   "number_sections": true,
   "sideBar": true,
   "skip_h1_title": false,
   "title_cell": "Table of Contents",
   "title_sidebar": "Contents",
   "toc_cell": false,
   "toc_position": {},
   "toc_section_display": true,
   "toc_window_display": false
  },
  "varInspector": {
   "cols": {
    "lenName": 16,
    "lenType": 16,
    "lenVar": 40
   },
   "kernels_config": {
    "python": {
     "delete_cmd_postfix": "",
     "delete_cmd_prefix": "del ",
     "library": "var_list.py",
     "varRefreshCmd": "print(var_dic_list())"
    },
    "r": {
     "delete_cmd_postfix": ") ",
     "delete_cmd_prefix": "rm(",
     "library": "var_list.r",
     "varRefreshCmd": "cat(var_dic_list()) "
    }
   },
   "types_to_exclude": [
    "module",
    "function",
    "builtin_function_or_method",
    "instance",
    "_Feature"
   ],
   "window_display": false
  }
 },
 "nbformat": 4,
 "nbformat_minor": 5
}
