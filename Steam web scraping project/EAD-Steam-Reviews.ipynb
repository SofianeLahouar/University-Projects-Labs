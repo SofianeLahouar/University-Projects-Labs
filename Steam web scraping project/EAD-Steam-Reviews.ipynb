{
 "cells": [
  {
   "cell_type": "code",
   "execution_count": 84,
   "metadata": {},
   "outputs": [],
   "source": [
    "import pandas as pd\n",
    "import numpy as np\n",
    "import seaborn as sns\n",
    "%matplotlib inline \n",
    "import matplotlib.pyplot as plt\n",
    "import statsmodels.api as sm\n",
    "from sklearn.linear_model import LinearRegression\n",
    "from numpy.linalg import inv\n",
    "from numpy.random import normal as rnorm\n",
    "from statsmodels.stats.outliers_influence import OLSInfluence"
   ]
  },
  {
   "cell_type": "markdown",
   "metadata": {},
   "source": [
    "# Loading data"
   ]
  },
  {
   "cell_type": "code",
   "execution_count": 85,
   "metadata": {},
   "outputs": [],
   "source": [
    "df_reviews = pd.read_csv('new_start_reviews.csv')"
   ]
  },
  {
   "cell_type": "code",
   "execution_count": 86,
   "metadata": {},
   "outputs": [],
   "source": [
    "df_general = pd.read_csv('new_start_general.csv')"
   ]
  },
  {
   "cell_type": "markdown",
   "metadata": {},
   "source": [
    "# Basic Informations about the dataset"
   ]
  },
  {
   "cell_type": "code",
   "execution_count": 87,
   "metadata": {},
   "outputs": [
    {
     "data": {
      "text/plain": [
       "(3136010, 18)"
      ]
     },
     "execution_count": 87,
     "metadata": {},
     "output_type": "execute_result"
    }
   ],
   "source": [
    "df_reviews.shape"
   ]
  },
  {
   "cell_type": "code",
   "execution_count": 88,
   "metadata": {},
   "outputs": [
    {
     "data": {
      "text/plain": [
       "(6203, 12)"
      ]
     },
     "execution_count": 88,
     "metadata": {},
     "output_type": "execute_result"
    }
   ],
   "source": [
    "df_general.shape"
   ]
  },
  {
   "cell_type": "code",
   "execution_count": 89,
   "metadata": {},
   "outputs": [
    {
     "name": "stdout",
     "output_type": "stream",
     "text": [
      "Number of Positive reviews:  2879129\n"
     ]
    }
   ],
   "source": [
    "print('Number of Positive reviews: ',len(df_reviews[df_reviews['review_type']=='positive']))"
   ]
  },
  {
   "cell_type": "code",
   "execution_count": 90,
   "metadata": {},
   "outputs": [
    {
     "name": "stdout",
     "output_type": "stream",
     "text": [
      "Number of Negative reviews:  256881\n"
     ]
    }
   ],
   "source": [
    "print('Number of Negative reviews: ',df_reviews.shape[0] - len(df_reviews[df_reviews['review_type']=='positive']))"
   ]
  },
  {
   "cell_type": "code",
   "execution_count": 91,
   "metadata": {},
   "outputs": [
    {
     "data": {
      "text/html": [
       "<div>\n",
       "<style scoped>\n",
       "    .dataframe tbody tr th:only-of-type {\n",
       "        vertical-align: middle;\n",
       "    }\n",
       "\n",
       "    .dataframe tbody tr th {\n",
       "        vertical-align: top;\n",
       "    }\n",
       "\n",
       "    .dataframe thead th {\n",
       "        text-align: right;\n",
       "    }\n",
       "</style>\n",
       "<table border=\"1\" class=\"dataframe\">\n",
       "  <thead>\n",
       "    <tr style=\"text-align: right;\">\n",
       "      <th></th>\n",
       "      <th>Unnamed: 0</th>\n",
       "      <th>game_id</th>\n",
       "      <th>review_id</th>\n",
       "      <th>num_games_owned</th>\n",
       "      <th>num_reviews</th>\n",
       "      <th>playtime_forever</th>\n",
       "      <th>playtime_last_two_weeks</th>\n",
       "      <th>playtime_at_review</th>\n",
       "      <th>last_played</th>\n",
       "      <th>review_text</th>\n",
       "      <th>review_score</th>\n",
       "      <th>steam_purchase</th>\n",
       "      <th>comment_count</th>\n",
       "      <th>voted_up</th>\n",
       "      <th>votes_up</th>\n",
       "      <th>votes_funny</th>\n",
       "      <th>written_during_early_access</th>\n",
       "      <th>review_type</th>\n",
       "    </tr>\n",
       "  </thead>\n",
       "  <tbody>\n",
       "    <tr>\n",
       "      <th>0</th>\n",
       "      <td>0</td>\n",
       "      <td>1116300</td>\n",
       "      <td>55254262</td>\n",
       "      <td>283</td>\n",
       "      <td>21</td>\n",
       "      <td>14</td>\n",
       "      <td>0</td>\n",
       "      <td>7.0</td>\n",
       "      <td>1571625583</td>\n",
       "      <td>it seemed to have a lot of content and a ball ...</td>\n",
       "      <td>0.000000</td>\n",
       "      <td>True</td>\n",
       "      <td>0</td>\n",
       "      <td>True</td>\n",
       "      <td>0</td>\n",
       "      <td>0</td>\n",
       "      <td>False</td>\n",
       "      <td>positive</td>\n",
       "    </tr>\n",
       "    <tr>\n",
       "      <th>1</th>\n",
       "      <td>0</td>\n",
       "      <td>1116310</td>\n",
       "      <td>83461406</td>\n",
       "      <td>9</td>\n",
       "      <td>1</td>\n",
       "      <td>0</td>\n",
       "      <td>0</td>\n",
       "      <td>NaN</td>\n",
       "      <td>0</td>\n",
       "      <td>Would like to be able to add it to my trailer ...</td>\n",
       "      <td>0.000000</td>\n",
       "      <td>True</td>\n",
       "      <td>0</td>\n",
       "      <td>True</td>\n",
       "      <td>0</td>\n",
       "      <td>0</td>\n",
       "      <td>False</td>\n",
       "      <td>positive</td>\n",
       "    </tr>\n",
       "    <tr>\n",
       "      <th>2</th>\n",
       "      <td>0</td>\n",
       "      <td>1116310</td>\n",
       "      <td>82867017</td>\n",
       "      <td>216</td>\n",
       "      <td>54</td>\n",
       "      <td>0</td>\n",
       "      <td>0</td>\n",
       "      <td>NaN</td>\n",
       "      <td>0</td>\n",
       "      <td>10/10</td>\n",
       "      <td>0.653399</td>\n",
       "      <td>True</td>\n",
       "      <td>0</td>\n",
       "      <td>True</td>\n",
       "      <td>17</td>\n",
       "      <td>0</td>\n",
       "      <td>False</td>\n",
       "      <td>positive</td>\n",
       "    </tr>\n",
       "    <tr>\n",
       "      <th>3</th>\n",
       "      <td>0</td>\n",
       "      <td>1116310</td>\n",
       "      <td>77674353</td>\n",
       "      <td>118</td>\n",
       "      <td>12</td>\n",
       "      <td>0</td>\n",
       "      <td>0</td>\n",
       "      <td>NaN</td>\n",
       "      <td>0</td>\n",
       "      <td>this game is by far one of the best</td>\n",
       "      <td>0.000000</td>\n",
       "      <td>True</td>\n",
       "      <td>0</td>\n",
       "      <td>True</td>\n",
       "      <td>0</td>\n",
       "      <td>0</td>\n",
       "      <td>False</td>\n",
       "      <td>positive</td>\n",
       "    </tr>\n",
       "    <tr>\n",
       "      <th>4</th>\n",
       "      <td>0</td>\n",
       "      <td>1116310</td>\n",
       "      <td>72997129</td>\n",
       "      <td>74</td>\n",
       "      <td>9</td>\n",
       "      <td>0</td>\n",
       "      <td>0</td>\n",
       "      <td>NaN</td>\n",
       "      <td>0</td>\n",
       "      <td>I love space exploration so when I seen this I...</td>\n",
       "      <td>0.000000</td>\n",
       "      <td>True</td>\n",
       "      <td>0</td>\n",
       "      <td>True</td>\n",
       "      <td>0</td>\n",
       "      <td>0</td>\n",
       "      <td>False</td>\n",
       "      <td>positive</td>\n",
       "    </tr>\n",
       "  </tbody>\n",
       "</table>\n",
       "</div>"
      ],
      "text/plain": [
       "   Unnamed: 0  game_id  review_id  num_games_owned  num_reviews  \\\n",
       "0           0  1116300   55254262              283           21   \n",
       "1           0  1116310   83461406                9            1   \n",
       "2           0  1116310   82867017              216           54   \n",
       "3           0  1116310   77674353              118           12   \n",
       "4           0  1116310   72997129               74            9   \n",
       "\n",
       "   playtime_forever  playtime_last_two_weeks  playtime_at_review  last_played  \\\n",
       "0                14                        0                 7.0   1571625583   \n",
       "1                 0                        0                 NaN            0   \n",
       "2                 0                        0                 NaN            0   \n",
       "3                 0                        0                 NaN            0   \n",
       "4                 0                        0                 NaN            0   \n",
       "\n",
       "                                         review_text  review_score  \\\n",
       "0  it seemed to have a lot of content and a ball ...      0.000000   \n",
       "1  Would like to be able to add it to my trailer ...      0.000000   \n",
       "2                                              10/10      0.653399   \n",
       "3                this game is by far one of the best      0.000000   \n",
       "4  I love space exploration so when I seen this I...      0.000000   \n",
       "\n",
       "   steam_purchase  comment_count  voted_up  votes_up  votes_funny  \\\n",
       "0            True              0      True         0            0   \n",
       "1            True              0      True         0            0   \n",
       "2            True              0      True        17            0   \n",
       "3            True              0      True         0            0   \n",
       "4            True              0      True         0            0   \n",
       "\n",
       "   written_during_early_access review_type  \n",
       "0                        False    positive  \n",
       "1                        False    positive  \n",
       "2                        False    positive  \n",
       "3                        False    positive  \n",
       "4                        False    positive  "
      ]
     },
     "execution_count": 91,
     "metadata": {},
     "output_type": "execute_result"
    }
   ],
   "source": [
    "df_reviews.head()"
   ]
  },
  {
   "cell_type": "markdown",
   "metadata": {},
   "source": [
    "# Data cleaning and preprocessing"
   ]
  },
  {
   "cell_type": "markdown",
   "metadata": {},
   "source": [
    "## Dropping the random \"unnamed:o\" column"
   ]
  },
  {
   "cell_type": "code",
   "execution_count": 92,
   "metadata": {},
   "outputs": [],
   "source": [
    "df_reviews = df_reviews.drop(df_reviews.columns[0],axis=1)"
   ]
  },
  {
   "cell_type": "code",
   "execution_count": 93,
   "metadata": {},
   "outputs": [],
   "source": [
    "df_general = df_general.drop(df_general.columns[0],axis=1)"
   ]
  },
  {
   "cell_type": "markdown",
   "metadata": {},
   "source": [
    "## Checking for repeating values"
   ]
  },
  {
   "cell_type": "code",
   "execution_count": 94,
   "metadata": {},
   "outputs": [
    {
     "data": {
      "text/plain": [
       "(3136010, 3119071)"
      ]
     },
     "execution_count": 94,
     "metadata": {},
     "output_type": "execute_result"
    }
   ],
   "source": [
    "len(df_reviews['review_id']),len(np.unique(df_reviews['review_id']))"
   ]
  },
  {
   "cell_type": "code",
   "execution_count": 95,
   "metadata": {},
   "outputs": [
    {
     "data": {
      "text/plain": [
       "(3119071, 3119071)"
      ]
     },
     "execution_count": 95,
     "metadata": {},
     "output_type": "execute_result"
    }
   ],
   "source": [
    "df_reviews = df_reviews.drop_duplicates(subset=['review_id'])\n",
    "len(df_reviews['review_id']),len(np.unique(df_reviews['review_id']))"
   ]
  },
  {
   "cell_type": "code",
   "execution_count": 96,
   "metadata": {},
   "outputs": [
    {
     "data": {
      "text/plain": [
       "(6203, 6176)"
      ]
     },
     "execution_count": 96,
     "metadata": {},
     "output_type": "execute_result"
    }
   ],
   "source": [
    "len(df_general['game_id']),len(np.unique(df_general['game_id']))"
   ]
  },
  {
   "cell_type": "code",
   "execution_count": 97,
   "metadata": {},
   "outputs": [
    {
     "data": {
      "text/plain": [
       "(6176, 6176)"
      ]
     },
     "execution_count": 97,
     "metadata": {},
     "output_type": "execute_result"
    }
   ],
   "source": [
    "df_general = df_general.drop_duplicates(subset=['game_id'])\n",
    "len(df_general['game_id']),len(np.unique(df_general['game_id']))"
   ]
  },
  {
   "cell_type": "markdown",
   "metadata": {},
   "source": [
    "## Checking for missing values"
   ]
  },
  {
   "cell_type": "code",
   "execution_count": 98,
   "metadata": {},
   "outputs": [
    {
     "name": "stdout",
     "output_type": "stream",
     "text": [
      "game_id - 0%\n",
      "game_name - 0%\n",
      "publisher - 7%\n",
      "genre - 2%\n",
      "price - 0%\n",
      "initialprice - 100%\n",
      "overall_score - 0%\n",
      "score_desc - 0%\n",
      "total_positive - 0%\n",
      "total_negative - 0%\n",
      "total_reviews - 0%\n"
     ]
    }
   ],
   "source": [
    "for col in df_general.columns:\n",
    "    pct_missing = np.mean(df_general[col].isnull())\n",
    "    print('{} - {}%'.format(col, round(pct_missing*100)))"
   ]
  },
  {
   "cell_type": "code",
   "execution_count": 99,
   "metadata": {},
   "outputs": [
    {
     "name": "stdout",
     "output_type": "stream",
     "text": [
      "game_id - 0%\n",
      "review_id - 0%\n",
      "num_games_owned - 0%\n",
      "num_reviews - 0%\n",
      "playtime_forever - 0%\n",
      "playtime_last_two_weeks - 0%\n",
      "playtime_at_review - 2%\n",
      "last_played - 0%\n",
      "review_text - 0%\n",
      "review_score - 0%\n",
      "steam_purchase - 0%\n",
      "comment_count - 0%\n",
      "voted_up - 0%\n",
      "votes_up - 0%\n",
      "votes_funny - 0%\n",
      "written_during_early_access - 0%\n",
      "review_type - 0%\n"
     ]
    }
   ],
   "source": [
    "for col in df_reviews.columns:\n",
    "    pct_missing = np.mean(df_reviews[col].isnull())\n",
    "    print('{} - {}%'.format(col, round(pct_missing*100)))"
   ]
  },
  {
   "cell_type": "markdown",
   "metadata": {},
   "source": [
    "## Dropping misssing values "
   ]
  },
  {
   "cell_type": "code",
   "execution_count": 100,
   "metadata": {},
   "outputs": [],
   "source": [
    "df_reviews = df_reviews.dropna()"
   ]
  },
  {
   "cell_type": "code",
   "execution_count": 101,
   "metadata": {},
   "outputs": [],
   "source": [
    "df_general.drop(['initialprice'],inplace=True,axis=1)"
   ]
  },
  {
   "cell_type": "code",
   "execution_count": 102,
   "metadata": {},
   "outputs": [],
   "source": [
    "df_general = df_general.dropna()"
   ]
  },
  {
   "cell_type": "code",
   "execution_count": 103,
   "metadata": {},
   "outputs": [
    {
     "name": "stdout",
     "output_type": "stream",
     "text": [
      "game_id - 0%\n",
      "game_name - 0%\n",
      "publisher - 0%\n",
      "genre - 0%\n",
      "price - 0%\n",
      "overall_score - 0%\n",
      "score_desc - 0%\n",
      "total_positive - 0%\n",
      "total_negative - 0%\n",
      "total_reviews - 0%\n"
     ]
    }
   ],
   "source": [
    "for col in df_general.columns:\n",
    "    pct_missing = np.mean(df_general[col].isnull())\n",
    "    print('{} - {}%'.format(col, round(pct_missing*100)))"
   ]
  },
  {
   "cell_type": "code",
   "execution_count": 104,
   "metadata": {},
   "outputs": [
    {
     "name": "stdout",
     "output_type": "stream",
     "text": [
      "game_id - 0%\n",
      "review_id - 0%\n",
      "num_games_owned - 0%\n",
      "num_reviews - 0%\n",
      "playtime_forever - 0%\n",
      "playtime_last_two_weeks - 0%\n",
      "playtime_at_review - 0%\n",
      "last_played - 0%\n",
      "review_text - 0%\n",
      "review_score - 0%\n",
      "steam_purchase - 0%\n",
      "comment_count - 0%\n",
      "voted_up - 0%\n",
      "votes_up - 0%\n",
      "votes_funny - 0%\n",
      "written_during_early_access - 0%\n",
      "review_type - 0%\n"
     ]
    }
   ],
   "source": [
    "for col in df_reviews.columns:\n",
    "    pct_missing = np.mean(df_reviews[col].isnull())\n",
    "    print('{} - {}%'.format(col, round(pct_missing*100)))"
   ]
  },
  {
   "cell_type": "code",
   "execution_count": 105,
   "metadata": {},
   "outputs": [
    {
     "data": {
      "text/plain": [
       "(3064286, 17)"
      ]
     },
     "execution_count": 105,
     "metadata": {},
     "output_type": "execute_result"
    }
   ],
   "source": [
    "df_reviews.shape"
   ]
  },
  {
   "cell_type": "code",
   "execution_count": 106,
   "metadata": {},
   "outputs": [
    {
     "name": "stdout",
     "output_type": "stream",
     "text": [
      "Number of Positive reviews:  2823267\n"
     ]
    }
   ],
   "source": [
    "print('Number of Positive reviews: ',len(df_reviews[df_reviews['review_type']=='positive']))"
   ]
  },
  {
   "cell_type": "code",
   "execution_count": 107,
   "metadata": {},
   "outputs": [
    {
     "name": "stdout",
     "output_type": "stream",
     "text": [
      "Number of Negative reviews:  241019\n"
     ]
    }
   ],
   "source": [
    "print('Number of Negative reviews: ',df_reviews.shape[0] - len(df_reviews[df_reviews['review_type']=='positive']))"
   ]
  },
  {
   "cell_type": "code",
   "execution_count": 108,
   "metadata": {},
   "outputs": [
    {
     "data": {
      "text/plain": [
       "(5727, 10)"
      ]
     },
     "execution_count": 108,
     "metadata": {},
     "output_type": "execute_result"
    }
   ],
   "source": [
    "df_general.shape"
   ]
  },
  {
   "cell_type": "markdown",
   "metadata": {},
   "source": [
    "## Keeping only information about games that we scrapped thier reviews"
   ]
  },
  {
   "cell_type": "code",
   "execution_count": 109,
   "metadata": {},
   "outputs": [],
   "source": [
    "df_general = df_general[df_general.game_id.isin(df_reviews.game_id)]"
   ]
  },
  {
   "cell_type": "code",
   "execution_count": 110,
   "metadata": {},
   "outputs": [],
   "source": [
    "df_reviews = df_reviews[df_reviews.game_id.isin(df_general.game_id)]"
   ]
  },
  {
   "cell_type": "code",
   "execution_count": 111,
   "metadata": {},
   "outputs": [
    {
     "data": {
      "text/plain": [
       "((4281, 10), (3047156, 17))"
      ]
     },
     "execution_count": 111,
     "metadata": {},
     "output_type": "execute_result"
    }
   ],
   "source": [
    "df_general.shape, df_reviews.shape"
   ]
  },
  {
   "cell_type": "markdown",
   "metadata": {},
   "source": [
    "## Chaning the index"
   ]
  },
  {
   "cell_type": "code",
   "execution_count": 112,
   "metadata": {},
   "outputs": [],
   "source": [
    "df_reviews = df_reviews.set_index('review_id')"
   ]
  },
  {
   "cell_type": "code",
   "execution_count": 113,
   "metadata": {},
   "outputs": [],
   "source": [
    "df_general = df_general.set_index('game_id')"
   ]
  },
  {
   "cell_type": "markdown",
   "metadata": {},
   "source": [
    "## Adding new columns to df_reviews (review_length/review_readability)"
   ]
  },
  {
   "cell_type": "code",
   "execution_count": 115,
   "metadata": {},
   "outputs": [],
   "source": [
    "review_length = []\n",
    "for text in df_reviews['review_text']:\n",
    "    review_length.append(len(text))\n",
    "df_reviews['review_length'] = review_length\n",
    "del review_length"
   ]
  },
  {
   "cell_type": "code",
   "execution_count": 116,
   "metadata": {},
   "outputs": [],
   "source": [
    "import textstat\n",
    "textstat.set_lang(\"en\")\n",
    "review_readability = []\n",
    "for text in df_reviews['review_text']:\n",
    "    review_readability.append(textstat.coleman_liau_index(text))\n",
    "df_reviews['review_readability'] = review_readability\n",
    "del review_readability"
   ]
  },
  {
   "cell_type": "markdown",
   "metadata": {},
   "source": [
    "## Adding new colums to df_general (average playtime at review and forever"
   ]
  },
  {
   "cell_type": "code",
   "execution_count": 114,
   "metadata": {},
   "outputs": [
    {
     "data": {
      "text/html": [
       "<div>\n",
       "<style scoped>\n",
       "    .dataframe tbody tr th:only-of-type {\n",
       "        vertical-align: middle;\n",
       "    }\n",
       "\n",
       "    .dataframe tbody tr th {\n",
       "        vertical-align: top;\n",
       "    }\n",
       "\n",
       "    .dataframe thead th {\n",
       "        text-align: right;\n",
       "    }\n",
       "</style>\n",
       "<table border=\"1\" class=\"dataframe\">\n",
       "  <thead>\n",
       "    <tr style=\"text-align: right;\">\n",
       "      <th></th>\n",
       "      <th>game_name</th>\n",
       "      <th>publisher</th>\n",
       "      <th>genre</th>\n",
       "      <th>price</th>\n",
       "      <th>overall_score</th>\n",
       "      <th>score_desc</th>\n",
       "      <th>total_positive</th>\n",
       "      <th>total_negative</th>\n",
       "      <th>total_reviews</th>\n",
       "      <th>avr_play_time_at_review</th>\n",
       "    </tr>\n",
       "    <tr>\n",
       "      <th>game_id</th>\n",
       "      <th></th>\n",
       "      <th></th>\n",
       "      <th></th>\n",
       "      <th></th>\n",
       "      <th></th>\n",
       "      <th></th>\n",
       "      <th></th>\n",
       "      <th></th>\n",
       "      <th></th>\n",
       "      <th></th>\n",
       "    </tr>\n",
       "  </thead>\n",
       "  <tbody>\n",
       "    <tr>\n",
       "      <th>10</th>\n",
       "      <td>Counter-Strike</td>\n",
       "      <td>Valve</td>\n",
       "      <td>Action Games</td>\n",
       "      <td>999.0</td>\n",
       "      <td>9</td>\n",
       "      <td>Overwhelmingly Positive</td>\n",
       "      <td>20942</td>\n",
       "      <td>773</td>\n",
       "      <td>21715</td>\n",
       "      <td>19829.298122</td>\n",
       "    </tr>\n",
       "    <tr>\n",
       "      <th>20</th>\n",
       "      <td>Team Fortress Classic</td>\n",
       "      <td>Valve</td>\n",
       "      <td>Action Games</td>\n",
       "      <td>499.0</td>\n",
       "      <td>8</td>\n",
       "      <td>Very Positive</td>\n",
       "      <td>1987</td>\n",
       "      <td>400</td>\n",
       "      <td>2387</td>\n",
       "      <td>4208.908705</td>\n",
       "    </tr>\n",
       "    <tr>\n",
       "      <th>30</th>\n",
       "      <td>Day of Defeat</td>\n",
       "      <td>Valve</td>\n",
       "      <td>Action Games</td>\n",
       "      <td>499.0</td>\n",
       "      <td>8</td>\n",
       "      <td>Very Positive</td>\n",
       "      <td>1227</td>\n",
       "      <td>165</td>\n",
       "      <td>1392</td>\n",
       "      <td>5989.807246</td>\n",
       "    </tr>\n",
       "    <tr>\n",
       "      <th>40</th>\n",
       "      <td>Deathmatch Classic</td>\n",
       "      <td>Valve</td>\n",
       "      <td>Action Games</td>\n",
       "      <td>499.0</td>\n",
       "      <td>8</td>\n",
       "      <td>Very Positive</td>\n",
       "      <td>576</td>\n",
       "      <td>134</td>\n",
       "      <td>710</td>\n",
       "      <td>1369.031429</td>\n",
       "    </tr>\n",
       "    <tr>\n",
       "      <th>50</th>\n",
       "      <td>Half-Life: Opposing Force</td>\n",
       "      <td>Valve</td>\n",
       "      <td>Action Games</td>\n",
       "      <td>499.0</td>\n",
       "      <td>9</td>\n",
       "      <td>Overwhelmingly Positive</td>\n",
       "      <td>4510</td>\n",
       "      <td>208</td>\n",
       "      <td>4718</td>\n",
       "      <td>1063.887042</td>\n",
       "    </tr>\n",
       "    <tr>\n",
       "      <th>...</th>\n",
       "      <td>...</td>\n",
       "      <td>...</td>\n",
       "      <td>...</td>\n",
       "      <td>...</td>\n",
       "      <td>...</td>\n",
       "      <td>...</td>\n",
       "      <td>...</td>\n",
       "      <td>...</td>\n",
       "      <td>...</td>\n",
       "      <td>...</td>\n",
       "    </tr>\n",
       "    <tr>\n",
       "      <th>1116350</th>\n",
       "      <td>Exsys</td>\n",
       "      <td>Peakware Studio</td>\n",
       "      <td>Action, Indie, Early Access</td>\n",
       "      <td>1099.0</td>\n",
       "      <td>0</td>\n",
       "      <td>1 user reviews</td>\n",
       "      <td>0</td>\n",
       "      <td>1</td>\n",
       "      <td>1</td>\n",
       "      <td>10.000000</td>\n",
       "    </tr>\n",
       "    <tr>\n",
       "      <th>1116360</th>\n",
       "      <td>JERRY JOBHOPPER</td>\n",
       "      <td>NK CREATIV GAMES</td>\n",
       "      <td>Indie, RPG, Simulation, Strategy, Early Access</td>\n",
       "      <td>999.0</td>\n",
       "      <td>0</td>\n",
       "      <td>1 user reviews</td>\n",
       "      <td>1</td>\n",
       "      <td>0</td>\n",
       "      <td>1</td>\n",
       "      <td>6.000000</td>\n",
       "    </tr>\n",
       "    <tr>\n",
       "      <th>1500820</th>\n",
       "      <td>Caravaneer 2</td>\n",
       "      <td>Dmitry Zheltobriukhov</td>\n",
       "      <td>Indie, RPG, Simulation, Strategy</td>\n",
       "      <td>599.0</td>\n",
       "      <td>8</td>\n",
       "      <td>Very Positive</td>\n",
       "      <td>50</td>\n",
       "      <td>0</td>\n",
       "      <td>50</td>\n",
       "      <td>730.560000</td>\n",
       "    </tr>\n",
       "    <tr>\n",
       "      <th>1508430</th>\n",
       "      <td>Kemono Mahjong</td>\n",
       "      <td>Cyberdog Software</td>\n",
       "      <td>Casual</td>\n",
       "      <td>499.0</td>\n",
       "      <td>7</td>\n",
       "      <td>Positive</td>\n",
       "      <td>11</td>\n",
       "      <td>0</td>\n",
       "      <td>11</td>\n",
       "      <td>233.666667</td>\n",
       "    </tr>\n",
       "    <tr>\n",
       "      <th>1510620</th>\n",
       "      <td>Sokpop S10: Pocket Watch</td>\n",
       "      <td>Sokpop Collective</td>\n",
       "      <td>Adventure, Indie</td>\n",
       "      <td>299.0</td>\n",
       "      <td>7</td>\n",
       "      <td>Positive</td>\n",
       "      <td>9</td>\n",
       "      <td>1</td>\n",
       "      <td>10</td>\n",
       "      <td>183.200000</td>\n",
       "    </tr>\n",
       "  </tbody>\n",
       "</table>\n",
       "<p>4281 rows × 10 columns</p>\n",
       "</div>"
      ],
      "text/plain": [
       "                         game_name              publisher  \\\n",
       "game_id                                                     \n",
       "10                  Counter-Strike                  Valve   \n",
       "20           Team Fortress Classic                  Valve   \n",
       "30                   Day of Defeat                  Valve   \n",
       "40              Deathmatch Classic                  Valve   \n",
       "50       Half-Life: Opposing Force                  Valve   \n",
       "...                            ...                    ...   \n",
       "1116350                      Exsys        Peakware Studio   \n",
       "1116360            JERRY JOBHOPPER       NK CREATIV GAMES   \n",
       "1500820               Caravaneer 2  Dmitry Zheltobriukhov   \n",
       "1508430             Kemono Mahjong      Cyberdog Software   \n",
       "1510620   Sokpop S10: Pocket Watch      Sokpop Collective   \n",
       "\n",
       "                                                  genre   price  \\\n",
       "game_id                                                           \n",
       "10                                         Action Games   999.0   \n",
       "20                                         Action Games   499.0   \n",
       "30                                         Action Games   499.0   \n",
       "40                                         Action Games   499.0   \n",
       "50                                         Action Games   499.0   \n",
       "...                                                 ...     ...   \n",
       "1116350                     Action, Indie, Early Access  1099.0   \n",
       "1116360  Indie, RPG, Simulation, Strategy, Early Access   999.0   \n",
       "1500820                Indie, RPG, Simulation, Strategy   599.0   \n",
       "1508430                                          Casual   499.0   \n",
       "1510620                                Adventure, Indie   299.0   \n",
       "\n",
       "         overall_score               score_desc  total_positive  \\\n",
       "game_id                                                           \n",
       "10                   9  Overwhelmingly Positive           20942   \n",
       "20                   8            Very Positive            1987   \n",
       "30                   8            Very Positive            1227   \n",
       "40                   8            Very Positive             576   \n",
       "50                   9  Overwhelmingly Positive            4510   \n",
       "...                ...                      ...             ...   \n",
       "1116350              0           1 user reviews               0   \n",
       "1116360              0           1 user reviews               1   \n",
       "1500820              8            Very Positive              50   \n",
       "1508430              7                 Positive              11   \n",
       "1510620              7                 Positive               9   \n",
       "\n",
       "         total_negative  total_reviews  avr_play_time_at_review  \n",
       "game_id                                                          \n",
       "10                  773          21715             19829.298122  \n",
       "20                  400           2387              4208.908705  \n",
       "30                  165           1392              5989.807246  \n",
       "40                  134            710              1369.031429  \n",
       "50                  208           4718              1063.887042  \n",
       "...                 ...            ...                      ...  \n",
       "1116350               1              1                10.000000  \n",
       "1116360               0              1                 6.000000  \n",
       "1500820               0             50               730.560000  \n",
       "1508430               0             11               233.666667  \n",
       "1510620               1             10               183.200000  \n",
       "\n",
       "[4281 rows x 10 columns]"
      ]
     },
     "execution_count": 114,
     "metadata": {},
     "output_type": "execute_result"
    }
   ],
   "source": [
    "avr_play_time_at_review = df_reviews[['game_id','playtime_at_review']].groupby(['game_id']).mean()\n",
    "df_general = pd.concat([df_general, avr_play_time_at_review], axis=1)\n",
    "df_general = df_general.rename(columns={\"playtime_at_review\" : \"avr_play_time_at_review\"})\n",
    "df_general"
   ]
  },
  {
   "cell_type": "markdown",
   "metadata": {},
   "source": [
    "# getting the averge playtime forever per game"
   ]
  },
  {
   "cell_type": "code",
   "execution_count": 117,
   "metadata": {},
   "outputs": [
    {
     "data": {
      "text/html": [
       "<div>\n",
       "<style scoped>\n",
       "    .dataframe tbody tr th:only-of-type {\n",
       "        vertical-align: middle;\n",
       "    }\n",
       "\n",
       "    .dataframe tbody tr th {\n",
       "        vertical-align: top;\n",
       "    }\n",
       "\n",
       "    .dataframe thead th {\n",
       "        text-align: right;\n",
       "    }\n",
       "</style>\n",
       "<table border=\"1\" class=\"dataframe\">\n",
       "  <thead>\n",
       "    <tr style=\"text-align: right;\">\n",
       "      <th></th>\n",
       "      <th>game_name</th>\n",
       "      <th>publisher</th>\n",
       "      <th>genre</th>\n",
       "      <th>price</th>\n",
       "      <th>overall_score</th>\n",
       "      <th>score_desc</th>\n",
       "      <th>total_positive</th>\n",
       "      <th>total_negative</th>\n",
       "      <th>total_reviews</th>\n",
       "      <th>avr_play_time_at_review</th>\n",
       "      <th>avr_playtime_forever</th>\n",
       "    </tr>\n",
       "    <tr>\n",
       "      <th>game_id</th>\n",
       "      <th></th>\n",
       "      <th></th>\n",
       "      <th></th>\n",
       "      <th></th>\n",
       "      <th></th>\n",
       "      <th></th>\n",
       "      <th></th>\n",
       "      <th></th>\n",
       "      <th></th>\n",
       "      <th></th>\n",
       "      <th></th>\n",
       "    </tr>\n",
       "  </thead>\n",
       "  <tbody>\n",
       "    <tr>\n",
       "      <th>10</th>\n",
       "      <td>Counter-Strike</td>\n",
       "      <td>Valve</td>\n",
       "      <td>Action Games</td>\n",
       "      <td>999.0</td>\n",
       "      <td>9</td>\n",
       "      <td>Overwhelmingly Positive</td>\n",
       "      <td>20942</td>\n",
       "      <td>773</td>\n",
       "      <td>21715</td>\n",
       "      <td>19829.298122</td>\n",
       "      <td>33965.425539</td>\n",
       "    </tr>\n",
       "    <tr>\n",
       "      <th>20</th>\n",
       "      <td>Team Fortress Classic</td>\n",
       "      <td>Valve</td>\n",
       "      <td>Action Games</td>\n",
       "      <td>499.0</td>\n",
       "      <td>8</td>\n",
       "      <td>Very Positive</td>\n",
       "      <td>1987</td>\n",
       "      <td>400</td>\n",
       "      <td>2387</td>\n",
       "      <td>4208.908705</td>\n",
       "      <td>6614.785138</td>\n",
       "    </tr>\n",
       "    <tr>\n",
       "      <th>30</th>\n",
       "      <td>Day of Defeat</td>\n",
       "      <td>Valve</td>\n",
       "      <td>Action Games</td>\n",
       "      <td>499.0</td>\n",
       "      <td>8</td>\n",
       "      <td>Very Positive</td>\n",
       "      <td>1227</td>\n",
       "      <td>165</td>\n",
       "      <td>1392</td>\n",
       "      <td>5989.807246</td>\n",
       "      <td>8753.608696</td>\n",
       "    </tr>\n",
       "    <tr>\n",
       "      <th>40</th>\n",
       "      <td>Deathmatch Classic</td>\n",
       "      <td>Valve</td>\n",
       "      <td>Action Games</td>\n",
       "      <td>499.0</td>\n",
       "      <td>8</td>\n",
       "      <td>Very Positive</td>\n",
       "      <td>576</td>\n",
       "      <td>134</td>\n",
       "      <td>710</td>\n",
       "      <td>1369.031429</td>\n",
       "      <td>2242.895714</td>\n",
       "    </tr>\n",
       "    <tr>\n",
       "      <th>50</th>\n",
       "      <td>Half-Life: Opposing Force</td>\n",
       "      <td>Valve</td>\n",
       "      <td>Action Games</td>\n",
       "      <td>499.0</td>\n",
       "      <td>9</td>\n",
       "      <td>Overwhelmingly Positive</td>\n",
       "      <td>4510</td>\n",
       "      <td>208</td>\n",
       "      <td>4718</td>\n",
       "      <td>1063.887042</td>\n",
       "      <td>1641.328858</td>\n",
       "    </tr>\n",
       "    <tr>\n",
       "      <th>...</th>\n",
       "      <td>...</td>\n",
       "      <td>...</td>\n",
       "      <td>...</td>\n",
       "      <td>...</td>\n",
       "      <td>...</td>\n",
       "      <td>...</td>\n",
       "      <td>...</td>\n",
       "      <td>...</td>\n",
       "      <td>...</td>\n",
       "      <td>...</td>\n",
       "      <td>...</td>\n",
       "    </tr>\n",
       "    <tr>\n",
       "      <th>1116350</th>\n",
       "      <td>Exsys</td>\n",
       "      <td>Peakware Studio</td>\n",
       "      <td>Action, Indie, Early Access</td>\n",
       "      <td>1099.0</td>\n",
       "      <td>0</td>\n",
       "      <td>1 user reviews</td>\n",
       "      <td>0</td>\n",
       "      <td>1</td>\n",
       "      <td>1</td>\n",
       "      <td>10.000000</td>\n",
       "      <td>10.000000</td>\n",
       "    </tr>\n",
       "    <tr>\n",
       "      <th>1116360</th>\n",
       "      <td>JERRY JOBHOPPER</td>\n",
       "      <td>NK CREATIV GAMES</td>\n",
       "      <td>Indie, RPG, Simulation, Strategy, Early Access</td>\n",
       "      <td>999.0</td>\n",
       "      <td>0</td>\n",
       "      <td>1 user reviews</td>\n",
       "      <td>1</td>\n",
       "      <td>0</td>\n",
       "      <td>1</td>\n",
       "      <td>6.000000</td>\n",
       "      <td>6.000000</td>\n",
       "    </tr>\n",
       "    <tr>\n",
       "      <th>1500820</th>\n",
       "      <td>Caravaneer 2</td>\n",
       "      <td>Dmitry Zheltobriukhov</td>\n",
       "      <td>Indie, RPG, Simulation, Strategy</td>\n",
       "      <td>599.0</td>\n",
       "      <td>8</td>\n",
       "      <td>Very Positive</td>\n",
       "      <td>50</td>\n",
       "      <td>0</td>\n",
       "      <td>50</td>\n",
       "      <td>730.560000</td>\n",
       "      <td>2852.660000</td>\n",
       "    </tr>\n",
       "    <tr>\n",
       "      <th>1508430</th>\n",
       "      <td>Kemono Mahjong</td>\n",
       "      <td>Cyberdog Software</td>\n",
       "      <td>Casual</td>\n",
       "      <td>499.0</td>\n",
       "      <td>7</td>\n",
       "      <td>Positive</td>\n",
       "      <td>11</td>\n",
       "      <td>0</td>\n",
       "      <td>11</td>\n",
       "      <td>233.666667</td>\n",
       "      <td>526.166667</td>\n",
       "    </tr>\n",
       "    <tr>\n",
       "      <th>1510620</th>\n",
       "      <td>Sokpop S10: Pocket Watch</td>\n",
       "      <td>Sokpop Collective</td>\n",
       "      <td>Adventure, Indie</td>\n",
       "      <td>299.0</td>\n",
       "      <td>7</td>\n",
       "      <td>Positive</td>\n",
       "      <td>9</td>\n",
       "      <td>1</td>\n",
       "      <td>10</td>\n",
       "      <td>183.200000</td>\n",
       "      <td>201.400000</td>\n",
       "    </tr>\n",
       "  </tbody>\n",
       "</table>\n",
       "<p>4281 rows × 11 columns</p>\n",
       "</div>"
      ],
      "text/plain": [
       "                         game_name              publisher  \\\n",
       "game_id                                                     \n",
       "10                  Counter-Strike                  Valve   \n",
       "20           Team Fortress Classic                  Valve   \n",
       "30                   Day of Defeat                  Valve   \n",
       "40              Deathmatch Classic                  Valve   \n",
       "50       Half-Life: Opposing Force                  Valve   \n",
       "...                            ...                    ...   \n",
       "1116350                      Exsys        Peakware Studio   \n",
       "1116360            JERRY JOBHOPPER       NK CREATIV GAMES   \n",
       "1500820               Caravaneer 2  Dmitry Zheltobriukhov   \n",
       "1508430             Kemono Mahjong      Cyberdog Software   \n",
       "1510620   Sokpop S10: Pocket Watch      Sokpop Collective   \n",
       "\n",
       "                                                  genre   price  \\\n",
       "game_id                                                           \n",
       "10                                         Action Games   999.0   \n",
       "20                                         Action Games   499.0   \n",
       "30                                         Action Games   499.0   \n",
       "40                                         Action Games   499.0   \n",
       "50                                         Action Games   499.0   \n",
       "...                                                 ...     ...   \n",
       "1116350                     Action, Indie, Early Access  1099.0   \n",
       "1116360  Indie, RPG, Simulation, Strategy, Early Access   999.0   \n",
       "1500820                Indie, RPG, Simulation, Strategy   599.0   \n",
       "1508430                                          Casual   499.0   \n",
       "1510620                                Adventure, Indie   299.0   \n",
       "\n",
       "         overall_score               score_desc  total_positive  \\\n",
       "game_id                                                           \n",
       "10                   9  Overwhelmingly Positive           20942   \n",
       "20                   8            Very Positive            1987   \n",
       "30                   8            Very Positive            1227   \n",
       "40                   8            Very Positive             576   \n",
       "50                   9  Overwhelmingly Positive            4510   \n",
       "...                ...                      ...             ...   \n",
       "1116350              0           1 user reviews               0   \n",
       "1116360              0           1 user reviews               1   \n",
       "1500820              8            Very Positive              50   \n",
       "1508430              7                 Positive              11   \n",
       "1510620              7                 Positive               9   \n",
       "\n",
       "         total_negative  total_reviews  avr_play_time_at_review  \\\n",
       "game_id                                                           \n",
       "10                  773          21715             19829.298122   \n",
       "20                  400           2387              4208.908705   \n",
       "30                  165           1392              5989.807246   \n",
       "40                  134            710              1369.031429   \n",
       "50                  208           4718              1063.887042   \n",
       "...                 ...            ...                      ...   \n",
       "1116350               1              1                10.000000   \n",
       "1116360               0              1                 6.000000   \n",
       "1500820               0             50               730.560000   \n",
       "1508430               0             11               233.666667   \n",
       "1510620               1             10               183.200000   \n",
       "\n",
       "         avr_playtime_forever  \n",
       "game_id                        \n",
       "10               33965.425539  \n",
       "20                6614.785138  \n",
       "30                8753.608696  \n",
       "40                2242.895714  \n",
       "50                1641.328858  \n",
       "...                       ...  \n",
       "1116350             10.000000  \n",
       "1116360              6.000000  \n",
       "1500820           2852.660000  \n",
       "1508430            526.166667  \n",
       "1510620            201.400000  \n",
       "\n",
       "[4281 rows x 11 columns]"
      ]
     },
     "execution_count": 117,
     "metadata": {},
     "output_type": "execute_result"
    }
   ],
   "source": [
    "avr_playtime_forever = df_reviews[['game_id','playtime_forever']].groupby(['game_id']).mean()\n",
    "df_general = pd.concat([df_general, avr_playtime_forever], axis=1)\n",
    "df_general = df_general.rename(columns={\"playtime_forever\" : \"avr_playtime_forever\"})\n",
    "df_general"
   ]
  },
  {
   "cell_type": "markdown",
   "metadata": {},
   "source": [
    "# Rearranging/renaming/removing columns"
   ]
  },
  {
   "cell_type": "code",
   "execution_count": 118,
   "metadata": {},
   "outputs": [
    {
     "data": {
      "text/plain": [
       "<AxesSubplot:>"
      ]
     },
     "execution_count": 118,
     "metadata": {},
     "output_type": "execute_result"
    },
    {
     "data": {
      "image/png": "[encoded data removed]",
      "text/plain": [
       "<Figure size 432x288 with 1 Axes>"
      ]
     },
     "metadata": {
      "needs_background": "light"
     },
     "output_type": "display_data"
    }
   ],
   "source": [
    "df_reviews['steam_purchase'].value_counts().plot.bar()"
   ]
  },
  {
   "cell_type": "code",
   "execution_count": 119,
   "metadata": {},
   "outputs": [
    {
     "data": {
      "text/plain": [
       "<AxesSubplot:>"
      ]
     },
     "execution_count": 119,
     "metadata": {},
     "output_type": "execute_result"
    },
    {
     "data": {
      "image/png": "[encoded data removed]",
      "text/plain": [
       "<Figure size 432x288 with 1 Axes>"
      ]
     },
     "metadata": {
      "needs_background": "light"
     },
     "output_type": "display_data"
    }
   ],
   "source": [
    "df_reviews['written_during_early_access'].value_counts().plot.bar()"
   ]
  },
  {
   "cell_type": "code",
   "execution_count": 120,
   "metadata": {},
   "outputs": [],
   "source": [
    "df_reviews.drop(['steam_purchase','written_during_early_access','playtime_last_two_weeks'], inplace=True, axis=1)"
   ]
  },
  {
   "cell_type": "code",
   "execution_count": 121,
   "metadata": {},
   "outputs": [],
   "source": [
    "df_reviews = df_reviews.rename(columns={\"review_score\": \"helpfulness_score\"})"
   ]
  },
  {
   "cell_type": "code",
   "execution_count": 122,
   "metadata": {},
   "outputs": [],
   "source": [
    "df_reviews = df_reviews.reindex(columns=['game_id', 'num_games_owned', 'num_reviews', 'playtime_forever',\n",
    "                                         'playtime_at_review', 'last_played',\n",
    "                                         'review_text','review_length','review_readability','comment_count',\n",
    "                                         'voted_up','votes_up', 'votes_funny', 'review_type','helpfulness_score'])"
   ]
  },
  {
   "cell_type": "code",
   "execution_count": 123,
   "metadata": {},
   "outputs": [
    {
     "data": {
      "text/plain": [
       "<AxesSubplot:>"
      ]
     },
     "execution_count": 123,
     "metadata": {},
     "output_type": "execute_result"
    },
    {
     "data": {
      "image/png": "[encoded data removed]",
      "text/plain": [
       "<Figure size 432x288 with 1 Axes>"
      ]
     },
     "metadata": {
      "needs_background": "light"
     },
     "output_type": "display_data"
    }
   ],
   "source": [
    "df_reviews['review_type'].value_counts().plot.bar()"
   ]
  },
  {
   "cell_type": "code",
   "execution_count": 124,
   "metadata": {},
   "outputs": [],
   "source": [
    "replace_review_type = {\"review_type\": {\"positive\":1,\"negative\":0}}\n",
    "df_reviews = df_reviews.replace(replace_review_type)"
   ]
  },
  {
   "cell_type": "markdown",
   "metadata": {},
   "source": [
    "# Data Description"
   ]
  },
  {
   "cell_type": "code",
   "execution_count": 125,
   "metadata": {},
   "outputs": [
    {
     "data": {
      "text/html": [
       "<div>\n",
       "<style scoped>\n",
       "    .dataframe tbody tr th:only-of-type {\n",
       "        vertical-align: middle;\n",
       "    }\n",
       "\n",
       "    .dataframe tbody tr th {\n",
       "        vertical-align: top;\n",
       "    }\n",
       "\n",
       "    .dataframe thead th {\n",
       "        text-align: right;\n",
       "    }\n",
       "</style>\n",
       "<table border=\"1\" class=\"dataframe\">\n",
       "  <thead>\n",
       "    <tr style=\"text-align: right;\">\n",
       "      <th></th>\n",
       "      <th>game_id</th>\n",
       "      <th>num_games_owned</th>\n",
       "      <th>num_reviews</th>\n",
       "      <th>playtime_forever</th>\n",
       "      <th>playtime_at_review</th>\n",
       "      <th>last_played</th>\n",
       "      <th>review_length</th>\n",
       "      <th>review_readability</th>\n",
       "      <th>comment_count</th>\n",
       "      <th>votes_up</th>\n",
       "      <th>votes_funny</th>\n",
       "      <th>review_type</th>\n",
       "      <th>helpfulness_score</th>\n",
       "    </tr>\n",
       "  </thead>\n",
       "  <tbody>\n",
       "    <tr>\n",
       "      <th>count</th>\n",
       "      <td>3.047156e+06</td>\n",
       "      <td>3.047156e+06</td>\n",
       "      <td>3.047156e+06</td>\n",
       "      <td>3.047156e+06</td>\n",
       "      <td>3.047156e+06</td>\n",
       "      <td>3.047156e+06</td>\n",
       "      <td>3.047156e+06</td>\n",
       "      <td>3.047156e+06</td>\n",
       "      <td>3.047156e+06</td>\n",
       "      <td>3.047156e+06</td>\n",
       "      <td>3.047156e+06</td>\n",
       "      <td>3.047156e+06</td>\n",
       "      <td>3.047156e+06</td>\n",
       "    </tr>\n",
       "    <tr>\n",
       "      <th>mean</th>\n",
       "      <td>9.513352e+04</td>\n",
       "      <td>1.797741e+02</td>\n",
       "      <td>1.786743e+01</td>\n",
       "      <td>2.487033e+04</td>\n",
       "      <td>1.360090e+04</td>\n",
       "      <td>1.547353e+09</td>\n",
       "      <td>1.969631e+02</td>\n",
       "      <td>6.247272e+00</td>\n",
       "      <td>1.520772e-01</td>\n",
       "      <td>1.880921e+00</td>\n",
       "      <td>1.663219e+05</td>\n",
       "      <td>9.214579e-01</td>\n",
       "      <td>1.871666e-01</td>\n",
       "    </tr>\n",
       "    <tr>\n",
       "      <th>std</th>\n",
       "      <td>2.606328e+05</td>\n",
       "      <td>3.911212e+02</td>\n",
       "      <td>6.422246e+01</td>\n",
       "      <td>5.590586e+04</td>\n",
       "      <td>3.538496e+04</td>\n",
       "      <td>1.477376e+08</td>\n",
       "      <td>5.569448e+02</td>\n",
       "      <td>1.419612e+03</td>\n",
       "      <td>1.714286e+00</td>\n",
       "      <td>2.788564e+01</td>\n",
       "      <td>2.672669e+07</td>\n",
       "      <td>2.690228e-01</td>\n",
       "      <td>2.495697e-01</td>\n",
       "    </tr>\n",
       "    <tr>\n",
       "      <th>min</th>\n",
       "      <td>1.000000e+01</td>\n",
       "      <td>0.000000e+00</td>\n",
       "      <td>1.000000e+00</td>\n",
       "      <td>0.000000e+00</td>\n",
       "      <td>1.000000e+00</td>\n",
       "      <td>0.000000e+00</td>\n",
       "      <td>1.000000e+00</td>\n",
       "      <td>-3.961000e+01</td>\n",
       "      <td>0.000000e+00</td>\n",
       "      <td>0.000000e+00</td>\n",
       "      <td>0.000000e+00</td>\n",
       "      <td>0.000000e+00</td>\n",
       "      <td>0.000000e+00</td>\n",
       "    </tr>\n",
       "    <tr>\n",
       "      <th>25%</th>\n",
       "      <td>7.300000e+02</td>\n",
       "      <td>2.600000e+01</td>\n",
       "      <td>2.000000e+00</td>\n",
       "      <td>7.520000e+02</td>\n",
       "      <td>4.260000e+02</td>\n",
       "      <td>1.526961e+09</td>\n",
       "      <td>1.600000e+01</td>\n",
       "      <td>-1.610000e+00</td>\n",
       "      <td>0.000000e+00</td>\n",
       "      <td>0.000000e+00</td>\n",
       "      <td>0.000000e+00</td>\n",
       "      <td>1.000000e+00</td>\n",
       "      <td>0.000000e+00</td>\n",
       "    </tr>\n",
       "    <tr>\n",
       "      <th>50%</th>\n",
       "      <td>4.000000e+03</td>\n",
       "      <td>7.800000e+01</td>\n",
       "      <td>5.000000e+00</td>\n",
       "      <td>3.378000e+03</td>\n",
       "      <td>1.714000e+03</td>\n",
       "      <td>1.589307e+09</td>\n",
       "      <td>5.300000e+01</td>\n",
       "      <td>4.610000e+00</td>\n",
       "      <td>0.000000e+00</td>\n",
       "      <td>0.000000e+00</td>\n",
       "      <td>0.000000e+00</td>\n",
       "      <td>1.000000e+00</td>\n",
       "      <td>0.000000e+00</td>\n",
       "    </tr>\n",
       "    <tr>\n",
       "      <th>75%</th>\n",
       "      <td>2.478000e+04</td>\n",
       "      <td>1.930000e+02</td>\n",
       "      <td>1.400000e+01</td>\n",
       "      <td>2.316400e+04</td>\n",
       "      <td>9.979000e+03</td>\n",
       "      <td>1.607895e+09</td>\n",
       "      <td>1.680000e+02</td>\n",
       "      <td>7.880000e+00</td>\n",
       "      <td>0.000000e+00</td>\n",
       "      <td>1.000000e+00</td>\n",
       "      <td>0.000000e+00</td>\n",
       "      <td>1.000000e+00</td>\n",
       "      <td>4.968366e-01</td>\n",
       "    </tr>\n",
       "    <tr>\n",
       "      <th>max</th>\n",
       "      <td>1.510620e+06</td>\n",
       "      <td>2.203400e+04</td>\n",
       "      <td>5.236000e+03</td>\n",
       "      <td>3.894437e+06</td>\n",
       "      <td>3.813573e+06</td>\n",
       "      <td>1.611414e+09</td>\n",
       "      <td>4.195800e+05</td>\n",
       "      <td>2.433519e+06</td>\n",
       "      <td>9.870000e+02</td>\n",
       "      <td>1.265200e+04</td>\n",
       "      <td>4.294967e+09</td>\n",
       "      <td>1.000000e+00</td>\n",
       "      <td>9.825376e-01</td>\n",
       "    </tr>\n",
       "  </tbody>\n",
       "</table>\n",
       "</div>"
      ],
      "text/plain": [
       "            game_id  num_games_owned   num_reviews  playtime_forever  \\\n",
       "count  3.047156e+06     3.047156e+06  3.047156e+06      3.047156e+06   \n",
       "mean   9.513352e+04     1.797741e+02  1.786743e+01      2.487033e+04   \n",
       "std    2.606328e+05     3.911212e+02  6.422246e+01      5.590586e+04   \n",
       "min    1.000000e+01     0.000000e+00  1.000000e+00      0.000000e+00   \n",
       "25%    7.300000e+02     2.600000e+01  2.000000e+00      7.520000e+02   \n",
       "50%    4.000000e+03     7.800000e+01  5.000000e+00      3.378000e+03   \n",
       "75%    2.478000e+04     1.930000e+02  1.400000e+01      2.316400e+04   \n",
       "max    1.510620e+06     2.203400e+04  5.236000e+03      3.894437e+06   \n",
       "\n",
       "       playtime_at_review   last_played  review_length  review_readability  \\\n",
       "count        3.047156e+06  3.047156e+06   3.047156e+06        3.047156e+06   \n",
       "mean         1.360090e+04  1.547353e+09   1.969631e+02        6.247272e+00   \n",
       "std          3.538496e+04  1.477376e+08   5.569448e+02        1.419612e+03   \n",
       "min          1.000000e+00  0.000000e+00   1.000000e+00       -3.961000e+01   \n",
       "25%          4.260000e+02  1.526961e+09   1.600000e+01       -1.610000e+00   \n",
       "50%          1.714000e+03  1.589307e+09   5.300000e+01        4.610000e+00   \n",
       "75%          9.979000e+03  1.607895e+09   1.680000e+02        7.880000e+00   \n",
       "max          3.813573e+06  1.611414e+09   4.195800e+05        2.433519e+06   \n",
       "\n",
       "       comment_count      votes_up   votes_funny   review_type  \\\n",
       "count   3.047156e+06  3.047156e+06  3.047156e+06  3.047156e+06   \n",
       "mean    1.520772e-01  1.880921e+00  1.663219e+05  9.214579e-01   \n",
       "std     1.714286e+00  2.788564e+01  2.672669e+07  2.690228e-01   \n",
       "min     0.000000e+00  0.000000e+00  0.000000e+00  0.000000e+00   \n",
       "25%     0.000000e+00  0.000000e+00  0.000000e+00  1.000000e+00   \n",
       "50%     0.000000e+00  0.000000e+00  0.000000e+00  1.000000e+00   \n",
       "75%     0.000000e+00  1.000000e+00  0.000000e+00  1.000000e+00   \n",
       "max     9.870000e+02  1.265200e+04  4.294967e+09  1.000000e+00   \n",
       "\n",
       "       helpfulness_score  \n",
       "count       3.047156e+06  \n",
       "mean        1.871666e-01  \n",
       "std         2.495697e-01  \n",
       "min         0.000000e+00  \n",
       "25%         0.000000e+00  \n",
       "50%         0.000000e+00  \n",
       "75%         4.968366e-01  \n",
       "max         9.825376e-01  "
      ]
     },
     "execution_count": 125,
     "metadata": {},
     "output_type": "execute_result"
    }
   ],
   "source": [
    "df_reviews.describe()"
   ]
  },
  {
   "cell_type": "code",
   "execution_count": 127,
   "metadata": {},
   "outputs": [
    {
     "data": {
      "text/plain": [
       "game_id               4.000000e+03\n",
       "num_games_owned       7.800000e+01\n",
       "num_reviews           5.000000e+00\n",
       "playtime_forever      3.378000e+03\n",
       "playtime_at_review    1.714000e+03\n",
       "last_played           1.589307e+09\n",
       "review_length         5.300000e+01\n",
       "review_readability    4.610000e+00\n",
       "comment_count         0.000000e+00\n",
       "voted_up              1.000000e+00\n",
       "votes_up              0.000000e+00\n",
       "votes_funny           0.000000e+00\n",
       "review_type           1.000000e+00\n",
       "helpfulness_score     0.000000e+00\n",
       "dtype: float64"
      ]
     },
     "execution_count": 127,
     "metadata": {},
     "output_type": "execute_result"
    }
   ],
   "source": [
    "df_reviews.median()"
   ]
  },
  {
   "cell_type": "code",
   "execution_count": 126,
   "metadata": {},
   "outputs": [
    {
     "data": {
      "text/html": [
       "<div>\n",
       "<style scoped>\n",
       "    .dataframe tbody tr th:only-of-type {\n",
       "        vertical-align: middle;\n",
       "    }\n",
       "\n",
       "    .dataframe tbody tr th {\n",
       "        vertical-align: top;\n",
       "    }\n",
       "\n",
       "    .dataframe thead th {\n",
       "        text-align: right;\n",
       "    }\n",
       "</style>\n",
       "<table border=\"1\" class=\"dataframe\">\n",
       "  <thead>\n",
       "    <tr style=\"text-align: right;\">\n",
       "      <th></th>\n",
       "      <th>price</th>\n",
       "      <th>overall_score</th>\n",
       "      <th>total_positive</th>\n",
       "      <th>total_negative</th>\n",
       "      <th>total_reviews</th>\n",
       "      <th>avr_play_time_at_review</th>\n",
       "      <th>avr_playtime_forever</th>\n",
       "    </tr>\n",
       "  </thead>\n",
       "  <tbody>\n",
       "    <tr>\n",
       "      <th>count</th>\n",
       "      <td>4281.000000</td>\n",
       "      <td>4281.000000</td>\n",
       "      <td>4281.000000</td>\n",
       "      <td>4281.000000</td>\n",
       "      <td>4281.000000</td>\n",
       "      <td>4281.000000</td>\n",
       "      <td>4281.000000</td>\n",
       "    </tr>\n",
       "    <tr>\n",
       "      <th>mean</th>\n",
       "      <td>862.168652</td>\n",
       "      <td>3.754029</td>\n",
       "      <td>681.067508</td>\n",
       "      <td>83.212801</td>\n",
       "      <td>764.280308</td>\n",
       "      <td>896.306993</td>\n",
       "      <td>1623.862058</td>\n",
       "    </tr>\n",
       "    <tr>\n",
       "      <th>std</th>\n",
       "      <td>1028.673445</td>\n",
       "      <td>3.416835</td>\n",
       "      <td>13837.349306</td>\n",
       "      <td>1764.809567</td>\n",
       "      <td>15535.580358</td>\n",
       "      <td>2975.449317</td>\n",
       "      <td>5672.729713</td>\n",
       "    </tr>\n",
       "    <tr>\n",
       "      <th>min</th>\n",
       "      <td>0.000000</td>\n",
       "      <td>0.000000</td>\n",
       "      <td>0.000000</td>\n",
       "      <td>0.000000</td>\n",
       "      <td>1.000000</td>\n",
       "      <td>1.000000</td>\n",
       "      <td>3.000000</td>\n",
       "    </tr>\n",
       "    <tr>\n",
       "      <th>25%</th>\n",
       "      <td>199.000000</td>\n",
       "      <td>0.000000</td>\n",
       "      <td>2.000000</td>\n",
       "      <td>1.000000</td>\n",
       "      <td>3.000000</td>\n",
       "      <td>68.428571</td>\n",
       "      <td>105.000000</td>\n",
       "    </tr>\n",
       "    <tr>\n",
       "      <th>50%</th>\n",
       "      <td>599.000000</td>\n",
       "      <td>5.000000</td>\n",
       "      <td>10.000000</td>\n",
       "      <td>3.000000</td>\n",
       "      <td>14.000000</td>\n",
       "      <td>226.500000</td>\n",
       "      <td>351.666667</td>\n",
       "    </tr>\n",
       "    <tr>\n",
       "      <th>75%</th>\n",
       "      <td>999.000000</td>\n",
       "      <td>7.000000</td>\n",
       "      <td>63.000000</td>\n",
       "      <td>17.000000</td>\n",
       "      <td>85.000000</td>\n",
       "      <td>639.804987</td>\n",
       "      <td>1053.514368</td>\n",
       "    </tr>\n",
       "    <tr>\n",
       "      <th>max</th>\n",
       "      <td>19999.000000</td>\n",
       "      <td>9.000000</td>\n",
       "      <td>840769.000000</td>\n",
       "      <td>113901.000000</td>\n",
       "      <td>954670.000000</td>\n",
       "      <td>59455.419497</td>\n",
       "      <td>134230.065153</td>\n",
       "    </tr>\n",
       "  </tbody>\n",
       "</table>\n",
       "</div>"
      ],
      "text/plain": [
       "              price  overall_score  total_positive  total_negative  \\\n",
       "count   4281.000000    4281.000000     4281.000000     4281.000000   \n",
       "mean     862.168652       3.754029      681.067508       83.212801   \n",
       "std     1028.673445       3.416835    13837.349306     1764.809567   \n",
       "min        0.000000       0.000000        0.000000        0.000000   \n",
       "25%      199.000000       0.000000        2.000000        1.000000   \n",
       "50%      599.000000       5.000000       10.000000        3.000000   \n",
       "75%      999.000000       7.000000       63.000000       17.000000   \n",
       "max    19999.000000       9.000000   840769.000000   113901.000000   \n",
       "\n",
       "       total_reviews  avr_play_time_at_review  avr_playtime_forever  \n",
       "count    4281.000000              4281.000000           4281.000000  \n",
       "mean      764.280308               896.306993           1623.862058  \n",
       "std     15535.580358              2975.449317           5672.729713  \n",
       "min         1.000000                 1.000000              3.000000  \n",
       "25%         3.000000                68.428571            105.000000  \n",
       "50%        14.000000               226.500000            351.666667  \n",
       "75%        85.000000               639.804987           1053.514368  \n",
       "max    954670.000000             59455.419497         134230.065153  "
      ]
     },
     "execution_count": 126,
     "metadata": {},
     "output_type": "execute_result"
    }
   ],
   "source": [
    "df_general.describe()"
   ]
  },
  {
   "cell_type": "code",
   "execution_count": 128,
   "metadata": {},
   "outputs": [
    {
     "data": {
      "text/plain": [
       "price                      599.000000\n",
       "overall_score                5.000000\n",
       "total_positive              10.000000\n",
       "total_negative               3.000000\n",
       "total_reviews               14.000000\n",
       "avr_play_time_at_review    226.500000\n",
       "avr_playtime_forever       351.666667\n",
       "dtype: float64"
      ]
     },
     "execution_count": 128,
     "metadata": {},
     "output_type": "execute_result"
    }
   ],
   "source": [
    "df_general.median()"
   ]
  },
  {
   "cell_type": "markdown",
   "metadata": {},
   "source": [
    "# Data analysis"
   ]
  },
  {
   "cell_type": "code",
   "execution_count": 188,
   "metadata": {},
   "outputs": [
    {
     "data": {
      "text/plain": [
       "game_id\n",
       "2100       999.0\n",
       "2450       499.0\n",
       "7200      2999.0\n",
       "11020        0.0\n",
       "13500      999.0\n",
       "           ...  \n",
       "48190     1999.0\n",
       "48220     1999.0\n",
       "48240     1999.0\n",
       "582160    5999.0\n",
       "584210       0.0\n",
       "Name: price, Length: 63, dtype: float64"
      ]
     },
     "execution_count": 188,
     "metadata": {},
     "output_type": "execute_result"
    }
   ],
   "source": [
    "df_general[df_general['publisher'] == 'Ubisoft'].price"
   ]
  },
  {
   "cell_type": "code",
   "execution_count": 192,
   "metadata": {},
   "outputs": [
    {
     "data": {
      "text/plain": [
       "9.658730158730158"
      ]
     },
     "execution_count": 192,
     "metadata": {},
     "output_type": "execute_result"
    }
   ],
   "source": [
    "df_general[df_general['publisher'] == 'Ubisoft'].price.mean()/100"
   ]
  },
  {
   "cell_type": "code",
   "execution_count": 191,
   "metadata": {},
   "outputs": [
    {
     "data": {
      "text/plain": [
       "7.025333333333333"
      ]
     },
     "execution_count": 191,
     "metadata": {},
     "output_type": "execute_result"
    }
   ],
   "source": [
    "df_general[df_general['publisher'] == 'Valve'].price.mean()/100"
   ]
  },
  {
   "cell_type": "code",
   "execution_count": 182,
   "metadata": {},
   "outputs": [
    {
     "data": {
      "text/plain": [
       "<AxesSubplot:>"
      ]
     },
     "execution_count": 182,
     "metadata": {},
     "output_type": "execute_result"
    },
    {
     "data": {
      "image/png": "[encoded data removed]",
      "text/plain": [
       "<Figure size 432x288 with 1 Axes>"
      ]
     },
     "metadata": {
      "needs_background": "light"
     },
     "output_type": "display_data"
    }
   ],
   "source": [
    "df_general['score_desc'].value_counts().plot.bar()"
   ]
  },
  {
   "cell_type": "code",
   "execution_count": 129,
   "metadata": {},
   "outputs": [],
   "source": [
    "df_general['genre'] = df_general['genre'].str.split(',',expand = True,)"
   ]
  },
  {
   "cell_type": "code",
   "execution_count": 130,
   "metadata": {},
   "outputs": [],
   "source": [
    "df_general.loc[df_general['genre'] ==\"Action Games\", 'genre'] = 'Action'"
   ]
  },
  {
   "cell_type": "code",
   "execution_count": 131,
   "metadata": {},
   "outputs": [],
   "source": [
    "genre_count = df_general['genre'].value_counts()"
   ]
  },
  {
   "cell_type": "code",
   "execution_count": 132,
   "metadata": {},
   "outputs": [],
   "source": [
    "genre_count = genre_count[genre_count >20]"
   ]
  },
  {
   "cell_type": "code",
   "execution_count": 133,
   "metadata": {},
   "outputs": [
    {
     "data": {
      "image/png": "[encoded data removed]",
      "text/plain": [
       "<Figure size 576x576 with 1 Axes>"
      ]
     },
     "metadata": {
      "needs_background": "light"
     },
     "output_type": "display_data"
    }
   ],
   "source": [
    "genre_count.sort_values(ascending=True).plot(kind='barh',figsize=(8,8))\n",
    "plt.savefig('genre.png')"
   ]
  },
  {
   "cell_type": "code",
   "execution_count": 134,
   "metadata": {},
   "outputs": [
    {
     "data": {
      "image/png": "[encoded data removed]",
      "text/plain": [
       "<Figure size 576x576 with 1 Axes>"
      ]
     },
     "metadata": {
      "needs_background": "light"
     },
     "output_type": "display_data"
    }
   ],
   "source": [
    "publisher_count = df_general.publisher.value_counts()\n",
    "publisher_count = publisher_count[publisher_count >23]\n",
    "publisher_count.sort_values(ascending=True).plot(kind='barh',figsize=(8,8))\n",
    "plt.savefig('publisher.png')"
   ]
  },
  {
   "cell_type": "code",
   "execution_count": 148,
   "metadata": {},
   "outputs": [],
   "source": [
    "df_test = df_general[['genre','total_reviews','total_negative','total_positive']].groupby('genre').sum()"
   ]
  },
  {
   "cell_type": "code",
   "execution_count": 149,
   "metadata": {},
   "outputs": [],
   "source": [
    "df_test = df_test[df_test['total_reviews'] > 40000]"
   ]
  },
  {
   "cell_type": "code",
   "execution_count": 150,
   "metadata": {},
   "outputs": [
    {
     "data": {
      "image/png": "[encoded data removed]",
      "text/plain": [
       "<Figure size 720x720 with 1 Axes>"
      ]
     },
     "metadata": {
      "needs_background": "light"
     },
     "output_type": "display_data"
    }
   ],
   "source": [
    "df_test.sort_values('total_reviews', ascending=True)[['total_negative','total_positive']].plot(kind='barh',stacked=True,figsize =(10,10))\n",
    "plt.savefig('reviews_per_genre.png')"
   ]
  },
  {
   "cell_type": "code",
   "execution_count": 151,
   "metadata": {},
   "outputs": [],
   "source": [
    "df_test = df_general[['publisher','total_reviews','total_negative','total_positive']].groupby('publisher').sum()"
   ]
  },
  {
   "cell_type": "code",
   "execution_count": 152,
   "metadata": {},
   "outputs": [],
   "source": [
    "df_test = df_test[df_test['total_reviews'] > 50000]"
   ]
  },
  {
   "cell_type": "code",
   "execution_count": 155,
   "metadata": {},
   "outputs": [
    {
     "data": {
      "image/png": "[encoded data removed]",
      "text/plain": [
       "<Figure size 576x576 with 1 Axes>"
      ]
     },
     "metadata": {
      "needs_background": "light"
     },
     "output_type": "display_data"
    }
   ],
   "source": [
    "df_test.sort_values('total_reviews', ascending=True)[['total_negative','total_positive']].plot(kind='barh',stacked=True,figsize =(8,8))\n",
    "plt.savefig('reviews_per_publisher.png')"
   ]
  },
  {
   "cell_type": "code",
   "execution_count": 193,
   "metadata": {},
   "outputs": [],
   "source": [
    "df_test2 = df_general.groupby('genre').mean()"
   ]
  },
  {
   "cell_type": "code",
   "execution_count": 195,
   "metadata": {
    "scrolled": true
   },
   "outputs": [
    {
     "data": {
      "image/png": "[encoded data removed]",
      "text/plain": [
       "<Figure size 576x576 with 1 Axes>"
      ]
     },
     "metadata": {
      "needs_background": "light"
     },
     "output_type": "display_data"
    }
   ],
   "source": [
    "df_test2[df_test2['avr_playtime_forever']>3000].sort_values('avr_play_time_at_review', ascending=True)[['avr_play_time_at_review','avr_playtime_forever']].plot(stacked=False,kind='barh',figsize=(8,8))\n",
    "plt.savefig('avrg_playtime.png')"
   ]
  },
  {
   "cell_type": "code",
   "execution_count": 135,
   "metadata": {},
   "outputs": [],
   "source": [
    "df_reviews_with_helpfulness_score = df_reviews[df_reviews.helpfulness_score != 0]"
   ]
  },
  {
   "cell_type": "code",
   "execution_count": 136,
   "metadata": {},
   "outputs": [],
   "source": [
    "df_new = df_reviews_with_helpfulness_score[df_reviews_with_helpfulness_score.review_readability < 20]"
   ]
  },
  {
   "cell_type": "code",
   "execution_count": 137,
   "metadata": {},
   "outputs": [],
   "source": [
    "df_new = df_new[df_new.review_readability > 4]"
   ]
  },
  {
   "cell_type": "code",
   "execution_count": 139,
   "metadata": {},
   "outputs": [
    {
     "data": {
      "text/plain": [
       "<AxesSubplot:xlabel='review_readability'>"
      ]
     },
     "execution_count": 139,
     "metadata": {},
     "output_type": "execute_result"
    },
    {
     "data": {
      "image/png": "[encoded data removed]",
      "text/plain": [
       "<Figure size 432x288 with 1 Axes>"
      ]
     },
     "metadata": {
      "needs_background": "light"
     },
     "output_type": "display_data"
    }
   ],
   "source": [
    "sns.boxplot(x=df_new[df_new.review_length <20]['review_readability'])"
   ]
  },
  {
   "cell_type": "code",
   "execution_count": 140,
   "metadata": {},
   "outputs": [
    {
     "data": {
      "text/plain": [
       "<AxesSubplot:xlabel='votes_up'>"
      ]
     },
     "execution_count": 140,
     "metadata": {},
     "output_type": "execute_result"
    },
    {
     "data": {
      "image/png": "[encoded data removed]",
      "text/plain": [
       "<Figure size 432x288 with 1 Axes>"
      ]
     },
     "metadata": {
      "needs_background": "light"
     },
     "output_type": "display_data"
    }
   ],
   "source": [
    "sns.boxplot(x=df_new[df_new['votes_up'] < 50]['votes_up'])"
   ]
  },
  {
   "cell_type": "code",
   "execution_count": 141,
   "metadata": {},
   "outputs": [
    {
     "data": {
      "text/plain": [
       "<AxesSubplot:xlabel='votes_funny'>"
      ]
     },
     "execution_count": 141,
     "metadata": {},
     "output_type": "execute_result"
    },
    {
     "data": {
      "image/png": "[encoded data removed]",
      "text/plain": [
       "<Figure size 432x288 with 1 Axes>"
      ]
     },
     "metadata": {
      "needs_background": "light"
     },
     "output_type": "display_data"
    }
   ],
   "source": [
    "sns.boxplot(x=df_new[df_new['votes_funny'] < 60]['votes_funny'])"
   ]
  },
  {
   "cell_type": "code",
   "execution_count": 142,
   "metadata": {},
   "outputs": [
    {
     "data": {
      "text/plain": [
       "<AxesSubplot:xlabel='comment_count'>"
      ]
     },
     "execution_count": 142,
     "metadata": {},
     "output_type": "execute_result"
    },
    {
     "data": {
      "image/png": "[encoded data removed]",
      "text/plain": [
       "<Figure size 432x288 with 1 Axes>"
      ]
     },
     "metadata": {
      "needs_background": "light"
     },
     "output_type": "display_data"
    }
   ],
   "source": [
    "sns.boxplot(x=df_new[df_new['comment_count'] < 5000]['comment_count'])"
   ]
  },
  {
   "cell_type": "code",
   "execution_count": 145,
   "metadata": {},
   "outputs": [],
   "source": [
    "df_positive = df_reviews_with_helpfulness_score[df_reviews_with_helpfulness_score.review_type == 1]\n",
    "df_negative = df_reviews_with_helpfulness_score[df_reviews_with_helpfulness_score.review_type == 0]"
   ]
  },
  {
   "cell_type": "code",
   "execution_count": 146,
   "metadata": {},
   "outputs": [
    {
     "data": {
      "text/plain": [
       "<AxesSubplot:>"
      ]
     },
     "execution_count": 146,
     "metadata": {},
     "output_type": "execute_result"
    },
    {
     "data": {
      "image/png": "[encoded data removed]",
      "text/plain": [
       "<Figure size 576x576 with 2 Axes>"
      ]
     },
     "metadata": {
      "needs_background": "light"
     },
     "output_type": "display_data"
    }
   ],
   "source": [
    "fig, ax = plt.subplots(figsize=(8, 8))\n",
    "corr = df_positive[[\"helpfulness_score\", \"review_length\",\"review_readability\"]].corr()\n",
    "mask = np.zeros_like(corr, dtype=np.bool)\n",
    "mask[np.triu_indices_from(mask)] = True\n",
    "sns.heatmap(corr, mask=mask,fmt=\".2f\",annot=True,ax=ax,cmap=\"RdBu\",vmin=-1,vmax=1,square=True,)"
   ]
  },
  {
   "cell_type": "code",
   "execution_count": 147,
   "metadata": {},
   "outputs": [
    {
     "data": {
      "text/plain": [
       "<AxesSubplot:>"
      ]
     },
     "execution_count": 147,
     "metadata": {},
     "output_type": "execute_result"
    },
    {
     "data": {
      "image/png": "[encoded data removed]",
      "text/plain": [
       "<Figure size 576x576 with 2 Axes>"
      ]
     },
     "metadata": {
      "needs_background": "light"
     },
     "output_type": "display_data"
    }
   ],
   "source": [
    "fig, ax = plt.subplots(figsize=(8, 8))\n",
    "corr = df_negative[[\"helpfulness_score\", \"review_length\",\"review_readability\"]].corr()\n",
    "mask = np.zeros_like(corr, dtype=np.bool)\n",
    "mask[np.triu_indices_from(mask)] = True\n",
    "sns.heatmap(corr, mask=mask,fmt=\".2f\",annot=True,ax=ax,cmap=\"RdBu\",vmin=-1,vmax=1,square=True,)"
   ]
  },
  {
   "cell_type": "code",
   "execution_count": 162,
   "metadata": {},
   "outputs": [
    {
     "data": {
      "text/html": [
       "<div>\n",
       "<style scoped>\n",
       "    .dataframe tbody tr th:only-of-type {\n",
       "        vertical-align: middle;\n",
       "    }\n",
       "\n",
       "    .dataframe tbody tr th {\n",
       "        vertical-align: top;\n",
       "    }\n",
       "\n",
       "    .dataframe thead th {\n",
       "        text-align: right;\n",
       "    }\n",
       "</style>\n",
       "<table border=\"1\" class=\"dataframe\">\n",
       "  <thead>\n",
       "    <tr style=\"text-align: right;\">\n",
       "      <th></th>\n",
       "      <th>playtime_at_review</th>\n",
       "      <th>review_length</th>\n",
       "      <th>review_readability</th>\n",
       "    </tr>\n",
       "    <tr>\n",
       "      <th>review_type</th>\n",
       "      <th></th>\n",
       "      <th></th>\n",
       "      <th></th>\n",
       "    </tr>\n",
       "  </thead>\n",
       "  <tbody>\n",
       "    <tr>\n",
       "      <th>0</th>\n",
       "      <td>239.0</td>\n",
       "      <td>168</td>\n",
       "      <td>6.73</td>\n",
       "    </tr>\n",
       "    <tr>\n",
       "      <th>1</th>\n",
       "      <td>2011.0</td>\n",
       "      <td>48</td>\n",
       "      <td>4.31</td>\n",
       "    </tr>\n",
       "  </tbody>\n",
       "</table>\n",
       "</div>"
      ],
      "text/plain": [
       "             playtime_at_review  review_length  review_readability\n",
       "review_type                                                       \n",
       "0                         239.0            168                6.73\n",
       "1                        2011.0             48                4.31"
      ]
     },
     "execution_count": 162,
     "metadata": {},
     "output_type": "execute_result"
    }
   ],
   "source": [
    "df_reviews[['review_type','playtime_at_review',\n",
    "        'review_length','review_readability']].groupby('review_type').median()"
   ]
  },
  {
   "cell_type": "code",
   "execution_count": 256,
   "metadata": {},
   "outputs": [],
   "source": [
    "a = df_reviews[['review_type','playtime_at_review',\n",
    "        'review_length','review_readability']].groupby('review_type')"
   ]
  },
  {
   "cell_type": "code",
   "execution_count": 319,
   "metadata": {},
   "outputs": [
    {
     "name": "stderr",
     "output_type": "stream",
     "text": [
      "c:\\users\\33754\\appdata\\local\\programs\\python\\python39\\lib\\site-packages\\pandas\\core\\generic.py:5168: SettingWithCopyWarning: \n",
      "A value is trying to be set on a copy of a slice from a DataFrame.\n",
      "Try using .loc[row_indexer,col_indexer] = value instead\n",
      "\n",
      "See the caveats in the documentation: https://pandas.pydata.org/pandas-docs/stable/user_guide/indexing.html#returning-a-view-versus-a-copy\n",
      "  self[name] = value\n"
     ]
    }
   ],
   "source": [
    "apos.playtime_at_review = apos.playtime_at_review/60"
   ]
  },
  {
   "cell_type": "code",
   "execution_count": 321,
   "metadata": {},
   "outputs": [
    {
     "name": "stderr",
     "output_type": "stream",
     "text": [
      "c:\\users\\33754\\appdata\\local\\programs\\python\\python39\\lib\\site-packages\\pandas\\core\\generic.py:5168: SettingWithCopyWarning: \n",
      "A value is trying to be set on a copy of a slice from a DataFrame.\n",
      "Try using .loc[row_indexer,col_indexer] = value instead\n",
      "\n",
      "See the caveats in the documentation: https://pandas.pydata.org/pandas-docs/stable/user_guide/indexing.html#returning-a-view-versus-a-copy\n",
      "  self[name] = value\n"
     ]
    }
   ],
   "source": [
    "aneg.playtime_at_review = aneg.playtime_at_review/60"
   ]
  },
  {
   "cell_type": "code",
   "execution_count": 329,
   "metadata": {},
   "outputs": [
    {
     "data": {
      "text/plain": [
       "<matplotlib.legend.Legend at 0x1d53c31cb50>"
      ]
     },
     "execution_count": 329,
     "metadata": {},
     "output_type": "execute_result"
    },
    {
     "data": {
      "image/png": "[encoded data removed]",
      "text/plain": [
       "<Figure size 432x288 with 1 Axes>"
      ]
     },
     "metadata": {
      "needs_background": "light"
     },
     "output_type": "display_data"
    }
   ],
   "source": [
    "apos[apos.playtime_at_review <500]['playtime_at_review'].plot(kind='kde',xlim=(0,200),style = 'b-',label = 'Positive reviews')\n",
    "aneg[aneg.playtime_at_review<200]['playtime_at_review'].plot(kind='kde',xlim=(0,200),style ='r-',label ='Negative reviews')\n",
    "#plt.axvline(2011/60,linewidth=2, color='black')\n",
    "#plt.axvline(239/60,linewidth=2, color='black')\n",
    "plt.legend()"
   ]
  },
  {
   "cell_type": "code",
   "execution_count": 317,
   "metadata": {},
   "outputs": [],
   "source": [
    "a1 = df_reviews[['review_type','playtime_at_review',\n",
    "        'review_length','review_readability']]"
   ]
  },
  {
   "cell_type": "code",
   "execution_count": 318,
   "metadata": {},
   "outputs": [],
   "source": [
    "apos = a1[a1.review_type==1]\n",
    "aneg = a1[a1.review_type==0]"
   ]
  },
  {
   "cell_type": "code",
   "execution_count": 246,
   "metadata": {},
   "outputs": [
    {
     "data": {
      "text/plain": [
       "<AxesSubplot:ylabel='Density'>"
      ]
     },
     "execution_count": 246,
     "metadata": {},
     "output_type": "execute_result"
    },
    {
     "data": {
      "image/png": "[encoded data removed]",
      "text/plain": [
       "<Figure size 432x288 with 1 Axes>"
      ]
     },
     "metadata": {
      "needs_background": "light"
     },
     "output_type": "display_data"
    }
   ],
   "source": [
    "a1[a1.review_length <1000].review_length.plot(kind='kde',xlim=(10,1000))"
   ]
  },
  {
   "cell_type": "code",
   "execution_count": 300,
   "metadata": {},
   "outputs": [
    {
     "data": {
      "text/plain": [
       "<matplotlib.lines.Line2D at 0x1d5b2313be0>"
      ]
     },
     "execution_count": 300,
     "metadata": {},
     "output_type": "execute_result"
    },
    {
     "data": {
      "image/png": "[encoded data removed]",
      "text/plain": [
       "<Figure size 432x288 with 1 Axes>"
      ]
     },
     "metadata": {
      "needs_background": "light"
     },
     "output_type": "display_data"
    }
   ],
   "source": [
    "aneg.review_length.plot(kind='kde',xlim=(0,2000),style='r-',label='Negative reviews')\n",
    "apos.review_length.plot(kind='kde',xlim=(0,2000),style='b-',label='Positive reviews')\n",
    "plt.legend()\n",
    "plt.axvline(168,linewidth=2, color='black')\n",
    "plt.axvline(48,linewidth=2, color='black')\n",
    "#plt.legend(framealpha=1, frameon=True)"
   ]
  },
  {
   "cell_type": "code",
   "execution_count": null,
   "metadata": {},
   "outputs": [],
   "source": [
    "aneg.review_length.plot(kind='kde',xlim=(0,2000),style='r-',label='Negative reviews')\n",
    "apos.review_length.plot(kind='kde',xlim=(0,2000),style='b-',label='Positive reviews')\n",
    "plt.legend();\n",
    "plt.axvline(168,linewidth=2, color='black')\n",
    "plt.axvline(48,linewidth=2, color='black')\n",
    "#plt.legend(framealpha=1, frameon=True)"
   ]
  },
  {
   "cell_type": "code",
   "execution_count": null,
   "metadata": {},
   "outputs": [],
   "source": []
  },
  {
   "cell_type": "markdown",
   "metadata": {},
   "source": [
    "### Players tend to write longer negative reviews with a higher level of readability, It means that negatives reviews are a valuable asset for new consumers or developers "
   ]
  },
  {
   "cell_type": "code",
   "execution_count": 158,
   "metadata": {},
   "outputs": [
    {
     "data": {
      "text/plain": [
       "87.59981438429801"
      ]
     },
     "execution_count": 158,
     "metadata": {},
     "output_type": "execute_result"
    }
   ],
   "source": [
    "len(df_reviews[df_reviews['num_games_owned'] > 10])/len(df_reviews)*100"
   ]
  },
  {
   "cell_type": "markdown",
   "metadata": {},
   "source": [
    "### The number of games that the reviewer own can't really be a factor since 87.5% of reviewer have more than 10 games"
   ]
  },
  {
   "cell_type": "code",
   "execution_count": 160,
   "metadata": {},
   "outputs": [
    {
     "data": {
      "text/plain": [
       "66572"
      ]
     },
     "execution_count": 160,
     "metadata": {},
     "output_type": "execute_result"
    }
   ],
   "source": [
    "len(df_reviews[df_reviews['num_games_owned'] == df_reviews['num_reviews']])"
   ]
  },
  {
   "cell_type": "markdown",
   "metadata": {},
   "source": [
    "### Sometimes it's suspicious when the reviewer has a number of reviews equals to the number of games he owns. Even though 2.18 % is low, it accounts for 66572 reviews"
   ]
  },
  {
   "cell_type": "code",
   "execution_count": 178,
   "metadata": {},
   "outputs": [],
   "source": [
    "cond = (df_reviews['playtime_forever'] == df_reviews['playtime_at_review']) & df_reviews['review_type'] == 1\n",
    "cond2 = (df_reviews['playtime_forever'] == df_reviews['playtime_at_review']) & (df_reviews['review_type'] == 0)"
   ]
  },
  {
   "cell_type": "code",
   "execution_count": 180,
   "metadata": {},
   "outputs": [
    {
     "data": {
      "text/plain": [
       "0.04043015848220439"
      ]
     },
     "execution_count": 180,
     "metadata": {},
     "output_type": "execute_result"
    }
   ],
   "source": [
    "len(df_reviews[cond2])/len(df_reviews)"
   ]
  },
  {
   "cell_type": "code",
   "execution_count": 181,
   "metadata": {},
   "outputs": [
    {
     "data": {
      "text/plain": [
       "0.13586537742078186"
      ]
     },
     "execution_count": 181,
     "metadata": {},
     "output_type": "execute_result"
    }
   ],
   "source": [
    "len(df_reviews[cond])/len(df_reviews)"
   ]
  }
 ],
 "metadata": {
  "kernelspec": {
   "display_name": "Python 3",
   "language": "python",
   "name": "python3"
  },
  "language_info": {
   "codemirror_mode": {
    "name": "ipython",
    "version": 3
   },
   "file_extension": ".py",
   "mimetype": "text/x-python",
   "name": "python",
   "nbconvert_exporter": "python",
   "pygments_lexer": "ipython3",
   "version": "3.9.0"
  }
 },
 "nbformat": 4,
 "nbformat_minor": 4
}
